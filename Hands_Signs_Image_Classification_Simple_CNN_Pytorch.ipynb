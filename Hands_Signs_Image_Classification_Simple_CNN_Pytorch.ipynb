{
  "nbformat": 4,
  "nbformat_minor": 0,
  "metadata": {
    "colab": {
      "name": "Hands_Signs_Image_Classification_Simple_CNN_Pytorch.ipynb",
      "provenance": [],
      "collapsed_sections": [],
      "mount_file_id": "1i41lbesLX6Xjkn55aqgR-JxTFdDwVx-o",
      "authorship_tag": "ABX9TyMoN5N6TVESafFJarmZNcQp",
      "include_colab_link": true
    },
    "kernelspec": {
      "name": "python3",
      "display_name": "Python 3"
    },
    "language_info": {
      "name": "python"
    },
    "accelerator": "GPU"
  },
  "cells": [
    {
      "cell_type": "markdown",
      "metadata": {
        "id": "view-in-github",
        "colab_type": "text"
      },
      "source": [
        "<a href=\"https://colab.research.google.com/github/Abdulhamid97Mousa/Hand_Signs_Data/blob/main/Hands_Signs_Image_Classification_Simple_CNN_Pytorch.ipynb\" target=\"_parent\"><img src=\"https://colab.research.google.com/assets/colab-badge.svg\" alt=\"Open In Colab\"/></a>"
      ]
    },
    {
      "cell_type": "code",
      "execution_count": 41,
      "metadata": {
        "id": "eO7ftPVAGWan"
      },
      "outputs": [],
      "source": [
        "import errno, os\n",
        "import requests\n",
        "import scipy.io as sio\n",
        "import numpy as np\n",
        "\n",
        "from os import listdir\n",
        "from os.path import isfile, join\n",
        "from zipfile import ZipFile \n",
        "from sklearn.model_selection import train_test_split\n",
        "\n",
        "# Pytorch\n",
        "import torch\n",
        "from torch import nn\n",
        "from torch.nn import functional as F\n",
        "from torch import Tensor\n",
        "from torch.utils.data import TensorDataset, DataLoader\n",
        "from torch import optim\n",
        "from torch.nn.modules.loss import CrossEntropyLoss\n",
        "\n",
        "# Others\n",
        "from IPython.core.debugger import set_trace\n",
        "from pathlib import Path"
      ]
    },
    {
      "cell_type": "code",
      "source": [
        "from google.colab import drive\n",
        "drive.mount('/content/drive')"
      ],
      "metadata": {
        "colab": {
          "base_uri": "https://localhost:8080/"
        },
        "id": "oiNEkS9AGagI",
        "outputId": "eeddc617-d1c5-4d8a-f1ea-f9b4280cc875"
      },
      "execution_count": 42,
      "outputs": [
        {
          "output_type": "stream",
          "name": "stdout",
          "text": [
            "Drive already mounted at /content/drive; to attempt to forcibly remount, call drive.mount(\"/content/drive\", force_remount=True).\n"
          ]
        }
      ]
    },
    {
      "cell_type": "code",
      "source": [
        "print(os.getcwd())\n",
        "filename = os.path.join(os.getcwd(), 'repo.zip')\n",
        "print(filename)"
      ],
      "metadata": {
        "colab": {
          "base_uri": "https://localhost:8080/"
        },
        "id": "dve8L8ZtG4_O",
        "outputId": "37ca0e47-b869-4533-f874-330996449485"
      },
      "execution_count": 43,
      "outputs": [
        {
          "output_type": "stream",
          "name": "stdout",
          "text": [
            "/content\n",
            "/content/repo.zip\n"
          ]
        }
      ]
    },
    {
      "cell_type": "code",
      "source": [
        "filename = os.path.join(os.getcwd(), 'repo.zip')\n",
        "url = 'https://github.com/Abdulhamid97Mousa/Hand_Signs_Data/archive/refs/heads/main.zip'\n",
        "\n",
        "\n",
        "r = requests.get(url)\n",
        "print(filename)\n",
        "with open(filename, 'wb') as f:\n",
        "    f.write(r.content)\n",
        "\n",
        "\n",
        "file_name = \"/content/repo.zip\"\n",
        "with ZipFile(file_name, 'r') as zip: \n",
        "    # printing all the contents of the zip file \n",
        "  \n",
        "    # extracting all the files \n",
        "    print('Extracting all the files now...') \n",
        "    zip.extractall() \n",
        "    print('Finished Extracting!') "
      ],
      "metadata": {
        "colab": {
          "base_uri": "https://localhost:8080/"
        },
        "id": "yBikeCtAJAsE",
        "outputId": "d5967502-01f8-4ab1-a4e6-89eaba4097f7"
      },
      "execution_count": 44,
      "outputs": [
        {
          "output_type": "stream",
          "name": "stdout",
          "text": [
            "/content/repo.zip\n",
            "Extracting all the files now...\n",
            "Finished Extracting!\n"
          ]
        }
      ]
    },
    {
      "cell_type": "code",
      "source": [
        "def create_dir(dir):\n",
        "  if not os.path.exists(dir):\n",
        "    os.makedirs(dir)\n",
        "    print(\"Created Directory : \", dir)\n",
        "  else:\n",
        "    print(\"Directory already existed : \", dir)\n",
        "  return dir"
      ],
      "metadata": {
        "id": "iQ33um2IWc2-"
      },
      "execution_count": 45,
      "outputs": []
    },
    {
      "cell_type": "code",
      "source": [
        "data = create_dir(\"/content/Data\")"
      ],
      "metadata": {
        "colab": {
          "base_uri": "https://localhost:8080/"
        },
        "id": "E88qIi2SWIlh",
        "outputId": "dbe2638d-2c27-4594-f1f2-51731503145b"
      },
      "execution_count": 46,
      "outputs": [
        {
          "output_type": "stream",
          "name": "stdout",
          "text": [
            "Directory already existed :  /content/Data\n"
          ]
        }
      ]
    },
    {
      "cell_type": "code",
      "source": [
        "file_name = \"/content/Hand_Signs_Data-main/gesture_images.zip\"\n",
        "with ZipFile(file_name, 'r') as zip: \n",
        "    # printing all the contents of the zip file \n",
        "  \n",
        "    # extracting all the files \n",
        "    print('Extracting all the files now...')\n",
        "    zip.extractall(data) \n",
        "    print('Finished Extracting!') "
      ],
      "metadata": {
        "colab": {
          "base_uri": "https://localhost:8080/"
        },
        "id": "b9_o7t94Uk9l",
        "outputId": "3fb87bab-2eb9-493c-e3b7-c5517fa85922"
      },
      "execution_count": 47,
      "outputs": [
        {
          "output_type": "stream",
          "name": "stdout",
          "text": [
            "Extracting all the files now...\n",
            "Finished Extracting!\n"
          ]
        }
      ]
    },
    {
      "cell_type": "markdown",
      "source": [
        "# 3. Edit the downloaded data"
      ],
      "metadata": {
        "id": "iEWOgBV8JdKO"
      }
    },
    {
      "cell_type": "code",
      "source": [
        "import os\n",
        "from matplotlib import image\n",
        "from matplotlib import pyplot\n",
        "import matplotlib.pyplot as plt\n",
        "from tqdm import tqdm"
      ],
      "metadata": {
        "id": "rto3IYMeJuaW"
      },
      "execution_count": 48,
      "outputs": []
    },
    {
      "cell_type": "code",
      "source": [
        "def load_images(folder):\n",
        "    images = []\n",
        "    for filename in os.listdir(folder):\n",
        "        img = image.imread(os.path.join(folder, filename))\n",
        "        if img is not None:\n",
        "            images.append(img)\n",
        "    return images"
      ],
      "metadata": {
        "id": "7yirt5xgJcu8"
      },
      "execution_count": 49,
      "outputs": []
    },
    {
      "cell_type": "code",
      "source": [
        "# ------------------ getting image files -------------------- #\n",
        "A_0 = load_images('/content/Data/A0')\n",
        "A_1 = load_images('/content/Data/A1')\n",
        "A_2 = load_images('/content/Data/A2')\n",
        "A_3 = load_images('/content/Data/A3')\n",
        "A_4 = load_images('/content/Data/A4')\n",
        "A_5 = load_images('/content/Data/A5')\n",
        "A_6 = load_images('/content/Data/A6')\n",
        "A_7 = load_images('/content/Data/A7')\n",
        "A_8 = load_images('/content/Data/A8')\n",
        "A_9 = load_images('/content/Data/A9')"
      ],
      "metadata": {
        "id": "deKbipaqJcXD"
      },
      "execution_count": 50,
      "outputs": []
    },
    {
      "cell_type": "code",
      "source": [
        "# --------------------- knowing the number of images in each file ----------- #\n",
        "print(len(A_0))\n",
        "print(len(A_1))\n",
        "print(len(A_2))\n",
        "print(len(A_3))\n",
        "print(len(A_4))\n",
        "print(len(A_5))\n",
        "print(len(A_6))\n",
        "print(len(A_7))\n",
        "print(len(A_8))\n",
        "print(len(A_9))"
      ],
      "metadata": {
        "colab": {
          "base_uri": "https://localhost:8080/"
        },
        "id": "je4YLfZbXxnE",
        "outputId": "04a5f1b6-fc40-421e-a9dd-a7bdbefe83f1"
      },
      "execution_count": 51,
      "outputs": [
        {
          "output_type": "stream",
          "name": "stdout",
          "text": [
            "159\n",
            "160\n",
            "160\n",
            "160\n",
            "160\n",
            "160\n",
            "160\n",
            "160\n",
            "160\n",
            "160\n"
          ]
        }
      ]
    },
    {
      "cell_type": "code",
      "source": [
        "from PIL import Image"
      ],
      "metadata": {
        "id": "RIyWPg53X3Ja"
      },
      "execution_count": 52,
      "outputs": []
    },
    {
      "cell_type": "code",
      "source": [
        "# load the image\n",
        "img = Image.open('/content/Data/A0/00321.jpg')\n",
        "# summarize some details about the image\n",
        "print(img.format)\n",
        "print(img.mode)\n",
        "print(img.size)"
      ],
      "metadata": {
        "colab": {
          "base_uri": "https://localhost:8080/"
        },
        "id": "GlG6Sg7aXz7h",
        "outputId": "bf546518-408a-4e6f-fc20-e4f20d323d9c"
      },
      "execution_count": 53,
      "outputs": [
        {
          "output_type": "stream",
          "name": "stdout",
          "text": [
            "JPEG\n",
            "RGB\n",
            "(100, 100)\n"
          ]
        }
      ]
    },
    {
      "cell_type": "code",
      "source": [
        "import matplotlib.pyplot as plt"
      ],
      "metadata": {
        "id": "VwwZk-JfYSHv"
      },
      "execution_count": 54,
      "outputs": []
    },
    {
      "cell_type": "code",
      "source": [
        "# load image as pixel array\n",
        "single_image = image.imread('/content/Data/A0/00009.jpg')\n",
        "# summarize shape of the pixel array\n",
        "print(single_image.dtype)\n",
        "print(single_image.shape)\n",
        "print()\n",
        "plt.show()"
      ],
      "metadata": {
        "colab": {
          "base_uri": "https://localhost:8080/"
        },
        "id": "0kS2DJItYMTO",
        "outputId": "52e20fdb-bf93-430c-8354-2513ff251ec1"
      },
      "execution_count": 55,
      "outputs": [
        {
          "output_type": "stream",
          "name": "stdout",
          "text": [
            "uint8\n",
            "(100, 100, 3)\n",
            "\n"
          ]
        }
      ]
    },
    {
      "cell_type": "code",
      "source": [
        "single_image_1 = image.imread('/content/Data/A0/00009.jpg')\n",
        "plt.hist(np.array(single_image_1).ravel(), bins=50, density=True)\n",
        "plt.xlabel(\"pixel values\")\n",
        "plt.ylabel(\"relative frequency\")\n",
        "plt.title(\"distribution of pixels\")\n",
        "plt.show()"
      ],
      "metadata": {
        "colab": {
          "base_uri": "https://localhost:8080/",
          "height": 295
        },
        "id": "Jx6MRRPoZKSj",
        "outputId": "2864d1dc-03f1-4afb-b940-7eb94aaf5422"
      },
      "execution_count": 56,
      "outputs": [
        {
          "output_type": "display_data",
          "data": {
            "text/plain": [
              "<Figure size 432x288 with 1 Axes>"
            ],
            "image/png": "[encoded data removed]"
          },
          "metadata": {
            "needs_background": "light"
          }
        }
      ]
    },
    {
      "cell_type": "code",
      "source": [
        "import torchvision.transforms as transforms"
      ],
      "metadata": {
        "id": "im_YDKauZYEY"
      },
      "execution_count": 57,
      "outputs": []
    },
    {
      "cell_type": "code",
      "source": [
        "transform = transforms.Compose(\n",
        "    [transforms.ToTensor(),\n",
        "     transforms.Normalize(mean=(0.5, 0.5, 0.5), std=(0.5, 0.5, 0.5))])\n",
        "normalized_img = transform(single_image_1)"
      ],
      "metadata": {
        "id": "b7vkyrb2ZSjB"
      },
      "execution_count": 58,
      "outputs": []
    },
    {
      "cell_type": "code",
      "source": [
        "plt.hist(np.array(normalized_img).ravel(), bins=50, density=True)\n",
        "plt.xlabel(\"pixel values\")\n",
        "plt.ylabel(\"relative frequency\")\n",
        "plt.title(\"distribution of pixels\")\n",
        "plt.show()"
      ],
      "metadata": {
        "colab": {
          "base_uri": "https://localhost:8080/",
          "height": 295
        },
        "id": "8boJoc4rZPdt",
        "outputId": "6b531d49-0c7e-43b1-bc5b-d2d06bc04ad5"
      },
      "execution_count": 59,
      "outputs": [
        {
          "output_type": "display_data",
          "data": {
            "text/plain": [
              "<Figure size 432x288 with 1 Axes>"
            ],
            "image/png": "[encoded data removed]"
          },
          "metadata": {
            "needs_background": "light"
          }
        }
      ]
    },
    {
      "cell_type": "markdown",
      "source": [
        "## **Imagefolder of pytorch**\n",
        "\n",
        "Torchvision has implemented common datasets in advance, including the previously used cifar-10 and datasets such as Imagenet, coco, MNIST and lsun, which can be called through torchvision.datasets.cifar10. Here is a frequently used dataset – imagefolder.\n",
        "\n",
        "Imagefolder assumes that all files are saved in folders. Pictures of the same category are stored in each folder. The folder name is class name, and its constructor is as follows:"
      ],
      "metadata": {
        "id": "AV771gUdAfiE"
      }
    },
    {
      "cell_type": "code",
      "source": [
        "from torchvision.datasets import ImageFolder"
      ],
      "metadata": {
        "id": "-2a2nk8xA8Jb"
      },
      "execution_count": 60,
      "outputs": []
    },
    {
      "cell_type": "code",
      "source": [
        "dataset = ImageFolder('/content/Data', transform=transform)"
      ],
      "metadata": {
        "id": "mtB_ByM-_9r_"
      },
      "execution_count": 61,
      "outputs": []
    },
    {
      "cell_type": "code",
      "source": [
        "print(dataset.imgs)"
      ],
      "metadata": {
        "colab": {
          "base_uri": "https://localhost:8080/"
        },
        "id": "6caYJXz2BH1u",
        "outputId": "811a1616-4587-48e8-e575-99e4996bf9f4"
      },
      "execution_count": 62,
      "outputs": [
        {
          "output_type": "stream",
          "name": "stdout",
          "text": [
            "[('/content/Data/A0/00009.jpg', 0), ('/content/Data/A0/00019.jpg', 0), ('/content/Data/A0/00029.jpg', 0), ('/content/Data/A0/00039.jpg', 0), ('/content/Data/A0/00049.jpg', 0), ('/content/Data/A0/00060.jpg', 0), ('/content/Data/A0/00070.jpg', 0), ('/content/Data/A0/00080.jpg', 0), ('/content/Data/A0/00090.jpg', 0), ('/content/Data/A0/00100.jpg', 0), ('/content/Data/A0/00110.jpg', 0), ('/content/Data/A0/00120.jpg', 0), ('/content/Data/A0/00130.jpg', 0), ('/content/Data/A0/00140.jpg', 0), ('/content/Data/A0/00150.jpg', 0), ('/content/Data/A0/00160.jpg', 0), ('/content/Data/A0/00170.jpg', 0), ('/content/Data/A0/00180.jpg', 0), ('/content/Data/A0/00190.jpg', 0), ('/content/Data/A0/00200.jpg', 0), ('/content/Data/A0/00210.jpg', 0), ('/content/Data/A0/00220.jpg', 0), ('/content/Data/A0/00230.jpg', 0), ('/content/Data/A0/00240.jpg', 0), ('/content/Data/A0/00250.jpg', 0), ('/content/Data/A0/00260.jpg', 0), ('/content/Data/A0/00271.jpg', 0), ('/content/Data/A0/00281.jpg', 0), ('/content/Data/A0/00291.jpg', 0), ('/content/Data/A0/00301.jpg', 0), ('/content/Data/A0/00311.jpg', 0), ('/content/Data/A0/00321.jpg', 0), ('/content/Data/A0/00331.jpg', 0), ('/content/Data/A0/00341.jpg', 0), ('/content/Data/A0/00351.jpg', 0), ('/content/Data/A0/00361.jpg', 0), ('/content/Data/A0/00371.jpg', 0), ('/content/Data/A0/00381.jpg', 0), ('/content/Data/A0/00391.jpg', 0), ('/content/Data/A0/00401.jpg', 0), ('/content/Data/A0/00421.jpg', 0), ('/content/Data/A0/00431.jpg', 0), ('/content/Data/A0/00441.jpg', 0), ('/content/Data/A0/00452.jpg', 0), ('/content/Data/A0/00462.jpg', 0), ('/content/Data/A0/00473.jpg', 0), ('/content/Data/A0/00477.jpg', 0), ('/content/Data/A0/00478.jpg', 0), ('/content/Data/A0/00488.jpg', 0), ('/content/Data/A0/00498.jpg', 0), ('/content/Data/A0/00517.jpg', 0), ('/content/Data/A0/00518.jpg', 0), ('/content/Data/A0/00528.jpg', 0), ('/content/Data/A0/00538.jpg', 0), ('/content/Data/A0/00548.jpg', 0), ('/content/Data/A0/00558.jpg', 0), ('/content/Data/A0/00577.jpg', 0), ('/content/Data/A0/00587.jpg', 0), ('/content/Data/A0/00597.jpg', 0), ('/content/Data/A0/00607.jpg', 0), ('/content/Data/A0/00617.jpg', 0), ('/content/Data/A0/00627.jpg', 0), ('/content/Data/A0/00637.jpg', 0), ('/content/Data/A0/00647.jpg', 0), ('/content/Data/A0/00657.jpg', 0), ('/content/Data/A0/00667.jpg', 0), ('/content/Data/A0/00677.jpg', 0), ('/content/Data/A0/00688.jpg', 0), ('/content/Data/A0/00698.jpg', 0), ('/content/Data/A0/00708.jpg', 0), ('/content/Data/A0/00718.jpg', 0), ('/content/Data/A0/00728.jpg', 0), ('/content/Data/A0/00738.jpg', 0), ('/content/Data/A0/00748.jpg', 0), ('/content/Data/A0/00758.jpg', 0), ('/content/Data/A0/00768.jpg', 0), ('/content/Data/A0/00778.jpg', 0), ('/content/Data/A0/00788.jpg', 0), ('/content/Data/A0/00798.jpg', 0), ('/content/Data/A0/00808.jpg', 0), ('/content/Data/A0/00818.jpg', 0), ('/content/Data/A0/00828.jpg', 0), ('/content/Data/A0/00838.jpg', 0), ('/content/Data/A0/00848.jpg', 0), ('/content/Data/A0/00858.jpg', 0), ('/content/Data/A0/00868.jpg', 0), ('/content/Data/A0/00869.jpg', 0), ('/content/Data/A0/00888.jpg', 0), ('/content/Data/A0/00898.jpg', 0), ('/content/Data/A0/00908.jpg', 0), ('/content/Data/A0/00918.jpg', 0), ('/content/Data/A0/00928.jpg', 0), ('/content/Data/A0/00938.jpg', 0), ('/content/Data/A0/00948.jpg', 0), ('/content/Data/A0/00958.jpg', 0), ('/content/Data/A0/00967.jpg', 0), ('/content/Data/A0/00978.jpg', 0), ('/content/Data/A0/00988.jpg', 0), ('/content/Data/A0/00998.jpg', 0), ('/content/Data/A0/01008.jpg', 0), ('/content/Data/A0/01018.jpg', 0), ('/content/Data/A0/01028.jpg', 0), ('/content/Data/A0/01038.jpg', 0), ('/content/Data/A0/01048.jpg', 0), ('/content/Data/A0/01058.jpg', 0), ('/content/Data/A0/01068.jpg', 0), ('/content/Data/A0/01078.jpg', 0), ('/content/Data/A0/01088.jpg', 0), ('/content/Data/A0/01098.jpg', 0), ('/content/Data/A0/01117.jpg', 0), ('/content/Data/A0/01127.jpg', 0), ('/content/Data/A0/01137.jpg', 0), ('/content/Data/A0/01147.jpg', 0), ('/content/Data/A0/01157.jpg', 0), ('/content/Data/A0/01167.jpg', 0), ('/content/Data/A0/01177.jpg', 0), ('/content/Data/A0/01187.jpg', 0), ('/content/Data/A0/01197.jpg', 0), ('/content/Data/A0/01207.jpg', 0), ('/content/Data/A0/01217.jpg', 0), ('/content/Data/A0/01227.jpg', 0), ('/content/Data/A0/01237.jpg', 0), ('/content/Data/A0/01247.jpg', 0), ('/content/Data/A0/01257.jpg', 0), ('/content/Data/A0/01267.jpg', 0), ('/content/Data/A0/01277.jpg', 0), ('/content/Data/A0/01287.jpg', 0), ('/content/Data/A0/01297.jpg', 0), ('/content/Data/A0/01307.jpg', 0), ('/content/Data/A0/01317.jpg', 0), ('/content/Data/A0/01327.jpg', 0), ('/content/Data/A0/01337.jpg', 0), ('/content/Data/A0/01347.jpg', 0), ('/content/Data/A0/01357.jpg', 0), ('/content/Data/A0/01367.jpg', 0), ('/content/Data/A0/01377.jpg', 0), ('/content/Data/A0/01387.jpg', 0), ('/content/Data/A0/01397.jpg', 0), ('/content/Data/A0/01407.jpg', 0), ('/content/Data/A0/01417.jpg', 0), ('/content/Data/A0/01427.jpg', 0), ('/content/Data/A0/01437.jpg', 0), ('/content/Data/A0/01446.jpg', 0), ('/content/Data/A0/01456.jpg', 0), ('/content/Data/A0/01466.jpg', 0), ('/content/Data/A0/01476.jpg', 0), ('/content/Data/A0/01486.jpg', 0), ('/content/Data/A0/01496.jpg', 0), ('/content/Data/A0/01506.jpg', 0), ('/content/Data/A0/01516.jpg', 0), ('/content/Data/A0/01526.jpg', 0), ('/content/Data/A0/01536.jpg', 0), ('/content/Data/A0/01546.jpg', 0), ('/content/Data/A0/01556.jpg', 0), ('/content/Data/A0/01566.jpg', 0), ('/content/Data/A0/01576.jpg', 0), ('/content/Data/A0/01596.jpg', 0), ('/content/Data/A0/01616.jpg', 0), ('/content/Data/A0/01626.jpg', 0), ('/content/Data/A1/00000.jpg', 1), ('/content/Data/A1/00020.jpg', 1), ('/content/Data/A1/00030.jpg', 1), ('/content/Data/A1/00040.jpg', 1), ('/content/Data/A1/00050.jpg', 1), ('/content/Data/A1/00061.jpg', 1), ('/content/Data/A1/00071.jpg', 1), ('/content/Data/A1/00081.jpg', 1), ('/content/Data/A1/00091.jpg', 1), ('/content/Data/A1/00101.jpg', 1), ('/content/Data/A1/00111.jpg', 1), ('/content/Data/A1/00121.jpg', 1), ('/content/Data/A1/00131.jpg', 1), ('/content/Data/A1/00141.jpg', 1), ('/content/Data/A1/00151.jpg', 1), ('/content/Data/A1/00161.jpg', 1), ('/content/Data/A1/00171.jpg', 1), ('/content/Data/A1/00181.jpg', 1), ('/content/Data/A1/00191.jpg', 1), ('/content/Data/A1/00201.jpg', 1), ('/content/Data/A1/00211.jpg', 1), ('/content/Data/A1/00221.jpg', 1), ('/content/Data/A1/00231.jpg', 1), ('/content/Data/A1/00241.jpg', 1), ('/content/Data/A1/00251.jpg', 1), ('/content/Data/A1/00261.jpg', 1), ('/content/Data/A1/00272.jpg', 1), ('/content/Data/A1/00282.jpg', 1), ('/content/Data/A1/00292.jpg', 1), ('/content/Data/A1/00302.jpg', 1), ('/content/Data/A1/00312.jpg', 1), ('/content/Data/A1/00322.jpg', 1), ('/content/Data/A1/00332.jpg', 1), ('/content/Data/A1/00342.jpg', 1), ('/content/Data/A1/00352.jpg', 1), ('/content/Data/A1/00362.jpg', 1), ('/content/Data/A1/00372.jpg', 1), ('/content/Data/A1/00382.jpg', 1), ('/content/Data/A1/00392.jpg', 1), ('/content/Data/A1/00402.jpg', 1), ('/content/Data/A1/00412.jpg', 1), ('/content/Data/A1/00422.jpg', 1), ('/content/Data/A1/00432.jpg', 1), ('/content/Data/A1/00442.jpg', 1), ('/content/Data/A1/00453.jpg', 1), ('/content/Data/A1/00463.jpg', 1), ('/content/Data/A1/00474.jpg', 1), ('/content/Data/A1/00479.jpg', 1), ('/content/Data/A1/00497.jpg', 1), ('/content/Data/A1/00507.jpg', 1), ('/content/Data/A1/00508.jpg', 1), ('/content/Data/A1/00527.jpg', 1), ('/content/Data/A1/00537.jpg', 1), ('/content/Data/A1/00547.jpg', 1), ('/content/Data/A1/00559.jpg', 1), ('/content/Data/A1/00568.jpg', 1), ('/content/Data/A1/00578.jpg', 1), ('/content/Data/A1/00588.jpg', 1), ('/content/Data/A1/00598.jpg', 1), ('/content/Data/A1/00608.jpg', 1), ('/content/Data/A1/00618.jpg', 1), ('/content/Data/A1/00628.jpg', 1), ('/content/Data/A1/00638.jpg', 1), ('/content/Data/A1/00648.jpg', 1), ('/content/Data/A1/00658.jpg', 1), ('/content/Data/A1/00668.jpg', 1), ('/content/Data/A1/00679.jpg', 1), ('/content/Data/A1/00689.jpg', 1), ('/content/Data/A1/00699.jpg', 1), ('/content/Data/A1/00709.jpg', 1), ('/content/Data/A1/00719.jpg', 1), ('/content/Data/A1/00729.jpg', 1), ('/content/Data/A1/00739.jpg', 1), ('/content/Data/A1/00749.jpg', 1), ('/content/Data/A1/00759.jpg', 1), ('/content/Data/A1/00769.jpg', 1), ('/content/Data/A1/00779.jpg', 1), ('/content/Data/A1/00789.jpg', 1), ('/content/Data/A1/00799.jpg', 1), ('/content/Data/A1/00809.jpg', 1), ('/content/Data/A1/00819.jpg', 1), ('/content/Data/A1/00829.jpg', 1), ('/content/Data/A1/00839.jpg', 1), ('/content/Data/A1/00849.jpg', 1), ('/content/Data/A1/00859.jpg', 1), ('/content/Data/A1/00878.jpg', 1), ('/content/Data/A1/00889.jpg', 1), ('/content/Data/A1/00899.jpg', 1), ('/content/Data/A1/00909.jpg', 1), ('/content/Data/A1/00919.jpg', 1), ('/content/Data/A1/00929.jpg', 1), ('/content/Data/A1/00939.jpg', 1), ('/content/Data/A1/00949.jpg', 1), ('/content/Data/A1/00959.jpg', 1), ('/content/Data/A1/00969.jpg', 1), ('/content/Data/A1/00979.jpg', 1), ('/content/Data/A1/00989.jpg', 1), ('/content/Data/A1/00999.jpg', 1), ('/content/Data/A1/01009.jpg', 1), ('/content/Data/A1/01019.jpg', 1), ('/content/Data/A1/01029.jpg', 1), ('/content/Data/A1/01039.jpg', 1), ('/content/Data/A1/01049.jpg', 1), ('/content/Data/A1/01059.jpg', 1), ('/content/Data/A1/01069.jpg', 1), ('/content/Data/A1/01079.jpg', 1), ('/content/Data/A1/01089.jpg', 1), ('/content/Data/A1/01099.jpg', 1), ('/content/Data/A1/01108.jpg', 1), ('/content/Data/A1/01118.jpg', 1), ('/content/Data/A1/01128.jpg', 1), ('/content/Data/A1/01138.jpg', 1), ('/content/Data/A1/01148.jpg', 1), ('/content/Data/A1/01158.jpg', 1), ('/content/Data/A1/01168.jpg', 1), ('/content/Data/A1/01178.jpg', 1), ('/content/Data/A1/01188.jpg', 1), ('/content/Data/A1/01198.jpg', 1), ('/content/Data/A1/01208.jpg', 1), ('/content/Data/A1/01218.jpg', 1), ('/content/Data/A1/01228.jpg', 1), ('/content/Data/A1/01238.jpg', 1), ('/content/Data/A1/01248.jpg', 1), ('/content/Data/A1/01258.jpg', 1), ('/content/Data/A1/01268.jpg', 1), ('/content/Data/A1/01278.jpg', 1), ('/content/Data/A1/01288.jpg', 1), ('/content/Data/A1/01298.jpg', 1), ('/content/Data/A1/01308.jpg', 1), ('/content/Data/A1/01318.jpg', 1), ('/content/Data/A1/01328.jpg', 1), ('/content/Data/A1/01338.jpg', 1), ('/content/Data/A1/01348.jpg', 1), ('/content/Data/A1/01358.jpg', 1), ('/content/Data/A1/01368.jpg', 1), ('/content/Data/A1/01378.jpg', 1), ('/content/Data/A1/01388.jpg', 1), ('/content/Data/A1/01398.jpg', 1), ('/content/Data/A1/01408.jpg', 1), ('/content/Data/A1/01418.jpg', 1), ('/content/Data/A1/01428.jpg', 1), ('/content/Data/A1/01438.jpg', 1), ('/content/Data/A1/01447.jpg', 1), ('/content/Data/A1/01457.jpg', 1), ('/content/Data/A1/01467.jpg', 1), ('/content/Data/A1/01477.jpg', 1), ('/content/Data/A1/01487.jpg', 1), ('/content/Data/A1/01497.jpg', 1), ('/content/Data/A1/01507.jpg', 1), ('/content/Data/A1/01517.jpg', 1), ('/content/Data/A1/01527.jpg', 1), ('/content/Data/A1/01537.jpg', 1), ('/content/Data/A1/01547.jpg', 1), ('/content/Data/A1/01557.jpg', 1), ('/content/Data/A1/01567.jpg', 1), ('/content/Data/A1/01577.jpg', 1), ('/content/Data/A1/01587.jpg', 1), ('/content/Data/A1/01597.jpg', 1), ('/content/Data/A1/01607.jpg', 1), ('/content/Data/A1/01617.jpg', 1), ('/content/Data/A2/00001.jpg', 2), ('/content/Data/A2/00021.jpg', 2), ('/content/Data/A2/00031.jpg', 2), ('/content/Data/A2/00062.jpg', 2), ('/content/Data/A2/00072.jpg', 2), ('/content/Data/A2/00082.jpg', 2), ('/content/Data/A2/00092.jpg', 2), ('/content/Data/A2/00102.jpg', 2), ('/content/Data/A2/00112.jpg', 2), ('/content/Data/A2/00122.jpg', 2), ('/content/Data/A2/00132.jpg', 2), ('/content/Data/A2/00142.jpg', 2), ('/content/Data/A2/00152.jpg', 2), ('/content/Data/A2/00162.jpg', 2), ('/content/Data/A2/00172.jpg', 2), ('/content/Data/A2/00182.jpg', 2), ('/content/Data/A2/00192.jpg', 2), ('/content/Data/A2/00202.jpg', 2), ('/content/Data/A2/00212.jpg', 2), ('/content/Data/A2/00222.jpg', 2), ('/content/Data/A2/00232.jpg', 2), ('/content/Data/A2/00242.jpg', 2), ('/content/Data/A2/00252.jpg', 2), ('/content/Data/A2/00262.jpg', 2), ('/content/Data/A2/00273.jpg', 2), ('/content/Data/A2/00283.jpg', 2), ('/content/Data/A2/00293.jpg', 2), ('/content/Data/A2/00303.jpg', 2), ('/content/Data/A2/00313.jpg', 2), ('/content/Data/A2/00323.jpg', 2), ('/content/Data/A2/00333.jpg', 2), ('/content/Data/A2/00343.jpg', 2), ('/content/Data/A2/00353.jpg', 2), ('/content/Data/A2/00363.jpg', 2), ('/content/Data/A2/00373.jpg', 2), ('/content/Data/A2/00383.jpg', 2), ('/content/Data/A2/00393.jpg', 2), ('/content/Data/A2/00403.jpg', 2), ('/content/Data/A2/00413.jpg', 2), ('/content/Data/A2/00423.jpg', 2), ('/content/Data/A2/00433.jpg', 2), ('/content/Data/A2/00443.jpg', 2), ('/content/Data/A2/00454.jpg', 2), ('/content/Data/A2/00464.jpg', 2), ('/content/Data/A2/00475.jpg', 2), ('/content/Data/A2/00480.jpg', 2), ('/content/Data/A2/00496.jpg', 2), ('/content/Data/A2/00506.jpg', 2), ('/content/Data/A2/00509.jpg', 2), ('/content/Data/A2/00526.jpg', 2), ('/content/Data/A2/00536.jpg', 2), ('/content/Data/A2/00546.jpg', 2), ('/content/Data/A2/00550.jpg', 2), ('/content/Data/A2/00560.jpg', 2), ('/content/Data/A2/00569.jpg', 2), ('/content/Data/A2/00579.jpg', 2), ('/content/Data/A2/00589.jpg', 2), ('/content/Data/A2/00599.jpg', 2), ('/content/Data/A2/00609.jpg', 2), ('/content/Data/A2/00619.jpg', 2), ('/content/Data/A2/00629.jpg', 2), ('/content/Data/A2/00639.jpg', 2), ('/content/Data/A2/00649.jpg', 2), ('/content/Data/A2/00659.jpg', 2), ('/content/Data/A2/00669.jpg', 2), ('/content/Data/A2/00680.jpg', 2), ('/content/Data/A2/00690.jpg', 2), ('/content/Data/A2/00700.jpg', 2), ('/content/Data/A2/00710.jpg', 2), ('/content/Data/A2/00720.jpg', 2), ('/content/Data/A2/00730.jpg', 2), ('/content/Data/A2/00740.jpg', 2), ('/content/Data/A2/00750.jpg', 2), ('/content/Data/A2/00760.jpg', 2), ('/content/Data/A2/00770.jpg', 2), ('/content/Data/A2/00780.jpg', 2), ('/content/Data/A2/00790.jpg', 2), ('/content/Data/A2/00800.jpg', 2), ('/content/Data/A2/00810.jpg', 2), ('/content/Data/A2/00820.jpg', 2), ('/content/Data/A2/00830.jpg', 2), ('/content/Data/A2/00840.jpg', 2), ('/content/Data/A2/00850.jpg', 2), ('/content/Data/A2/00860.jpg', 2), ('/content/Data/A2/00877.jpg', 2), ('/content/Data/A2/00880.jpg', 2), ('/content/Data/A2/00890.jpg', 2), ('/content/Data/A2/00900.jpg', 2), ('/content/Data/A2/00910.jpg', 2), ('/content/Data/A2/00920.jpg', 2), ('/content/Data/A2/00930.jpg', 2), ('/content/Data/A2/00940.jpg', 2), ('/content/Data/A2/00950.jpg', 2), ('/content/Data/A2/00960.jpg', 2), ('/content/Data/A2/00970.jpg', 2), ('/content/Data/A2/00980.jpg', 2), ('/content/Data/A2/00990.jpg', 2), ('/content/Data/A2/01000.jpg', 2), ('/content/Data/A2/01010.jpg', 2), ('/content/Data/A2/01020.jpg', 2), ('/content/Data/A2/01030.jpg', 2), ('/content/Data/A2/01040.jpg', 2), ('/content/Data/A2/01050.jpg', 2), ('/content/Data/A2/01060.jpg', 2), ('/content/Data/A2/01070.jpg', 2), ('/content/Data/A2/01080.jpg', 2), ('/content/Data/A2/01090.jpg', 2), ('/content/Data/A2/01100.jpg', 2), ('/content/Data/A2/01109.jpg', 2), ('/content/Data/A2/01119.jpg', 2), ('/content/Data/A2/01129.jpg', 2), ('/content/Data/A2/01139.jpg', 2), ('/content/Data/A2/01149.jpg', 2), ('/content/Data/A2/01159.jpg', 2), ('/content/Data/A2/01169.jpg', 2), ('/content/Data/A2/01179.jpg', 2), ('/content/Data/A2/01189.jpg', 2), ('/content/Data/A2/01199.jpg', 2), ('/content/Data/A2/01209.jpg', 2), ('/content/Data/A2/01219.jpg', 2), ('/content/Data/A2/01229.jpg', 2), ('/content/Data/A2/01239.jpg', 2), ('/content/Data/A2/01249.jpg', 2), ('/content/Data/A2/01259.jpg', 2), ('/content/Data/A2/01269.jpg', 2), ('/content/Data/A2/01279.jpg', 2), ('/content/Data/A2/01289.jpg', 2), ('/content/Data/A2/01299.jpg', 2), ('/content/Data/A2/01309.jpg', 2), ('/content/Data/A2/01319.jpg', 2), ('/content/Data/A2/01329.jpg', 2), ('/content/Data/A2/01339.jpg', 2), ('/content/Data/A2/01349.jpg', 2), ('/content/Data/A2/01359.jpg', 2), ('/content/Data/A2/01369.jpg', 2), ('/content/Data/A2/01379.jpg', 2), ('/content/Data/A2/01389.jpg', 2), ('/content/Data/A2/01399.jpg', 2), ('/content/Data/A2/01409.jpg', 2), ('/content/Data/A2/01419.jpg', 2), ('/content/Data/A2/01429.jpg', 2), ('/content/Data/A2/01439.jpg', 2), ('/content/Data/A2/01448.jpg', 2), ('/content/Data/A2/01458.jpg', 2), ('/content/Data/A2/01468.jpg', 2), ('/content/Data/A2/01478.jpg', 2), ('/content/Data/A2/01488.jpg', 2), ('/content/Data/A2/01498.jpg', 2), ('/content/Data/A2/01508.jpg', 2), ('/content/Data/A2/01518.jpg', 2), ('/content/Data/A2/01528.jpg', 2), ('/content/Data/A2/01538.jpg', 2), ('/content/Data/A2/01548.jpg', 2), ('/content/Data/A2/01558.jpg', 2), ('/content/Data/A2/01568.jpg', 2), ('/content/Data/A2/01578.jpg', 2), ('/content/Data/A2/01588.jpg', 2), ('/content/Data/A2/01598.jpg', 2), ('/content/Data/A2/01608.jpg', 2), ('/content/Data/A2/01618.jpg', 2), ('/content/Data/A3/00002.jpg', 3), ('/content/Data/A3/00012.jpg', 3), ('/content/Data/A3/00022.jpg', 3), ('/content/Data/A3/00032.jpg', 3), ('/content/Data/A3/00042.jpg', 3), ('/content/Data/A3/00052.jpg', 3), ('/content/Data/A3/00063.jpg', 3), ('/content/Data/A3/00073.jpg', 3), ('/content/Data/A3/00083.jpg', 3), ('/content/Data/A3/00093.jpg', 3), ('/content/Data/A3/00103.jpg', 3), ('/content/Data/A3/00113.jpg', 3), ('/content/Data/A3/00123.jpg', 3), ('/content/Data/A3/00133.jpg', 3), ('/content/Data/A3/00143.jpg', 3), ('/content/Data/A3/00153.jpg', 3), ('/content/Data/A3/00163.jpg', 3), ('/content/Data/A3/00173.jpg', 3), ('/content/Data/A3/00183.jpg', 3), ('/content/Data/A3/00193.jpg', 3), ('/content/Data/A3/00203.jpg', 3), ('/content/Data/A3/00213.jpg', 3), ('/content/Data/A3/00223.jpg', 3), ('/content/Data/A3/00233.jpg', 3), ('/content/Data/A3/00243.jpg', 3), ('/content/Data/A3/00253.jpg', 3), ('/content/Data/A3/00263.jpg', 3), ('/content/Data/A3/00274.jpg', 3), ('/content/Data/A3/00294.jpg', 3), ('/content/Data/A3/00304.jpg', 3), ('/content/Data/A3/00314.jpg', 3), ('/content/Data/A3/00324.jpg', 3), ('/content/Data/A3/00334.jpg', 3), ('/content/Data/A3/00344.jpg', 3), ('/content/Data/A3/00354.jpg', 3), ('/content/Data/A3/00364.jpg', 3), ('/content/Data/A3/00374.jpg', 3), ('/content/Data/A3/00384.jpg', 3), ('/content/Data/A3/00394.jpg', 3), ('/content/Data/A3/00404.jpg', 3), ('/content/Data/A3/00414.jpg', 3), ('/content/Data/A3/00424.jpg', 3), ('/content/Data/A3/00434.jpg', 3), ('/content/Data/A3/00445.jpg', 3), ('/content/Data/A3/00455.jpg', 3), ('/content/Data/A3/00466.jpg', 3), ('/content/Data/A3/00476.jpg', 3), ('/content/Data/A3/00481.jpg', 3), ('/content/Data/A3/00495.jpg', 3), ('/content/Data/A3/00505.jpg', 3), ('/content/Data/A3/00510.jpg', 3), ('/content/Data/A3/00525.jpg', 3), ('/content/Data/A3/00535.jpg', 3), ('/content/Data/A3/00545.jpg', 3), ('/content/Data/A3/00552.jpg', 3), ('/content/Data/A3/00561.jpg', 3), ('/content/Data/A3/00570.jpg', 3), ('/content/Data/A3/00580.jpg', 3), ('/content/Data/A3/00590.jpg', 3), ('/content/Data/A3/00600.jpg', 3), ('/content/Data/A3/00610.jpg', 3), ('/content/Data/A3/00620.jpg', 3), ('/content/Data/A3/00630.jpg', 3), ('/content/Data/A3/00640.jpg', 3), ('/content/Data/A3/00650.jpg', 3), ('/content/Data/A3/00660.jpg', 3), ('/content/Data/A3/00670.jpg', 3), ('/content/Data/A3/00681.jpg', 3), ('/content/Data/A3/00691.jpg', 3), ('/content/Data/A3/00701.jpg', 3), ('/content/Data/A3/00711.jpg', 3), ('/content/Data/A3/00721.jpg', 3), ('/content/Data/A3/00731.jpg', 3), ('/content/Data/A3/00741.jpg', 3), ('/content/Data/A3/00751.jpg', 3), ('/content/Data/A3/00761.jpg', 3), ('/content/Data/A3/00771.jpg', 3), ('/content/Data/A3/00781.jpg', 3), ('/content/Data/A3/00791.jpg', 3), ('/content/Data/A3/00801.jpg', 3), ('/content/Data/A3/00811.jpg', 3), ('/content/Data/A3/00821.jpg', 3), ('/content/Data/A3/00831.jpg', 3), ('/content/Data/A3/00841.jpg', 3), ('/content/Data/A3/00851.jpg', 3), ('/content/Data/A3/00861.jpg', 3), ('/content/Data/A3/00874.jpg', 3), ('/content/Data/A3/00881.jpg', 3), ('/content/Data/A3/00901.jpg', 3), ('/content/Data/A3/00911.jpg', 3), ('/content/Data/A3/00921.jpg', 3), ('/content/Data/A3/00931.jpg', 3), ('/content/Data/A3/00941.jpg', 3), ('/content/Data/A3/00951.jpg', 3), ('/content/Data/A3/00961.jpg', 3), ('/content/Data/A3/00971.jpg', 3), ('/content/Data/A3/00981.jpg', 3), ('/content/Data/A3/00991.jpg', 3), ('/content/Data/A3/01001.jpg', 3), ('/content/Data/A3/01011.jpg', 3), ('/content/Data/A3/01021.jpg', 3), ('/content/Data/A3/01031.jpg', 3), ('/content/Data/A3/01041.jpg', 3), ('/content/Data/A3/01051.jpg', 3), ('/content/Data/A3/01061.jpg', 3), ('/content/Data/A3/01071.jpg', 3), ('/content/Data/A3/01081.jpg', 3), ('/content/Data/A3/01091.jpg', 3), ('/content/Data/A3/01110.jpg', 3), ('/content/Data/A3/01120.jpg', 3), ('/content/Data/A3/01130.jpg', 3), ('/content/Data/A3/01140.jpg', 3), ('/content/Data/A3/01150.jpg', 3), ('/content/Data/A3/01160.jpg', 3), ('/content/Data/A3/01170.jpg', 3), ('/content/Data/A3/01180.jpg', 3), ('/content/Data/A3/01190.jpg', 3), ('/content/Data/A3/01200.jpg', 3), ('/content/Data/A3/01210.jpg', 3), ('/content/Data/A3/01220.jpg', 3), ('/content/Data/A3/01230.jpg', 3), ('/content/Data/A3/01240.jpg', 3), ('/content/Data/A3/01250.jpg', 3), ('/content/Data/A3/01260.jpg', 3), ('/content/Data/A3/01270.jpg', 3), ('/content/Data/A3/01280.jpg', 3), ('/content/Data/A3/01290.jpg', 3), ('/content/Data/A3/01300.jpg', 3), ('/content/Data/A3/01310.jpg', 3), ('/content/Data/A3/01320.jpg', 3), ('/content/Data/A3/01330.jpg', 3), ('/content/Data/A3/01340.jpg', 3), ('/content/Data/A3/01350.jpg', 3), ('/content/Data/A3/01360.jpg', 3), ('/content/Data/A3/01370.jpg', 3), ('/content/Data/A3/01380.jpg', 3), ('/content/Data/A3/01390.jpg', 3), ('/content/Data/A3/01400.jpg', 3), ('/content/Data/A3/01410.jpg', 3), ('/content/Data/A3/01420.jpg', 3), ('/content/Data/A3/01430.jpg', 3), ('/content/Data/A3/01440.jpg', 3), ('/content/Data/A3/01449.jpg', 3), ('/content/Data/A3/01459.jpg', 3), ('/content/Data/A3/01469.jpg', 3), ('/content/Data/A3/01479.jpg', 3), ('/content/Data/A3/01489.jpg', 3), ('/content/Data/A3/01499.jpg', 3), ('/content/Data/A3/01509.jpg', 3), ('/content/Data/A3/01519.jpg', 3), ('/content/Data/A3/01529.jpg', 3), ('/content/Data/A3/01539.jpg', 3), ('/content/Data/A3/01549.jpg', 3), ('/content/Data/A3/01559.jpg', 3), ('/content/Data/A3/01569.jpg', 3), ('/content/Data/A3/01579.jpg', 3), ('/content/Data/A3/01589.jpg', 3), ('/content/Data/A3/01599.jpg', 3), ('/content/Data/A3/01609.jpg', 3), ('/content/Data/A3/01619.jpg', 3), ('/content/Data/A4/00003.jpg', 4), ('/content/Data/A4/00023.jpg', 4), ('/content/Data/A4/00033.jpg', 4), ('/content/Data/A4/00043.jpg', 4), ('/content/Data/A4/00054.jpg', 4), ('/content/Data/A4/00064.jpg', 4), ('/content/Data/A4/00074.jpg', 4), ('/content/Data/A4/00084.jpg', 4), ('/content/Data/A4/00094.jpg', 4), ('/content/Data/A4/00104.jpg', 4), ('/content/Data/A4/00124.jpg', 4), ('/content/Data/A4/00134.jpg', 4), ('/content/Data/A4/00144.jpg', 4), ('/content/Data/A4/00154.jpg', 4), ('/content/Data/A4/00164.jpg', 4), ('/content/Data/A4/00174.jpg', 4), ('/content/Data/A4/00184.jpg', 4), ('/content/Data/A4/00194.jpg', 4), ('/content/Data/A4/00204.jpg', 4), ('/content/Data/A4/00214.jpg', 4), ('/content/Data/A4/00224.jpg', 4), ('/content/Data/A4/00234.jpg', 4), ('/content/Data/A4/00244.jpg', 4), ('/content/Data/A4/00254.jpg', 4), ('/content/Data/A4/00264.jpg', 4), ('/content/Data/A4/00275.jpg', 4), ('/content/Data/A4/00285.jpg', 4), ('/content/Data/A4/00295.jpg', 4), ('/content/Data/A4/00305.jpg', 4), ('/content/Data/A4/00315.jpg', 4), ('/content/Data/A4/00325.jpg', 4), ('/content/Data/A4/00335.jpg', 4), ('/content/Data/A4/00345.jpg', 4), ('/content/Data/A4/00355.jpg', 4), ('/content/Data/A4/00365.jpg', 4), ('/content/Data/A4/00375.jpg', 4), ('/content/Data/A4/00385.jpg', 4), ('/content/Data/A4/00395.jpg', 4), ('/content/Data/A4/00405.jpg', 4), ('/content/Data/A4/00415.jpg', 4), ('/content/Data/A4/00425.jpg', 4), ('/content/Data/A4/00435.jpg', 4), ('/content/Data/A4/00446.jpg', 4), ('/content/Data/A4/00456.jpg', 4), ('/content/Data/A4/00467.jpg', 4), ('/content/Data/A4/00482.jpg', 4), ('/content/Data/A4/00494.jpg', 4), ('/content/Data/A4/00504.jpg', 4), ('/content/Data/A4/00511.jpg', 4), ('/content/Data/A4/00524.jpg', 4), ('/content/Data/A4/00534.jpg', 4), ('/content/Data/A4/00544.jpg', 4), ('/content/Data/A4/00552.jpg', 4), ('/content/Data/A4/00562.jpg', 4), ('/content/Data/A4/00571.jpg', 4), ('/content/Data/A4/00581.jpg', 4), ('/content/Data/A4/00591.jpg', 4), ('/content/Data/A4/00601.jpg', 4), ('/content/Data/A4/00611.jpg', 4), ('/content/Data/A4/00621.jpg', 4), ('/content/Data/A4/00631.jpg', 4), ('/content/Data/A4/00641.jpg', 4), ('/content/Data/A4/00651.jpg', 4), ('/content/Data/A4/00661.jpg', 4), ('/content/Data/A4/00671.jpg', 4), ('/content/Data/A4/00682.jpg', 4), ('/content/Data/A4/00692.jpg', 4), ('/content/Data/A4/00702.jpg', 4), ('/content/Data/A4/00712.jpg', 4), ('/content/Data/A4/00722.jpg', 4), ('/content/Data/A4/00732.jpg', 4), ('/content/Data/A4/00742.jpg', 4), ('/content/Data/A4/00752.jpg', 4), ('/content/Data/A4/00762.jpg', 4), ('/content/Data/A4/00772.jpg', 4), ('/content/Data/A4/00782.jpg', 4), ('/content/Data/A4/00792.jpg', 4), ('/content/Data/A4/00802.jpg', 4), ('/content/Data/A4/00812.jpg', 4), ('/content/Data/A4/00822.jpg', 4), ('/content/Data/A4/00832.jpg', 4), ('/content/Data/A4/00842.jpg', 4), ('/content/Data/A4/00852.jpg', 4), ('/content/Data/A4/00862.jpg', 4), ('/content/Data/A4/00875.jpg', 4), ('/content/Data/A4/00882.jpg', 4), ('/content/Data/A4/00892.jpg', 4), ('/content/Data/A4/00902.jpg', 4), ('/content/Data/A4/00912.jpg', 4), ('/content/Data/A4/00922.jpg', 4), ('/content/Data/A4/00932.jpg', 4), ('/content/Data/A4/00942.jpg', 4), ('/content/Data/A4/00952.jpg', 4), ('/content/Data/A4/00962.jpg', 4), ('/content/Data/A4/00972.jpg', 4), ('/content/Data/A4/00982.jpg', 4), ('/content/Data/A4/00992.jpg', 4), ('/content/Data/A4/01002.jpg', 4), ('/content/Data/A4/01012.jpg', 4), ('/content/Data/A4/01022.jpg', 4), ('/content/Data/A4/01032.jpg', 4), ('/content/Data/A4/01042.jpg', 4), ('/content/Data/A4/01052.jpg', 4), ('/content/Data/A4/01062.jpg', 4), ('/content/Data/A4/01072.jpg', 4), ('/content/Data/A4/01082.jpg', 4), ('/content/Data/A4/01092.jpg', 4), ('/content/Data/A4/01102.jpg', 4), ('/content/Data/A4/01111.jpg', 4), ('/content/Data/A4/01121.jpg', 4), ('/content/Data/A4/01131.jpg', 4), ('/content/Data/A4/01141.jpg', 4), ('/content/Data/A4/01151.jpg', 4), ('/content/Data/A4/01161.jpg', 4), ('/content/Data/A4/01171.jpg', 4), ('/content/Data/A4/01181.jpg', 4), ('/content/Data/A4/01191.jpg', 4), ('/content/Data/A4/01201.jpg', 4), ('/content/Data/A4/01211.jpg', 4), ('/content/Data/A4/01221.jpg', 4), ('/content/Data/A4/01231.jpg', 4), ('/content/Data/A4/01241.jpg', 4), ('/content/Data/A4/01251.jpg', 4), ('/content/Data/A4/01261.jpg', 4), ('/content/Data/A4/01271.jpg', 4), ('/content/Data/A4/01281.jpg', 4), ('/content/Data/A4/01291.jpg', 4), ('/content/Data/A4/01301.jpg', 4), ('/content/Data/A4/01311.jpg', 4), ('/content/Data/A4/01321.jpg', 4), ('/content/Data/A4/01331.jpg', 4), ('/content/Data/A4/01341.jpg', 4), ('/content/Data/A4/01351.jpg', 4), ('/content/Data/A4/01361.jpg', 4), ('/content/Data/A4/01371.jpg', 4), ('/content/Data/A4/01381.jpg', 4), ('/content/Data/A4/01391.jpg', 4), ('/content/Data/A4/01401.jpg', 4), ('/content/Data/A4/01411.jpg', 4), ('/content/Data/A4/01421.jpg', 4), ('/content/Data/A4/01431.jpg', 4), ('/content/Data/A4/01441.jpg', 4), ('/content/Data/A4/01450.jpg', 4), ('/content/Data/A4/01460.jpg', 4), ('/content/Data/A4/01470.jpg', 4), ('/content/Data/A4/01480.jpg', 4), ('/content/Data/A4/01490.jpg', 4), ('/content/Data/A4/01500.jpg', 4), ('/content/Data/A4/01510.jpg', 4), ('/content/Data/A4/01520.jpg', 4), ('/content/Data/A4/01530.jpg', 4), ('/content/Data/A4/01540.jpg', 4), ('/content/Data/A4/01550.jpg', 4), ('/content/Data/A4/01560.jpg', 4), ('/content/Data/A4/01570.jpg', 4), ('/content/Data/A4/01580.jpg', 4), ('/content/Data/A4/01590.jpg', 4), ('/content/Data/A4/01600.jpg', 4), ('/content/Data/A4/01610.jpg', 4), ('/content/Data/A4/01620.jpg', 4), ('/content/Data/A5/00004.jpg', 5), ('/content/Data/A5/00024.jpg', 5), ('/content/Data/A5/00034.jpg', 5), ('/content/Data/A5/00044.jpg', 5), ('/content/Data/A5/00055.jpg', 5), ('/content/Data/A5/00065.jpg', 5), ('/content/Data/A5/00075.jpg', 5), ('/content/Data/A5/00085.jpg', 5), ('/content/Data/A5/00095.jpg', 5), ('/content/Data/A5/00105.jpg', 5), ('/content/Data/A5/00115.jpg', 5), ('/content/Data/A5/00125.jpg', 5), ('/content/Data/A5/00135.jpg', 5), ('/content/Data/A5/00145.jpg', 5), ('/content/Data/A5/00155.jpg', 5), ('/content/Data/A5/00165.jpg', 5), ('/content/Data/A5/00175.jpg', 5), ('/content/Data/A5/00185.jpg', 5), ('/content/Data/A5/00195.jpg', 5), ('/content/Data/A5/00205.jpg', 5), ('/content/Data/A5/00215.jpg', 5), ('/content/Data/A5/00225.jpg', 5), ('/content/Data/A5/00235.jpg', 5), ('/content/Data/A5/00245.jpg', 5), ('/content/Data/A5/00255.jpg', 5), ('/content/Data/A5/00265.jpg', 5), ('/content/Data/A5/00276.jpg', 5), ('/content/Data/A5/00286.jpg', 5), ('/content/Data/A5/00296.jpg', 5), ('/content/Data/A5/00306.jpg', 5), ('/content/Data/A5/00316.jpg', 5), ('/content/Data/A5/00326.jpg', 5), ('/content/Data/A5/00336.jpg', 5), ('/content/Data/A5/00346.jpg', 5), ('/content/Data/A5/00356.jpg', 5), ('/content/Data/A5/00366.jpg', 5), ('/content/Data/A5/00376.jpg', 5), ('/content/Data/A5/00386.jpg', 5), ('/content/Data/A5/00396.jpg', 5), ('/content/Data/A5/00406.jpg', 5), ('/content/Data/A5/00416.jpg', 5), ('/content/Data/A5/00426.jpg', 5), ('/content/Data/A5/00436.jpg', 5), ('/content/Data/A5/00447.jpg', 5), ('/content/Data/A5/00457.jpg', 5), ('/content/Data/A5/00468.jpg', 5), ('/content/Data/A5/00483.jpg', 5), ('/content/Data/A5/00493.jpg', 5), ('/content/Data/A5/00503.jpg', 5), ('/content/Data/A5/00511.jpg', 5), ('/content/Data/A5/00523.jpg', 5), ('/content/Data/A5/00533.jpg', 5), ('/content/Data/A5/00543.jpg', 5), ('/content/Data/A5/00553.jpg', 5), ('/content/Data/A5/00563.jpg', 5), ('/content/Data/A5/00572.jpg', 5), ('/content/Data/A5/00582.jpg', 5), ('/content/Data/A5/00592.jpg', 5), ('/content/Data/A5/00602.jpg', 5), ('/content/Data/A5/00612.jpg', 5), ('/content/Data/A5/00622.jpg', 5), ('/content/Data/A5/00632.jpg', 5), ('/content/Data/A5/00642.jpg', 5), ('/content/Data/A5/00652.jpg', 5), ('/content/Data/A5/00662.jpg', 5), ('/content/Data/A5/00672.jpg', 5), ('/content/Data/A5/00683.jpg', 5), ('/content/Data/A5/00693.jpg', 5), ('/content/Data/A5/00703.jpg', 5), ('/content/Data/A5/00713.jpg', 5), ('/content/Data/A5/00723.jpg', 5), ('/content/Data/A5/00733.jpg', 5), ('/content/Data/A5/00743.jpg', 5), ('/content/Data/A5/00753.jpg', 5), ('/content/Data/A5/00763.jpg', 5), ('/content/Data/A5/00773.jpg', 5), ('/content/Data/A5/00783.jpg', 5), ('/content/Data/A5/00793.jpg', 5), ('/content/Data/A5/00803.jpg', 5), ('/content/Data/A5/00813.jpg', 5), ('/content/Data/A5/00823.jpg', 5), ('/content/Data/A5/00833.jpg', 5), ('/content/Data/A5/00843.jpg', 5), ('/content/Data/A5/00853.jpg', 5), ('/content/Data/A5/00863.jpg', 5), ('/content/Data/A5/00876.jpg', 5), ('/content/Data/A5/00883.jpg', 5), ('/content/Data/A5/00893.jpg', 5), ('/content/Data/A5/00903.jpg', 5), ('/content/Data/A5/00913.jpg', 5), ('/content/Data/A5/00923.jpg', 5), ('/content/Data/A5/00933.jpg', 5), ('/content/Data/A5/00943.jpg', 5), ('/content/Data/A5/00953.jpg', 5), ('/content/Data/A5/00963.jpg', 5), ('/content/Data/A5/00973.jpg', 5), ('/content/Data/A5/00983.jpg', 5), ('/content/Data/A5/00993.jpg', 5), ('/content/Data/A5/01003.jpg', 5), ('/content/Data/A5/01013.jpg', 5), ('/content/Data/A5/01023.jpg', 5), ('/content/Data/A5/01033.jpg', 5), ('/content/Data/A5/01043.jpg', 5), ('/content/Data/A5/01053.jpg', 5), ('/content/Data/A5/01063.jpg', 5), ('/content/Data/A5/01073.jpg', 5), ('/content/Data/A5/01083.jpg', 5), ('/content/Data/A5/01093.jpg', 5), ('/content/Data/A5/01103.jpg', 5), ('/content/Data/A5/01112.jpg', 5), ('/content/Data/A5/01122.jpg', 5), ('/content/Data/A5/01132.jpg', 5), ('/content/Data/A5/01142.jpg', 5), ('/content/Data/A5/01152.jpg', 5), ('/content/Data/A5/01162.jpg', 5), ('/content/Data/A5/01172.jpg', 5), ('/content/Data/A5/01182.jpg', 5), ('/content/Data/A5/01192.jpg', 5), ('/content/Data/A5/01202.jpg', 5), ('/content/Data/A5/01212.jpg', 5), ('/content/Data/A5/01222.jpg', 5), ('/content/Data/A5/01232.jpg', 5), ('/content/Data/A5/01242.jpg', 5), ('/content/Data/A5/01252.jpg', 5), ('/content/Data/A5/01262.jpg', 5), ('/content/Data/A5/01272.jpg', 5), ('/content/Data/A5/01282.jpg', 5), ('/content/Data/A5/01292.jpg', 5), ('/content/Data/A5/01302.jpg', 5), ('/content/Data/A5/01312.jpg', 5), ('/content/Data/A5/01322.jpg', 5), ('/content/Data/A5/01332.jpg', 5), ('/content/Data/A5/01342.jpg', 5), ('/content/Data/A5/01352.jpg', 5), ('/content/Data/A5/01362.jpg', 5), ('/content/Data/A5/01372.jpg', 5), ('/content/Data/A5/01382.jpg', 5), ('/content/Data/A5/01392.jpg', 5), ('/content/Data/A5/01402.jpg', 5), ('/content/Data/A5/01412.jpg', 5), ('/content/Data/A5/01422.jpg', 5), ('/content/Data/A5/01432.jpg', 5), ('/content/Data/A5/01451.jpg', 5), ('/content/Data/A5/01461.jpg', 5), ('/content/Data/A5/01471.jpg', 5), ('/content/Data/A5/01481.jpg', 5), ('/content/Data/A5/01491.jpg', 5), ('/content/Data/A5/01501.jpg', 5), ('/content/Data/A5/01511.jpg', 5), ('/content/Data/A5/01521.jpg', 5), ('/content/Data/A5/01531.jpg', 5), ('/content/Data/A5/01541.jpg', 5), ('/content/Data/A5/01551.jpg', 5), ('/content/Data/A5/01561.jpg', 5), ('/content/Data/A5/01571.jpg', 5), ('/content/Data/A5/01581.jpg', 5), ('/content/Data/A5/01591.jpg', 5), ('/content/Data/A5/01601.jpg', 5), ('/content/Data/A5/01611.jpg', 5), ('/content/Data/A5/01621.jpg', 5), ('/content/Data/A6/00005.jpg', 6), ('/content/Data/A6/00025.jpg', 6), ('/content/Data/A6/00035.jpg', 6), ('/content/Data/A6/00045.jpg', 6), ('/content/Data/A6/00056.jpg', 6), ('/content/Data/A6/00076.jpg', 6), ('/content/Data/A6/00086.jpg', 6), ('/content/Data/A6/00096.jpg', 6), ('/content/Data/A6/00106.jpg', 6), ('/content/Data/A6/00116.jpg', 6), ('/content/Data/A6/00126.jpg', 6), ('/content/Data/A6/00136.jpg', 6), ('/content/Data/A6/00146.jpg', 6), ('/content/Data/A6/00156.jpg', 6), ('/content/Data/A6/00166.jpg', 6), ('/content/Data/A6/00176.jpg', 6), ('/content/Data/A6/00186.jpg', 6), ('/content/Data/A6/00196.jpg', 6), ('/content/Data/A6/00206.jpg', 6), ('/content/Data/A6/00216.jpg', 6), ('/content/Data/A6/00226.jpg', 6), ('/content/Data/A6/00236.jpg', 6), ('/content/Data/A6/00246.jpg', 6), ('/content/Data/A6/00256.jpg', 6), ('/content/Data/A6/00266.jpg', 6), ('/content/Data/A6/00277.jpg', 6), ('/content/Data/A6/00287.jpg', 6), ('/content/Data/A6/00297.jpg', 6), ('/content/Data/A6/00307.jpg', 6), ('/content/Data/A6/00317.jpg', 6), ('/content/Data/A6/00327.jpg', 6), ('/content/Data/A6/00337.jpg', 6), ('/content/Data/A6/00347.jpg', 6), ('/content/Data/A6/00357.jpg', 6), ('/content/Data/A6/00367.jpg', 6), ('/content/Data/A6/00377.jpg', 6), ('/content/Data/A6/00387.jpg', 6), ('/content/Data/A6/00397.jpg', 6), ('/content/Data/A6/00407.jpg', 6), ('/content/Data/A6/00417.jpg', 6), ('/content/Data/A6/00427.jpg', 6), ('/content/Data/A6/00437.jpg', 6), ('/content/Data/A6/00448.jpg', 6), ('/content/Data/A6/00458.jpg', 6), ('/content/Data/A6/00469.jpg', 6), ('/content/Data/A6/00484.jpg', 6), ('/content/Data/A6/00492.jpg', 6), ('/content/Data/A6/00502.jpg', 6), ('/content/Data/A6/00513.jpg', 6), ('/content/Data/A6/00522.jpg', 6), ('/content/Data/A6/00532.jpg', 6), ('/content/Data/A6/00542.jpg', 6), ('/content/Data/A6/00554.jpg', 6), ('/content/Data/A6/00564.jpg', 6), ('/content/Data/A6/00573.jpg', 6), ('/content/Data/A6/00583.jpg', 6), ('/content/Data/A6/00593.jpg', 6), ('/content/Data/A6/00603.jpg', 6), ('/content/Data/A6/00613.jpg', 6), ('/content/Data/A6/00623.jpg', 6), ('/content/Data/A6/00633.jpg', 6), ('/content/Data/A6/00643.jpg', 6), ('/content/Data/A6/00653.jpg', 6), ('/content/Data/A6/00663.jpg', 6), ('/content/Data/A6/00673.jpg', 6), ('/content/Data/A6/00684.jpg', 6), ('/content/Data/A6/00694.jpg', 6), ('/content/Data/A6/00704.jpg', 6), ('/content/Data/A6/00714.jpg', 6), ('/content/Data/A6/00724.jpg', 6), ('/content/Data/A6/00734.jpg', 6), ('/content/Data/A6/00744.jpg', 6), ('/content/Data/A6/00754.jpg', 6), ('/content/Data/A6/00764.jpg', 6), ('/content/Data/A6/00774.jpg', 6), ('/content/Data/A6/00784.jpg', 6), ('/content/Data/A6/00794.jpg', 6), ('/content/Data/A6/00804.jpg', 6), ('/content/Data/A6/00814.jpg', 6), ('/content/Data/A6/00824.jpg', 6), ('/content/Data/A6/00834.jpg', 6), ('/content/Data/A6/00844.jpg', 6), ('/content/Data/A6/00854.jpg', 6), ('/content/Data/A6/00864.jpg', 6), ('/content/Data/A6/00873.jpg', 6), ('/content/Data/A6/00884.jpg', 6), ('/content/Data/A6/00894.jpg', 6), ('/content/Data/A6/00904.jpg', 6), ('/content/Data/A6/00914.jpg', 6), ('/content/Data/A6/00924.jpg', 6), ('/content/Data/A6/00934.jpg', 6), ('/content/Data/A6/00944.jpg', 6), ('/content/Data/A6/00954.jpg', 6), ('/content/Data/A6/00964.jpg', 6), ('/content/Data/A6/00974.jpg', 6), ('/content/Data/A6/00984.jpg', 6), ('/content/Data/A6/00994.jpg', 6), ('/content/Data/A6/01004.jpg', 6), ('/content/Data/A6/01014.jpg', 6), ('/content/Data/A6/01024.jpg', 6), ('/content/Data/A6/01034.jpg', 6), ('/content/Data/A6/01044.jpg', 6), ('/content/Data/A6/01054.jpg', 6), ('/content/Data/A6/01064.jpg', 6), ('/content/Data/A6/01074.jpg', 6), ('/content/Data/A6/01084.jpg', 6), ('/content/Data/A6/01094.jpg', 6), ('/content/Data/A6/01104.jpg', 6), ('/content/Data/A6/01113.jpg', 6), ('/content/Data/A6/01123.jpg', 6), ('/content/Data/A6/01133.jpg', 6), ('/content/Data/A6/01143.jpg', 6), ('/content/Data/A6/01153.jpg', 6), ('/content/Data/A6/01163.jpg', 6), ('/content/Data/A6/01173.jpg', 6), ('/content/Data/A6/01183.jpg', 6), ('/content/Data/A6/01193.jpg', 6), ('/content/Data/A6/01203.jpg', 6), ('/content/Data/A6/01213.jpg', 6), ('/content/Data/A6/01223.jpg', 6), ('/content/Data/A6/01233.jpg', 6), ('/content/Data/A6/01243.jpg', 6), ('/content/Data/A6/01253.jpg', 6), ('/content/Data/A6/01263.jpg', 6), ('/content/Data/A6/01273.jpg', 6), ('/content/Data/A6/01283.jpg', 6), ('/content/Data/A6/01293.jpg', 6), ('/content/Data/A6/01303.jpg', 6), ('/content/Data/A6/01313.jpg', 6), ('/content/Data/A6/01323.jpg', 6), ('/content/Data/A6/01333.jpg', 6), ('/content/Data/A6/01343.jpg', 6), ('/content/Data/A6/01353.jpg', 6), ('/content/Data/A6/01363.jpg', 6), ('/content/Data/A6/01373.jpg', 6), ('/content/Data/A6/01383.jpg', 6), ('/content/Data/A6/01393.jpg', 6), ('/content/Data/A6/01403.jpg', 6), ('/content/Data/A6/01413.jpg', 6), ('/content/Data/A6/01423.jpg', 6), ('/content/Data/A6/01433.jpg', 6), ('/content/Data/A6/01442.jpg', 6), ('/content/Data/A6/01452.jpg', 6), ('/content/Data/A6/01462.jpg', 6), ('/content/Data/A6/01472.jpg', 6), ('/content/Data/A6/01482.jpg', 6), ('/content/Data/A6/01492.jpg', 6), ('/content/Data/A6/01502.jpg', 6), ('/content/Data/A6/01512.jpg', 6), ('/content/Data/A6/01522.jpg', 6), ('/content/Data/A6/01532.jpg', 6), ('/content/Data/A6/01542.jpg', 6), ('/content/Data/A6/01552.jpg', 6), ('/content/Data/A6/01562.jpg', 6), ('/content/Data/A6/01572.jpg', 6), ('/content/Data/A6/01582.jpg', 6), ('/content/Data/A6/01592.jpg', 6), ('/content/Data/A6/01602.jpg', 6), ('/content/Data/A6/01612.jpg', 6), ('/content/Data/A6/01622.jpg', 6), ('/content/Data/A7/00006.jpg', 7), ('/content/Data/A7/00026.jpg', 7), ('/content/Data/A7/00036.jpg', 7), ('/content/Data/A7/00046.jpg', 7), ('/content/Data/A7/00057.jpg', 7), ('/content/Data/A7/00077.jpg', 7), ('/content/Data/A7/00087.jpg', 7), ('/content/Data/A7/00097.jpg', 7), ('/content/Data/A7/00107.jpg', 7), ('/content/Data/A7/00117.jpg', 7), ('/content/Data/A7/00127.jpg', 7), ('/content/Data/A7/00137.jpg', 7), ('/content/Data/A7/00147.jpg', 7), ('/content/Data/A7/00157.jpg', 7), ('/content/Data/A7/00167.jpg', 7), ('/content/Data/A7/00177.jpg', 7), ('/content/Data/A7/00187.jpg', 7), ('/content/Data/A7/00197.jpg', 7), ('/content/Data/A7/00207.jpg', 7), ('/content/Data/A7/00217.jpg', 7), ('/content/Data/A7/00227.jpg', 7), ('/content/Data/A7/00237.jpg', 7), ('/content/Data/A7/00247.jpg', 7), ('/content/Data/A7/00257.jpg', 7), ('/content/Data/A7/00267.jpg', 7), ('/content/Data/A7/00278.jpg', 7), ('/content/Data/A7/00288.jpg', 7), ('/content/Data/A7/00298.jpg', 7), ('/content/Data/A7/00308.jpg', 7), ('/content/Data/A7/00318.jpg', 7), ('/content/Data/A7/00328.jpg', 7), ('/content/Data/A7/00338.jpg', 7), ('/content/Data/A7/00348.jpg', 7), ('/content/Data/A7/00358.jpg', 7), ('/content/Data/A7/00368.jpg', 7), ('/content/Data/A7/00378.jpg', 7), ('/content/Data/A7/00388.jpg', 7), ('/content/Data/A7/00398.jpg', 7), ('/content/Data/A7/00408.jpg', 7), ('/content/Data/A7/00418.jpg', 7), ('/content/Data/A7/00428.jpg', 7), ('/content/Data/A7/00438.jpg', 7), ('/content/Data/A7/00449.jpg', 7), ('/content/Data/A7/00459.jpg', 7), ('/content/Data/A7/00470.jpg', 7), ('/content/Data/A7/00485.jpg', 7), ('/content/Data/A7/00491.jpg', 7), ('/content/Data/A7/00501.jpg', 7), ('/content/Data/A7/00514.jpg', 7), ('/content/Data/A7/00521.jpg', 7), ('/content/Data/A7/00531.jpg', 7), ('/content/Data/A7/00541.jpg', 7), ('/content/Data/A7/00555.jpg', 7), ('/content/Data/A7/00565.jpg', 7), ('/content/Data/A7/00574.jpg', 7), ('/content/Data/A7/00584.jpg', 7), ('/content/Data/A7/00594.jpg', 7), ('/content/Data/A7/00604.jpg', 7), ('/content/Data/A7/00614.jpg', 7), ('/content/Data/A7/00624.jpg', 7), ('/content/Data/A7/00634.jpg', 7), ('/content/Data/A7/00644.jpg', 7), ('/content/Data/A7/00654.jpg', 7), ('/content/Data/A7/00664.jpg', 7), ('/content/Data/A7/00674.jpg', 7), ('/content/Data/A7/00685.jpg', 7), ('/content/Data/A7/00695.jpg', 7), ('/content/Data/A7/00705.jpg', 7), ('/content/Data/A7/00715.jpg', 7), ('/content/Data/A7/00725.jpg', 7), ('/content/Data/A7/00735.jpg', 7), ('/content/Data/A7/00745.jpg', 7), ('/content/Data/A7/00755.jpg', 7), ('/content/Data/A7/00765.jpg', 7), ('/content/Data/A7/00775.jpg', 7), ('/content/Data/A7/00785.jpg', 7), ('/content/Data/A7/00795.jpg', 7), ('/content/Data/A7/00805.jpg', 7), ('/content/Data/A7/00815.jpg', 7), ('/content/Data/A7/00825.jpg', 7), ('/content/Data/A7/00835.jpg', 7), ('/content/Data/A7/00845.jpg', 7), ('/content/Data/A7/00855.jpg', 7), ('/content/Data/A7/00865.jpg', 7), ('/content/Data/A7/00872.jpg', 7), ('/content/Data/A7/00885.jpg', 7), ('/content/Data/A7/00895.jpg', 7), ('/content/Data/A7/00905.jpg', 7), ('/content/Data/A7/00915.jpg', 7), ('/content/Data/A7/00925.jpg', 7), ('/content/Data/A7/00935.jpg', 7), ('/content/Data/A7/00945.jpg', 7), ('/content/Data/A7/00955.jpg', 7), ('/content/Data/A7/00965.jpg', 7), ('/content/Data/A7/00975.jpg', 7), ('/content/Data/A7/00985.jpg', 7), ('/content/Data/A7/00995.jpg', 7), ('/content/Data/A7/01005.jpg', 7), ('/content/Data/A7/01015.jpg', 7), ('/content/Data/A7/01025.jpg', 7), ('/content/Data/A7/01035.jpg', 7), ('/content/Data/A7/01045.jpg', 7), ('/content/Data/A7/01055.jpg', 7), ('/content/Data/A7/01065.jpg', 7), ('/content/Data/A7/01075.jpg', 7), ('/content/Data/A7/01085.jpg', 7), ('/content/Data/A7/01095.jpg', 7), ('/content/Data/A7/01105.jpg', 7), ('/content/Data/A7/01114.jpg', 7), ('/content/Data/A7/01124.jpg', 7), ('/content/Data/A7/01134.jpg', 7), ('/content/Data/A7/01144.jpg', 7), ('/content/Data/A7/01154.jpg', 7), ('/content/Data/A7/01164.jpg', 7), ('/content/Data/A7/01174.jpg', 7), ('/content/Data/A7/01184.jpg', 7), ('/content/Data/A7/01194.jpg', 7), ('/content/Data/A7/01204.jpg', 7), ('/content/Data/A7/01214.jpg', 7), ('/content/Data/A7/01224.jpg', 7), ('/content/Data/A7/01234.jpg', 7), ('/content/Data/A7/01244.jpg', 7), ('/content/Data/A7/01254.jpg', 7), ('/content/Data/A7/01264.jpg', 7), ('/content/Data/A7/01274.jpg', 7), ('/content/Data/A7/01284.jpg', 7), ('/content/Data/A7/01294.jpg', 7), ('/content/Data/A7/01304.jpg', 7), ('/content/Data/A7/01314.jpg', 7), ('/content/Data/A7/01324.jpg', 7), ('/content/Data/A7/01334.jpg', 7), ('/content/Data/A7/01344.jpg', 7), ('/content/Data/A7/01354.jpg', 7), ('/content/Data/A7/01364.jpg', 7), ('/content/Data/A7/01374.jpg', 7), ('/content/Data/A7/01384.jpg', 7), ('/content/Data/A7/01394.jpg', 7), ('/content/Data/A7/01404.jpg', 7), ('/content/Data/A7/01414.jpg', 7), ('/content/Data/A7/01424.jpg', 7), ('/content/Data/A7/01434.jpg', 7), ('/content/Data/A7/01443.jpg', 7), ('/content/Data/A7/01453.jpg', 7), ('/content/Data/A7/01463.jpg', 7), ('/content/Data/A7/01473.jpg', 7), ('/content/Data/A7/01483.jpg', 7), ('/content/Data/A7/01493.jpg', 7), ('/content/Data/A7/01503.jpg', 7), ('/content/Data/A7/01513.jpg', 7), ('/content/Data/A7/01523.jpg', 7), ('/content/Data/A7/01533.jpg', 7), ('/content/Data/A7/01543.jpg', 7), ('/content/Data/A7/01553.jpg', 7), ('/content/Data/A7/01563.jpg', 7), ('/content/Data/A7/01573.jpg', 7), ('/content/Data/A7/01583.jpg', 7), ('/content/Data/A7/01593.jpg', 7), ('/content/Data/A7/01603.jpg', 7), ('/content/Data/A7/01613.jpg', 7), ('/content/Data/A7/01623.jpg', 7), ('/content/Data/A8/00007.jpg', 8), ('/content/Data/A8/00017.jpg', 8), ('/content/Data/A8/00027.jpg', 8), ('/content/Data/A8/00037.jpg', 8), ('/content/Data/A8/00047.jpg', 8), ('/content/Data/A8/00058.jpg', 8), ('/content/Data/A8/00068.jpg', 8), ('/content/Data/A8/00078.jpg', 8), ('/content/Data/A8/00088.jpg', 8), ('/content/Data/A8/00098.jpg', 8), ('/content/Data/A8/00108.jpg', 8), ('/content/Data/A8/00118.jpg', 8), ('/content/Data/A8/00128.jpg', 8), ('/content/Data/A8/00138.jpg', 8), ('/content/Data/A8/00148.jpg', 8), ('/content/Data/A8/00158.jpg', 8), ('/content/Data/A8/00168.jpg', 8), ('/content/Data/A8/00178.jpg', 8), ('/content/Data/A8/00188.jpg', 8), ('/content/Data/A8/00198.jpg', 8), ('/content/Data/A8/00208.jpg', 8), ('/content/Data/A8/00218.jpg', 8), ('/content/Data/A8/00228.jpg', 8), ('/content/Data/A8/00238.jpg', 8), ('/content/Data/A8/00248.jpg', 8), ('/content/Data/A8/00258.jpg', 8), ('/content/Data/A8/00268.jpg', 8), ('/content/Data/A8/00279.jpg', 8), ('/content/Data/A8/00289.jpg', 8), ('/content/Data/A8/00299.jpg', 8), ('/content/Data/A8/00309.jpg', 8), ('/content/Data/A8/00319.jpg', 8), ('/content/Data/A8/00329.jpg', 8), ('/content/Data/A8/00339.jpg', 8), ('/content/Data/A8/00349.jpg', 8), ('/content/Data/A8/00359.jpg', 8), ('/content/Data/A8/00369.jpg', 8), ('/content/Data/A8/00379.jpg', 8), ('/content/Data/A8/00389.jpg', 8), ('/content/Data/A8/00399.jpg', 8), ('/content/Data/A8/00409.jpg', 8), ('/content/Data/A8/00419.jpg', 8), ('/content/Data/A8/00429.jpg', 8), ('/content/Data/A8/00439.jpg', 8), ('/content/Data/A8/00450.jpg', 8), ('/content/Data/A8/00460.jpg', 8), ('/content/Data/A8/00471.jpg', 8), ('/content/Data/A8/00486.jpg', 8), ('/content/Data/A8/00490.jpg', 8), ('/content/Data/A8/00515.jpg', 8), ('/content/Data/A8/00520.jpg', 8), ('/content/Data/A8/00530.jpg', 8), ('/content/Data/A8/00540.jpg', 8), ('/content/Data/A8/00566.jpg', 8), ('/content/Data/A8/00575.jpg', 8), ('/content/Data/A8/00585.jpg', 8), ('/content/Data/A8/00595.jpg', 8), ('/content/Data/A8/00605.jpg', 8), ('/content/Data/A8/00615.jpg', 8), ('/content/Data/A8/00625.jpg', 8), ('/content/Data/A8/00635.jpg', 8), ('/content/Data/A8/00645.jpg', 8), ('/content/Data/A8/00655.jpg', 8), ('/content/Data/A8/00665.jpg', 8), ('/content/Data/A8/00675.jpg', 8), ('/content/Data/A8/00686.jpg', 8), ('/content/Data/A8/00696.jpg', 8), ('/content/Data/A8/00706.jpg', 8), ('/content/Data/A8/00716.jpg', 8), ('/content/Data/A8/00726.jpg', 8), ('/content/Data/A8/00736.jpg', 8), ('/content/Data/A8/00746.jpg', 8), ('/content/Data/A8/00756.jpg', 8), ('/content/Data/A8/00766.jpg', 8), ('/content/Data/A8/00776.jpg', 8), ('/content/Data/A8/00786.jpg', 8), ('/content/Data/A8/00795.jpg', 8), ('/content/Data/A8/00806.jpg', 8), ('/content/Data/A8/00816.jpg', 8), ('/content/Data/A8/00826.jpg', 8), ('/content/Data/A8/00836.jpg', 8), ('/content/Data/A8/00846.jpg', 8), ('/content/Data/A8/00856.jpg', 8), ('/content/Data/A8/00866.jpg', 8), ('/content/Data/A8/00871.jpg', 8), ('/content/Data/A8/00886.jpg', 8), ('/content/Data/A8/00896.jpg', 8), ('/content/Data/A8/00906.jpg', 8), ('/content/Data/A8/00916.jpg', 8), ('/content/Data/A8/00926.jpg', 8), ('/content/Data/A8/00936.jpg', 8), ('/content/Data/A8/00946.jpg', 8), ('/content/Data/A8/00956.jpg', 8), ('/content/Data/A8/00966.jpg', 8), ('/content/Data/A8/00976.jpg', 8), ('/content/Data/A8/00986.jpg', 8), ('/content/Data/A8/00996.jpg', 8), ('/content/Data/A8/01006.jpg', 8), ('/content/Data/A8/01016.jpg', 8), ('/content/Data/A8/01026.jpg', 8), ('/content/Data/A8/01036.jpg', 8), ('/content/Data/A8/01046.jpg', 8), ('/content/Data/A8/01056.jpg', 8), ('/content/Data/A8/01066.jpg', 8), ('/content/Data/A8/01076.jpg', 8), ('/content/Data/A8/01086.jpg', 8), ('/content/Data/A8/01096.jpg', 8), ('/content/Data/A8/01106.jpg', 8), ('/content/Data/A8/01115.jpg', 8), ('/content/Data/A8/01125.jpg', 8), ('/content/Data/A8/01135.jpg', 8), ('/content/Data/A8/01145.jpg', 8), ('/content/Data/A8/01155.jpg', 8), ('/content/Data/A8/01165.jpg', 8), ('/content/Data/A8/01175.jpg', 8), ('/content/Data/A8/01185.jpg', 8), ('/content/Data/A8/01195.jpg', 8), ('/content/Data/A8/01205.jpg', 8), ('/content/Data/A8/01215.jpg', 8), ('/content/Data/A8/01225.jpg', 8), ('/content/Data/A8/01235.jpg', 8), ('/content/Data/A8/01245.jpg', 8), ('/content/Data/A8/01255.jpg', 8), ('/content/Data/A8/01265.jpg', 8), ('/content/Data/A8/01275.jpg', 8), ('/content/Data/A8/01285.jpg', 8), ('/content/Data/A8/01295.jpg', 8), ('/content/Data/A8/01305.jpg', 8), ('/content/Data/A8/01315.jpg', 8), ('/content/Data/A8/01325.jpg', 8), ('/content/Data/A8/01335.jpg', 8), ('/content/Data/A8/01345.jpg', 8), ('/content/Data/A8/01355.jpg', 8), ('/content/Data/A8/01365.jpg', 8), ('/content/Data/A8/01375.jpg', 8), ('/content/Data/A8/01385.jpg', 8), ('/content/Data/A8/01395.jpg', 8), ('/content/Data/A8/01405.jpg', 8), ('/content/Data/A8/01415.jpg', 8), ('/content/Data/A8/01425.jpg', 8), ('/content/Data/A8/01435.jpg', 8), ('/content/Data/A8/01444.jpg', 8), ('/content/Data/A8/01454.jpg', 8), ('/content/Data/A8/01464.jpg', 8), ('/content/Data/A8/01474.jpg', 8), ('/content/Data/A8/01484.jpg', 8), ('/content/Data/A8/01494.jpg', 8), ('/content/Data/A8/01504.jpg', 8), ('/content/Data/A8/01514.jpg', 8), ('/content/Data/A8/01524.jpg', 8), ('/content/Data/A8/01534.jpg', 8), ('/content/Data/A8/01544.jpg', 8), ('/content/Data/A8/01554.jpg', 8), ('/content/Data/A8/01564.jpg', 8), ('/content/Data/A8/01574.jpg', 8), ('/content/Data/A8/01584.jpg', 8), ('/content/Data/A8/01594.jpg', 8), ('/content/Data/A8/01604.jpg', 8), ('/content/Data/A8/01614.jpg', 8), ('/content/Data/A8/01624.jpg', 8), ('/content/Data/A9/00008.jpg', 9), ('/content/Data/A9/00028.jpg', 9), ('/content/Data/A9/00038.jpg', 9), ('/content/Data/A9/00048.jpg', 9), ('/content/Data/A9/00059.jpg', 9), ('/content/Data/A9/00079.jpg', 9), ('/content/Data/A9/00089.jpg', 9), ('/content/Data/A9/00099.jpg', 9), ('/content/Data/A9/00109.jpg', 9), ('/content/Data/A9/00119.jpg', 9), ('/content/Data/A9/00129.jpg', 9), ('/content/Data/A9/00139.jpg', 9), ('/content/Data/A9/00149.jpg', 9), ('/content/Data/A9/00159.jpg', 9), ('/content/Data/A9/00169.jpg', 9), ('/content/Data/A9/00179.jpg', 9), ('/content/Data/A9/00189.jpg', 9), ('/content/Data/A9/00199.jpg', 9), ('/content/Data/A9/00209.jpg', 9), ('/content/Data/A9/00219.jpg', 9), ('/content/Data/A9/00229.jpg', 9), ('/content/Data/A9/00239.jpg', 9), ('/content/Data/A9/00249.jpg', 9), ('/content/Data/A9/00259.jpg', 9), ('/content/Data/A9/00269.jpg', 9), ('/content/Data/A9/00280.jpg', 9), ('/content/Data/A9/00290.jpg', 9), ('/content/Data/A9/00300.jpg', 9), ('/content/Data/A9/00310.jpg', 9), ('/content/Data/A9/00320.jpg', 9), ('/content/Data/A9/00330.jpg', 9), ('/content/Data/A9/00340.jpg', 9), ('/content/Data/A9/00350.jpg', 9), ('/content/Data/A9/00360.jpg', 9), ('/content/Data/A9/00370.jpg', 9), ('/content/Data/A9/00380.jpg', 9), ('/content/Data/A9/00390.jpg', 9), ('/content/Data/A9/00400.jpg', 9), ('/content/Data/A9/00410.jpg', 9), ('/content/Data/A9/00420.jpg', 9), ('/content/Data/A9/00430.jpg', 9), ('/content/Data/A9/00440.jpg', 9), ('/content/Data/A9/00451.jpg', 9), ('/content/Data/A9/00461.jpg', 9), ('/content/Data/A9/00472.jpg', 9), ('/content/Data/A9/00487.jpg', 9), ('/content/Data/A9/00489.jpg', 9), ('/content/Data/A9/00499.jpg', 9), ('/content/Data/A9/00516.jpg', 9), ('/content/Data/A9/00519.jpg', 9), ('/content/Data/A9/00529.jpg', 9), ('/content/Data/A9/00539.jpg', 9), ('/content/Data/A9/00557.jpg', 9), ('/content/Data/A9/00567.jpg', 9), ('/content/Data/A9/00576.jpg', 9), ('/content/Data/A9/00586.jpg', 9), ('/content/Data/A9/00596.jpg', 9), ('/content/Data/A9/00606.jpg', 9), ('/content/Data/A9/00616.jpg', 9), ('/content/Data/A9/00626.jpg', 9), ('/content/Data/A9/00636.jpg', 9), ('/content/Data/A9/00646.jpg', 9), ('/content/Data/A9/00656.jpg', 9), ('/content/Data/A9/00666.jpg', 9), ('/content/Data/A9/00676.jpg', 9), ('/content/Data/A9/00687.jpg', 9), ('/content/Data/A9/00697.jpg', 9), ('/content/Data/A9/00707.jpg', 9), ('/content/Data/A9/00717.jpg', 9), ('/content/Data/A9/00727.jpg', 9), ('/content/Data/A9/00737.jpg', 9), ('/content/Data/A9/00747.jpg', 9), ('/content/Data/A9/00757.jpg', 9), ('/content/Data/A9/00767.jpg', 9), ('/content/Data/A9/00777.jpg', 9), ('/content/Data/A9/00787.jpg', 9), ('/content/Data/A9/00797.jpg', 9), ('/content/Data/A9/00807.jpg', 9), ('/content/Data/A9/00817.jpg', 9), ('/content/Data/A9/00827.jpg', 9), ('/content/Data/A9/00837.jpg', 9), ('/content/Data/A9/00847.jpg', 9), ('/content/Data/A9/00857.jpg', 9), ('/content/Data/A9/00867.jpg', 9), ('/content/Data/A9/00870.jpg', 9), ('/content/Data/A9/00887.jpg', 9), ('/content/Data/A9/00897.jpg', 9), ('/content/Data/A9/00907.jpg', 9), ('/content/Data/A9/00917.jpg', 9), ('/content/Data/A9/00927.jpg', 9), ('/content/Data/A9/00937.jpg', 9), ('/content/Data/A9/00947.jpg', 9), ('/content/Data/A9/00957.jpg', 9), ('/content/Data/A9/00968.jpg', 9), ('/content/Data/A9/00977.jpg', 9), ('/content/Data/A9/00987.jpg', 9), ('/content/Data/A9/00997.jpg', 9), ('/content/Data/A9/01007.jpg', 9), ('/content/Data/A9/01017.jpg', 9), ('/content/Data/A9/01027.jpg', 9), ('/content/Data/A9/01037.jpg', 9), ('/content/Data/A9/01047.jpg', 9), ('/content/Data/A9/01057.jpg', 9), ('/content/Data/A9/01067.jpg', 9), ('/content/Data/A9/01077.jpg', 9), ('/content/Data/A9/01087.jpg', 9), ('/content/Data/A9/01097.jpg', 9), ('/content/Data/A9/01107.jpg', 9), ('/content/Data/A9/01116.jpg', 9), ('/content/Data/A9/01126.jpg', 9), ('/content/Data/A9/01136.jpg', 9), ('/content/Data/A9/01146.jpg', 9), ('/content/Data/A9/01156.jpg', 9), ('/content/Data/A9/01166.jpg', 9), ('/content/Data/A9/01176.jpg', 9), ('/content/Data/A9/01186.jpg', 9), ('/content/Data/A9/01196.jpg', 9), ('/content/Data/A9/01206.jpg', 9), ('/content/Data/A9/01216.jpg', 9), ('/content/Data/A9/01226.jpg', 9), ('/content/Data/A9/01236.jpg', 9), ('/content/Data/A9/01246.jpg', 9), ('/content/Data/A9/01256.jpg', 9), ('/content/Data/A9/01266.jpg', 9), ('/content/Data/A9/01276.jpg', 9), ('/content/Data/A9/01286.jpg', 9), ('/content/Data/A9/01296.jpg', 9), ('/content/Data/A9/01306.jpg', 9), ('/content/Data/A9/01316.jpg', 9), ('/content/Data/A9/01326.jpg', 9), ('/content/Data/A9/01336.jpg', 9), ('/content/Data/A9/01346.jpg', 9), ('/content/Data/A9/01356.jpg', 9), ('/content/Data/A9/01366.jpg', 9), ('/content/Data/A9/01376.jpg', 9), ('/content/Data/A9/01386.jpg', 9), ('/content/Data/A9/01396.jpg', 9), ('/content/Data/A9/01406.jpg', 9), ('/content/Data/A9/01416.jpg', 9), ('/content/Data/A9/01426.jpg', 9), ('/content/Data/A9/01436.jpg', 9), ('/content/Data/A9/01445.jpg', 9), ('/content/Data/A9/01455.jpg', 9), ('/content/Data/A9/01465.jpg', 9), ('/content/Data/A9/01475.jpg', 9), ('/content/Data/A9/01485.jpg', 9), ('/content/Data/A9/01495.jpg', 9), ('/content/Data/A9/01505.jpg', 9), ('/content/Data/A9/01515.jpg', 9), ('/content/Data/A9/01525.jpg', 9), ('/content/Data/A9/01535.jpg', 9), ('/content/Data/A9/01545.jpg', 9), ('/content/Data/A9/01555.jpg', 9), ('/content/Data/A9/01565.jpg', 9), ('/content/Data/A9/01575.jpg', 9), ('/content/Data/A9/01585.jpg', 9), ('/content/Data/A9/01595.jpg', 9), ('/content/Data/A9/01605.jpg', 9), ('/content/Data/A9/01615.jpg', 9), ('/content/Data/A9/01625.jpg', 9)]\n"
          ]
        }
      ]
    },
    {
      "cell_type": "code",
      "source": [
        "print(dataset.class_to_idx)"
      ],
      "metadata": {
        "colab": {
          "base_uri": "https://localhost:8080/"
        },
        "id": "oyziOhHXBKby",
        "outputId": "45d1e393-5182-4d72-b603-edd73ebcc2f4"
      },
      "execution_count": 63,
      "outputs": [
        {
          "output_type": "stream",
          "name": "stdout",
          "text": [
            "{'A0': 0, 'A1': 1, 'A2': 2, 'A3': 3, 'A4': 4, 'A5': 5, 'A6': 6, 'A7': 7, 'A8': 8, 'A9': 9}\n"
          ]
        }
      ]
    },
    {
      "cell_type": "code",
      "source": [
        "img = torch.permute(dataset[0][0], (2,1,0))\n",
        "plt.imshow(img)"
      ],
      "metadata": {
        "colab": {
          "base_uri": "https://localhost:8080/",
          "height": 303
        },
        "id": "FkXrUKX9BEr3",
        "outputId": "c137c838-42cb-4868-ca7d-4208c24c9da0"
      },
      "execution_count": 64,
      "outputs": [
        {
          "output_type": "stream",
          "name": "stderr",
          "text": [
            "Clipping input data to the valid range for imshow with RGB data ([0..1] for floats or [0..255] for integers).\n"
          ]
        },
        {
          "output_type": "execute_result",
          "data": {
            "text/plain": [
              "<matplotlib.image.AxesImage at 0x7fecc6034950>"
            ]
          },
          "metadata": {},
          "execution_count": 64
        },
        {
          "output_type": "display_data",
          "data": {
            "text/plain": [
              "<Figure size 432x288 with 1 Axes>"
            ],
            "image/png": "[encoded data removed]"
          },
          "metadata": {
            "needs_background": "light"
          }
        }
      ]
    },
    {
      "cell_type": "markdown",
      "source": [
        "## **Normalize Pixel Values**\n",
        "For most image data, the pixel values are integers with values between 0 and 255.\n",
        "\n",
        "Neural networks process inputs using small weight values, and inputs with large integer values can disrupt or slow down the learning process. As such it is good practice to normalize the pixel values so that each pixel value has a value between 0 and 1.\n",
        "\n",
        "It is valid for images to have pixel values in the range 0-1 and images can be viewed normally.\n",
        "\n",
        "This can be achieved by dividing all pixels values by the largest pixel value; that is 255. This is performed across all channels, regardless of the actual range of pixel values that are present in the image."
      ],
      "metadata": {
        "id": "tHXheafZC5Kj"
      }
    },
    {
      "cell_type": "code",
      "source": [
        "# example of pixel normalization\n",
        "from numpy import asarray"
      ],
      "metadata": {
        "id": "h2it1zRtC4TI"
      },
      "execution_count": 65,
      "outputs": []
    },
    {
      "cell_type": "code",
      "source": [
        "def normalize_images_in_folder(IMG_FOLDER):\n",
        "    images = []\n",
        "    for img in IMG_FOLDER:\n",
        "        pixels = asarray(img)\n",
        "        # convert from integers to floats\n",
        "        pixels = pixels.astype('float32')\n",
        "        # normalize to the range 0-1\n",
        "        pixels = pixels/255\n",
        "        # confirm the normalization\n",
        "        # print('Min: %.3f, Max: %.3f' % (pixels.min(), pixels.max()))\n",
        "        # calculate global mean and standard deviation\n",
        "        mean, std = pixels.mean(), pixels.std()\n",
        "        # global standardization of pixels\n",
        "        pixels = (pixels - mean) / std\n",
        "        # confirm it had the desired effect\n",
        "        mean, std = pixels.mean(), pixels.std()\n",
        "        # print('Mean: %.3f, Standard Deviation: %.3f' % (mean, std))\n",
        "        images.append(pixels)\n",
        "    return np.array(images).astype(np.float32)\n"
      ],
      "metadata": {
        "id": "bYjlHZJOBaYO"
      },
      "execution_count": 66,
      "outputs": []
    },
    {
      "cell_type": "code",
      "source": [
        "def give_image_a_label(images, label):\n",
        "    storage = []\n",
        "    for i in range(images.shape[0]):\n",
        "        storage.append(label)\n",
        "\n",
        "    return np.array(storage).astype(np.float32)"
      ],
      "metadata": {
        "id": "_6ylFQYgB0xC"
      },
      "execution_count": 67,
      "outputs": []
    },
    {
      "cell_type": "code",
      "source": [
        "A_0 = normalize_images_in_folder(A_0)\n",
        "print(A_0.shape)\n",
        "y_0 = give_image_a_label(A_0, 0)\n",
        "print(A_0[0].shape)\n",
        "print(y_0[0])"
      ],
      "metadata": {
        "colab": {
          "base_uri": "https://localhost:8080/"
        },
        "id": "uYara-v1B7lz",
        "outputId": "221f65c7-8f8a-4f2d-d58e-6a8de78bb824"
      },
      "execution_count": 68,
      "outputs": [
        {
          "output_type": "stream",
          "name": "stdout",
          "text": [
            "(159, 100, 100, 3)\n",
            "(100, 100, 3)\n",
            "0.0\n"
          ]
        }
      ]
    },
    {
      "cell_type": "code",
      "source": [
        "plt.hist(np.array(A_0[1]).ravel(), bins=50, density=True)\n",
        "plt.xlabel(\"pixel values\")\n",
        "plt.ylabel(\"relative frequency\")\n",
        "plt.title(\"distribution of pixels\")\n",
        "plt.show()"
      ],
      "metadata": {
        "colab": {
          "base_uri": "https://localhost:8080/",
          "height": 295
        },
        "id": "DI1e6Os9GYcH",
        "outputId": "0deb1998-fd62-4c5f-c946-434bac103a69"
      },
      "execution_count": 69,
      "outputs": [
        {
          "output_type": "display_data",
          "data": {
            "text/plain": [
              "<Figure size 432x288 with 1 Axes>"
            ],
            "image/png": "[encoded data removed]"
          },
          "metadata": {
            "needs_background": "light"
          }
        }
      ]
    },
    {
      "cell_type": "code",
      "source": [
        "A_1 = normalize_images_in_folder(A_1)\n",
        "y_1 = give_image_a_label(A_1,1)\n",
        "print(A_1[0].shape)\n",
        "print(y_1[0])\n",
        "\n",
        "A_2 = normalize_images_in_folder(A_2)\n",
        "y_2 = give_image_a_label(A_2, 2)\n",
        "print(A_2[0].shape)\n",
        "print(y_2[0])\n",
        "\n",
        "A_3 = normalize_images_in_folder(A_3)\n",
        "y_3 = give_image_a_label(A_3, 3)\n",
        "print(A_3[0].shape)\n",
        "print(y_3[0])\n",
        "\n",
        "A_4 = normalize_images_in_folder(A_4)\n",
        "y_4 = give_image_a_label(A_4,4)\n",
        "print(A_4[0].shape)\n",
        "print(y_4[0])\n",
        "\n",
        "A_5 = normalize_images_in_folder(A_5)\n",
        "y_5 = give_image_a_label(A_5,5)\n",
        "print(A_5[0].shape)\n",
        "print(y_5[0])\n",
        "\n",
        "A_6 = normalize_images_in_folder(A_6)\n",
        "y_6 = give_image_a_label(A_6, 6)\n",
        "print(A_6[0].shape)\n",
        "print(y_6[0])\n",
        "\n",
        "A_7 = normalize_images_in_folder(A_7)\n",
        "y_7 = give_image_a_label(A_7, 7)\n",
        "print(A_7[0].shape)\n",
        "print(y_7[0])\n",
        "\n",
        "\n",
        "A_8 = normalize_images_in_folder(A_8)\n",
        "y_8 = give_image_a_label(A_8, 8)\n",
        "print(A_8[0].shape)\n",
        "print(y_8[0])\n",
        "\n",
        "\n",
        "A_9 = normalize_images_in_folder(A_9)\n",
        "y_9 = give_image_a_label(A_9, 9)\n",
        "print(A_9[0].shape)\n",
        "print(y_9[0])"
      ],
      "metadata": {
        "colab": {
          "base_uri": "https://localhost:8080/"
        },
        "id": "WbJOomkTILEK",
        "outputId": "979636c2-486d-4622-82dc-74e4adcccac6"
      },
      "execution_count": 70,
      "outputs": [
        {
          "output_type": "stream",
          "name": "stdout",
          "text": [
            "(100, 100, 3)\n",
            "1.0\n",
            "(100, 100, 3)\n",
            "2.0\n",
            "(100, 100, 3)\n",
            "3.0\n",
            "(100, 100, 3)\n",
            "4.0\n",
            "(100, 100, 3)\n",
            "5.0\n",
            "(100, 100, 3)\n",
            "6.0\n",
            "(100, 100, 3)\n",
            "7.0\n",
            "(100, 100, 3)\n",
            "8.0\n",
            "(100, 100, 3)\n",
            "9.0\n"
          ]
        }
      ]
    },
    {
      "cell_type": "code",
      "source": [
        "# convert numpy array to torch tensor\n",
        "A_0 = torch.from_numpy(A_0)\n",
        "A_1 = torch.from_numpy(A_1)\n",
        "A_2 = torch.from_numpy(A_2)\n",
        "A_3 = torch.from_numpy(A_3)\n",
        "A_4 = torch.from_numpy(A_4)\n",
        "A_5 = torch.from_numpy(A_5)\n",
        "A_6 = torch.from_numpy(A_6)\n",
        "A_7 = torch.from_numpy(A_7)\n",
        "A_8 = torch.from_numpy(A_8)\n",
        "A_9 = torch.from_numpy(A_9)"
      ],
      "metadata": {
        "id": "-i1U3vt5Ino5"
      },
      "execution_count": 71,
      "outputs": []
    },
    {
      "cell_type": "code",
      "source": [
        "y_0 = torch.from_numpy(y_0)\n",
        "y_1 = torch.from_numpy(y_1)\n",
        "y_2 = torch.from_numpy(y_2)\n",
        "y_3 = torch.from_numpy(y_3)\n",
        "y_4 = torch.from_numpy(y_4)\n",
        "y_5 = torch.from_numpy(y_5)\n",
        "y_6 = torch.from_numpy(y_6)\n",
        "y_7 = torch.from_numpy(y_7)\n",
        "y_8 = torch.from_numpy(y_8)\n",
        "y_9 = torch.from_numpy(y_9)"
      ],
      "metadata": {
        "id": "iqVq9GyEIqNQ"
      },
      "execution_count": 72,
      "outputs": []
    },
    {
      "cell_type": "code",
      "source": [
        "# concatenate the data of normal, ball, inner_race, outer_race\n",
        "X = torch.cat((A_0, A_1, A_2, A_3, A_4, A_5, A_6, A_7, A_8, A_9), dim=0)\n",
        "print(X.shape)"
      ],
      "metadata": {
        "colab": {
          "base_uri": "https://localhost:8080/"
        },
        "id": "RCfGrKVNItri",
        "outputId": "1322137d-bd7b-4845-da1d-5d1b40edb955"
      },
      "execution_count": 73,
      "outputs": [
        {
          "output_type": "stream",
          "name": "stdout",
          "text": [
            "torch.Size([1599, 100, 100, 3])\n"
          ]
        }
      ]
    },
    {
      "cell_type": "code",
      "source": [
        "# concatenate the label data of normal, ball, inner_race, outer_race\n",
        "y = torch.cat((y_0, y_1, y_2, y_3, y_4, y_5, y_6, y_7, y_8, y_9), dim=0)\n",
        "print(y.shape)"
      ],
      "metadata": {
        "colab": {
          "base_uri": "https://localhost:8080/"
        },
        "id": "yJ9ACki3IvS5",
        "outputId": "2518473a-7854-4a75-9801-8138d1f8f39d"
      },
      "execution_count": 74,
      "outputs": [
        {
          "output_type": "stream",
          "name": "stdout",
          "text": [
            "torch.Size([1599])\n"
          ]
        }
      ]
    },
    {
      "cell_type": "code",
      "source": [
        "train = X\n",
        "test = y\n",
        "print(train.shape)\n",
        "print(test.shape)"
      ],
      "metadata": {
        "colab": {
          "base_uri": "https://localhost:8080/"
        },
        "id": "fcSdAXG-I5sx",
        "outputId": "f4c8581b-afc7-4e22-ac44-326cdbac600f"
      },
      "execution_count": 75,
      "outputs": [
        {
          "output_type": "stream",
          "name": "stdout",
          "text": [
            "torch.Size([1599, 100, 100, 3])\n",
            "torch.Size([1599])\n"
          ]
        }
      ]
    },
    {
      "cell_type": "code",
      "source": [
        "# set aside 20% of train and test data for evaluation\n",
        "X_train, X_val, y_train, y_val = train_test_split(train, test,\n",
        "    test_size=0.2, shuffle = True, random_state = 8)"
      ],
      "metadata": {
        "id": "gLcBHrO7I7Fo"
      },
      "execution_count": 76,
      "outputs": []
    },
    {
      "cell_type": "code",
      "source": [
        "print(\"X_train shape: {}, dtype: {}\".format(X_train.shape, type(X_train)))\n",
        "\n",
        "print(\"y_train shape: {}\".format(y_train.shape))\n",
        "\n",
        "print(\"X_val shape: {}\".format(X_val.shape))\n",
        "print(\"y_val shape: {}\".format(y_val.shape))"
      ],
      "metadata": {
        "colab": {
          "base_uri": "https://localhost:8080/"
        },
        "id": "KLD5lt4bI9Ml",
        "outputId": "f46a95ea-07c1-41bc-d719-835f75c55d4c"
      },
      "execution_count": 77,
      "outputs": [
        {
          "output_type": "stream",
          "name": "stdout",
          "text": [
            "X_train shape: torch.Size([1279, 100, 100, 3]), dtype: <class 'torch.Tensor'>\n",
            "y_train shape: torch.Size([1279])\n",
            "X_val shape: torch.Size([320, 100, 100, 3])\n",
            "y_val shape: torch.Size([320])\n"
          ]
        }
      ]
    },
    {
      "cell_type": "code",
      "source": [
        "# Functions for training\n",
        "def get_dataloader(train_ds, valid_ds, bs):\n",
        "    '''\n",
        "        Get dataloaders of the training and validation set.\n",
        "        Parameter:\n",
        "            train_ds: Dataset\n",
        "                Training set\n",
        "            valid_ds: Dataset\n",
        "                Validation set\n",
        "            bs: Int\n",
        "                Batch size\n",
        "\n",
        "        Return:\n",
        "            (train_dl, valid_dl): Tuple of DataLoader\n",
        "                Dataloaders of training and validation set.\n",
        "    '''\n",
        "    return (\n",
        "        DataLoader(train_ds, batch_size=bs, drop_last=True, shuffle=True),\n",
        "        DataLoader(valid_ds, batch_size=bs * 2, drop_last=True),\n",
        "    )\n"
      ],
      "metadata": {
        "id": "5VhUH8EVI_M8"
      },
      "execution_count": 78,
      "outputs": []
    },
    {
      "cell_type": "code",
      "source": [
        "## Create DataLoader of train and validation set\n",
        "X_train = torch.tensor(X_train, dtype=torch.float32)\n",
        "X_valid = torch.tensor(X_val, dtype=torch.float32)\n",
        "y_train = torch.tensor(y_train).type(torch.LongTensor)\n",
        "y_valid = torch.tensor(y_val).type(torch.LongTensor)\n",
        "# print(X_train.shape, X_valid.shape, y_train.shape, y_valid.shape)\n",
        "\n",
        "# add channel dimesion\n",
        "X_train = X_train.permute(0, 3, 1, 2)\n",
        "X_valid = X_valid.permute(0, 3, 1, 2)\n",
        "\n",
        "print(X_train.shape)\n",
        "print(X_valid.shape)\n",
        "\n",
        "train_ds = TensorDataset(X_train, y_train)\n",
        "valid_ds = TensorDataset(X_valid, y_valid)"
      ],
      "metadata": {
        "colab": {
          "base_uri": "https://localhost:8080/"
        },
        "id": "VrAqaS-zJCX2",
        "outputId": "2b83828d-3265-480f-eca6-02bbb36b7612"
      },
      "execution_count": 79,
      "outputs": [
        {
          "output_type": "stream",
          "name": "stdout",
          "text": [
            "torch.Size([1279, 3, 100, 100])\n",
            "torch.Size([320, 3, 100, 100])\n"
          ]
        },
        {
          "output_type": "stream",
          "name": "stderr",
          "text": [
            "/usr/local/lib/python3.7/dist-packages/ipykernel_launcher.py:2: UserWarning: To copy construct from a tensor, it is recommended to use sourceTensor.clone().detach() or sourceTensor.clone().detach().requires_grad_(True), rather than torch.tensor(sourceTensor).\n",
            "  \n",
            "/usr/local/lib/python3.7/dist-packages/ipykernel_launcher.py:3: UserWarning: To copy construct from a tensor, it is recommended to use sourceTensor.clone().detach() or sourceTensor.clone().detach().requires_grad_(True), rather than torch.tensor(sourceTensor).\n",
            "  This is separate from the ipykernel package so we can avoid doing imports until\n",
            "/usr/local/lib/python3.7/dist-packages/ipykernel_launcher.py:4: UserWarning: To copy construct from a tensor, it is recommended to use sourceTensor.clone().detach() or sourceTensor.clone().detach().requires_grad_(True), rather than torch.tensor(sourceTensor).\n",
            "  after removing the cwd from sys.path.\n",
            "/usr/local/lib/python3.7/dist-packages/ipykernel_launcher.py:5: UserWarning: To copy construct from a tensor, it is recommended to use sourceTensor.clone().detach() or sourceTensor.clone().detach().requires_grad_(True), rather than torch.tensor(sourceTensor).\n",
            "  \"\"\"\n"
          ]
        }
      ]
    },
    {
      "cell_type": "code",
      "source": [
        "# bs = batchsize = 64 as defined in the hyperparameters \"look at the above cell\"\n",
        "batch_size = 16\n",
        "train_dl, valid_dl = get_dataloader(train_ds, valid_ds, batch_size)\n",
        "print(next(iter(train_dl))[0].shape)"
      ],
      "metadata": {
        "colab": {
          "base_uri": "https://localhost:8080/"
        },
        "id": "NUAv0bthJFlG",
        "outputId": "e0b28a19-46c1-4d93-e185-a9acd9019627"
      },
      "execution_count": 80,
      "outputs": [
        {
          "output_type": "stream",
          "name": "stdout",
          "text": [
            "torch.Size([16, 3, 100, 100])\n"
          ]
        }
      ]
    },
    {
      "cell_type": "code",
      "source": [
        "#Define a Convolution Neural Network\n",
        "\n",
        "class Image_Classifier(torch.nn.Module):\n",
        "    def __init__(self):\n",
        "        super(Image_Classifier, self).__init__()\n",
        "\n",
        "        self.Z1 = torch.nn.Conv2d(3, 8, 9, stride=3, padding=1).to(device)\n",
        "        self.B1 = torch.nn.BatchNorm2d(8).to(device)\n",
        "        self.A1 = torch.nn.ReLU().to(device)\n",
        "        self.P1 = torch.nn.MaxPool2d(2, stride=2).to(device)\n",
        "\n",
        "        self.Z2 = torch.nn.Conv2d(8, 16, 3, stride=1, padding=1).to(device)\n",
        "        self.B2 = torch.nn.BatchNorm2d(16).to(device)\n",
        "        self.A2 = torch.nn.ReLU().to(device)\n",
        "        self.P2 = torch.nn.MaxPool2d(2, stride=2).to(device)\n",
        "\n",
        "        self.linear1 = torch.nn.Linear(1024, 512, bias=True).to(device)\n",
        "        self.A3 = torch.nn.ReLU()\n",
        "        self.linear2 = torch.nn.Linear(512, 128, bias=True).to(device)\n",
        "        self.A4 = torch.nn.ReLU()\n",
        "        self.linear3 = torch.nn.Linear(128, 10, bias=True).to(device)\n",
        "\n",
        "    def forward(self, data):\n",
        "        data = data.to(device)\n",
        "        #print('input data shape', data.size())\n",
        "        layer1_1 = self.Z1(data)\n",
        "        #print(\"after conv1\", layer1_1.size())\n",
        "        layer1_2 = self.B1(layer1_1)\n",
        "        #print(\"after batch normalization\", layer1_2.size())\n",
        "        layer1_3 = self.A1(layer1_2)\n",
        "        #print(\"after RELU 1\", layer1_3.size())\n",
        "        layer1_4 = self.P1(layer1_2)\n",
        "        #print(\"after pooling 1\", layer1_4.size())\n",
        "\n",
        "        layer2_1 = self.Z2(layer1_4)\n",
        "        #print(\"after conv2\", layer2_1.size())\n",
        "        layer2_2 = self.B2(layer2_1)\n",
        "        #print(\"after batch normalization\", layer2_2.size())\n",
        "\n",
        "        layer2_3 = self.A2(layer2_2)\n",
        "        #print(\"after RELU 2\", layer2_3.size())\n",
        "\n",
        "        layer2_4 = self.P2(layer2_3)\n",
        "        #print(\"after pooling 2\", layer2_4.size())\n",
        "\n",
        "\n",
        "        flatten = layer2_4.view(layer2_4.size()[0], 1024)\n",
        "        #print(\"after flatten\", flatten.size())\n",
        "        lin_out_1 = self.linear1(flatten)\n",
        "        #print(\"lin_out_1\", lin_out_1.size())\n",
        "\n",
        "        layer3_1 = self.A3(lin_out_1)\n",
        "\n",
        "        layer3_2 = self.A4(self.linear2(layer3_1))\n",
        "\n",
        "        out = self.linear3(layer3_2)\n",
        "        #print('output of the final nn.linear3', out.size())\n",
        "\n",
        "        return F.log_softmax(out, dim=1)"
      ],
      "metadata": {
        "id": "SYRcVGVwJLpd"
      },
      "execution_count": 81,
      "outputs": []
    },
    {
      "cell_type": "code",
      "source": [
        "device = torch.device(\"cuda\") if torch.cuda.is_available() else torch.device(\"cpu\")\n",
        "model = Image_Classifier()\n",
        "criterion = nn.CrossEntropyLoss()\n",
        "optimizer = optim.SGD(model.parameters(), lr=0.001, momentum=0.9)"
      ],
      "metadata": {
        "id": "9oSNinS-JMxE"
      },
      "execution_count": 85,
      "outputs": []
    },
    {
      "cell_type": "code",
      "source": [
        "num_epochs = 100\n",
        "n_total_steps = len(train_dl)\n",
        "for epoch in range(num_epochs):\n",
        "    for i, (images, labels) in enumerate(train_dl):\n",
        "        # orig shape: [4, 3, 100, 100] = 16, 3, 1024\n",
        "        images = images.to(device)\n",
        "        labels = labels.to(device)\n",
        "\n",
        "        # Forward pass\n",
        "        #print(\"this is our input\", images.shape)\n",
        "        #print(labels.shape)\n",
        "        outputs = model(images)\n",
        "        #print('outputs shape', outputs.shape)\n",
        "        loss = criterion(outputs, labels)\n",
        "        #print(\"loss shape\", loss)\n",
        "\n",
        "        # Backward and optimize\n",
        "        optimizer.zero_grad()\n",
        "        loss.backward()\n",
        "        optimizer.step()\n",
        "\n",
        "        if (i + 1) % 10 == 0:\n",
        "            print(f'Epoch [{epoch + 1}/{num_epochs}], Step [{i + 1}/{n_total_steps}], Loss: {loss.item():.6f}')\n",
        "            \n",
        "print('Finished Training')\n",
        "PATH = '/content/cnn.pth'\n",
        "torch.save(model.state_dict(), PATH)"
      ],
      "metadata": {
        "colab": {
          "base_uri": "https://localhost:8080/"
        },
        "id": "Gva4XZZ2JOaR",
        "outputId": "623836ff-dbd3-4f24-ba57-1a48191b77cf"
      },
      "execution_count": 86,
      "outputs": [
        {
          "output_type": "stream",
          "name": "stdout",
          "text": [
            "Epoch [1/100], Step [10/79], Loss: 2.329366\n",
            "Epoch [1/100], Step [20/79], Loss: 2.310806\n",
            "Epoch [1/100], Step [30/79], Loss: 2.258773\n",
            "Epoch [1/100], Step [40/79], Loss: 2.325935\n",
            "Epoch [1/100], Step [50/79], Loss: 2.276479\n",
            "Epoch [1/100], Step [60/79], Loss: 2.302457\n",
            "Epoch [1/100], Step [70/79], Loss: 2.294925\n",
            "Epoch [2/100], Step [10/79], Loss: 2.285561\n",
            "Epoch [2/100], Step [20/79], Loss: 2.287349\n",
            "Epoch [2/100], Step [30/79], Loss: 2.263821\n",
            "Epoch [2/100], Step [40/79], Loss: 2.236052\n",
            "Epoch [2/100], Step [50/79], Loss: 2.232152\n",
            "Epoch [2/100], Step [60/79], Loss: 2.245243\n",
            "Epoch [2/100], Step [70/79], Loss: 2.203867\n",
            "Epoch [3/100], Step [10/79], Loss: 2.150265\n",
            "Epoch [3/100], Step [20/79], Loss: 2.184019\n",
            "Epoch [3/100], Step [30/79], Loss: 2.178390\n",
            "Epoch [3/100], Step [40/79], Loss: 2.122959\n",
            "Epoch [3/100], Step [50/79], Loss: 2.146811\n",
            "Epoch [3/100], Step [60/79], Loss: 2.080427\n",
            "Epoch [3/100], Step [70/79], Loss: 2.132675\n",
            "Epoch [4/100], Step [10/79], Loss: 2.002263\n",
            "Epoch [4/100], Step [20/79], Loss: 2.158120\n",
            "Epoch [4/100], Step [30/79], Loss: 2.005794\n",
            "Epoch [4/100], Step [40/79], Loss: 2.030780\n",
            "Epoch [4/100], Step [50/79], Loss: 1.881993\n",
            "Epoch [4/100], Step [60/79], Loss: 1.843877\n",
            "Epoch [4/100], Step [70/79], Loss: 2.028100\n",
            "Epoch [5/100], Step [10/79], Loss: 1.981762\n",
            "Epoch [5/100], Step [20/79], Loss: 1.937503\n",
            "Epoch [5/100], Step [30/79], Loss: 1.662740\n",
            "Epoch [5/100], Step [40/79], Loss: 1.879688\n",
            "Epoch [5/100], Step [50/79], Loss: 2.208440\n",
            "Epoch [5/100], Step [60/79], Loss: 2.141259\n",
            "Epoch [5/100], Step [70/79], Loss: 1.466258\n",
            "Epoch [6/100], Step [10/79], Loss: 1.776088\n",
            "Epoch [6/100], Step [20/79], Loss: 1.787837\n",
            "Epoch [6/100], Step [30/79], Loss: 1.604157\n",
            "Epoch [6/100], Step [40/79], Loss: 1.650434\n",
            "Epoch [6/100], Step [50/79], Loss: 1.607514\n",
            "Epoch [6/100], Step [60/79], Loss: 1.766764\n",
            "Epoch [6/100], Step [70/79], Loss: 1.839185\n",
            "Epoch [7/100], Step [10/79], Loss: 1.612559\n",
            "Epoch [7/100], Step [20/79], Loss: 1.605780\n",
            "Epoch [7/100], Step [30/79], Loss: 1.663190\n",
            "Epoch [7/100], Step [40/79], Loss: 1.550947\n",
            "Epoch [7/100], Step [50/79], Loss: 1.202773\n",
            "Epoch [7/100], Step [60/79], Loss: 1.395901\n",
            "Epoch [7/100], Step [70/79], Loss: 1.942616\n",
            "Epoch [8/100], Step [10/79], Loss: 1.649704\n",
            "Epoch [8/100], Step [20/79], Loss: 1.587289\n",
            "Epoch [8/100], Step [30/79], Loss: 1.330922\n",
            "Epoch [8/100], Step [40/79], Loss: 1.477456\n",
            "Epoch [8/100], Step [50/79], Loss: 1.118116\n",
            "Epoch [8/100], Step [60/79], Loss: 1.506631\n",
            "Epoch [8/100], Step [70/79], Loss: 1.211126\n",
            "Epoch [9/100], Step [10/79], Loss: 1.123355\n",
            "Epoch [9/100], Step [20/79], Loss: 1.814517\n",
            "Epoch [9/100], Step [30/79], Loss: 1.515089\n",
            "Epoch [9/100], Step [40/79], Loss: 1.616370\n",
            "Epoch [9/100], Step [50/79], Loss: 1.308042\n",
            "Epoch [9/100], Step [60/79], Loss: 1.403867\n",
            "Epoch [9/100], Step [70/79], Loss: 1.155243\n",
            "Epoch [10/100], Step [10/79], Loss: 1.365330\n",
            "Epoch [10/100], Step [20/79], Loss: 0.850692\n",
            "Epoch [10/100], Step [30/79], Loss: 1.246041\n",
            "Epoch [10/100], Step [40/79], Loss: 1.083448\n",
            "Epoch [10/100], Step [50/79], Loss: 1.195916\n",
            "Epoch [10/100], Step [60/79], Loss: 0.913592\n",
            "Epoch [10/100], Step [70/79], Loss: 1.245201\n",
            "Epoch [11/100], Step [10/79], Loss: 1.112263\n",
            "Epoch [11/100], Step [20/79], Loss: 1.192215\n",
            "Epoch [11/100], Step [30/79], Loss: 0.832113\n",
            "Epoch [11/100], Step [40/79], Loss: 1.130879\n",
            "Epoch [11/100], Step [50/79], Loss: 1.216335\n",
            "Epoch [11/100], Step [60/79], Loss: 0.834155\n",
            "Epoch [11/100], Step [70/79], Loss: 1.542456\n",
            "Epoch [12/100], Step [10/79], Loss: 1.240710\n",
            "Epoch [12/100], Step [20/79], Loss: 0.866675\n",
            "Epoch [12/100], Step [30/79], Loss: 0.847458\n",
            "Epoch [12/100], Step [40/79], Loss: 1.355490\n",
            "Epoch [12/100], Step [50/79], Loss: 0.751910\n",
            "Epoch [12/100], Step [60/79], Loss: 1.259354\n",
            "Epoch [12/100], Step [70/79], Loss: 1.027440\n",
            "Epoch [13/100], Step [10/79], Loss: 0.972952\n",
            "Epoch [13/100], Step [20/79], Loss: 1.011077\n",
            "Epoch [13/100], Step [30/79], Loss: 0.763011\n",
            "Epoch [13/100], Step [40/79], Loss: 0.979837\n",
            "Epoch [13/100], Step [50/79], Loss: 0.835790\n",
            "Epoch [13/100], Step [60/79], Loss: 1.093507\n",
            "Epoch [13/100], Step [70/79], Loss: 1.183907\n",
            "Epoch [14/100], Step [10/79], Loss: 1.026513\n",
            "Epoch [14/100], Step [20/79], Loss: 0.737203\n",
            "Epoch [14/100], Step [30/79], Loss: 1.141482\n",
            "Epoch [14/100], Step [40/79], Loss: 0.795802\n",
            "Epoch [14/100], Step [50/79], Loss: 0.775130\n",
            "Epoch [14/100], Step [60/79], Loss: 0.720602\n",
            "Epoch [14/100], Step [70/79], Loss: 0.680890\n",
            "Epoch [15/100], Step [10/79], Loss: 0.647910\n",
            "Epoch [15/100], Step [20/79], Loss: 1.107571\n",
            "Epoch [15/100], Step [30/79], Loss: 0.770195\n",
            "Epoch [15/100], Step [40/79], Loss: 0.819443\n",
            "Epoch [15/100], Step [50/79], Loss: 0.725009\n",
            "Epoch [15/100], Step [60/79], Loss: 0.752585\n",
            "Epoch [15/100], Step [70/79], Loss: 0.713348\n",
            "Epoch [16/100], Step [10/79], Loss: 0.599956\n",
            "Epoch [16/100], Step [20/79], Loss: 0.470885\n",
            "Epoch [16/100], Step [30/79], Loss: 1.064800\n",
            "Epoch [16/100], Step [40/79], Loss: 0.562002\n",
            "Epoch [16/100], Step [50/79], Loss: 0.408173\n",
            "Epoch [16/100], Step [60/79], Loss: 1.174537\n",
            "Epoch [16/100], Step [70/79], Loss: 1.142939\n",
            "Epoch [17/100], Step [10/79], Loss: 0.480824\n",
            "Epoch [17/100], Step [20/79], Loss: 0.859270\n",
            "Epoch [17/100], Step [30/79], Loss: 0.815283\n",
            "Epoch [17/100], Step [40/79], Loss: 0.829366\n",
            "Epoch [17/100], Step [50/79], Loss: 0.651298\n",
            "Epoch [17/100], Step [60/79], Loss: 0.523689\n",
            "Epoch [17/100], Step [70/79], Loss: 0.799312\n",
            "Epoch [18/100], Step [10/79], Loss: 0.586416\n",
            "Epoch [18/100], Step [20/79], Loss: 0.337879\n",
            "Epoch [18/100], Step [30/79], Loss: 0.663095\n",
            "Epoch [18/100], Step [40/79], Loss: 0.593954\n",
            "Epoch [18/100], Step [50/79], Loss: 0.379314\n",
            "Epoch [18/100], Step [60/79], Loss: 0.894012\n",
            "Epoch [18/100], Step [70/79], Loss: 0.534824\n",
            "Epoch [19/100], Step [10/79], Loss: 0.589676\n",
            "Epoch [19/100], Step [20/79], Loss: 0.360116\n",
            "Epoch [19/100], Step [30/79], Loss: 0.991474\n",
            "Epoch [19/100], Step [40/79], Loss: 0.732769\n",
            "Epoch [19/100], Step [50/79], Loss: 0.420747\n",
            "Epoch [19/100], Step [60/79], Loss: 0.299134\n",
            "Epoch [19/100], Step [70/79], Loss: 0.369569\n",
            "Epoch [20/100], Step [10/79], Loss: 0.428900\n",
            "Epoch [20/100], Step [20/79], Loss: 0.453270\n",
            "Epoch [20/100], Step [30/79], Loss: 0.233030\n",
            "Epoch [20/100], Step [40/79], Loss: 0.574348\n",
            "Epoch [20/100], Step [50/79], Loss: 0.495517\n",
            "Epoch [20/100], Step [60/79], Loss: 0.371502\n",
            "Epoch [20/100], Step [70/79], Loss: 0.464730\n",
            "Epoch [21/100], Step [10/79], Loss: 0.316671\n",
            "Epoch [21/100], Step [20/79], Loss: 0.316016\n",
            "Epoch [21/100], Step [30/79], Loss: 0.445293\n",
            "Epoch [21/100], Step [40/79], Loss: 0.348073\n",
            "Epoch [21/100], Step [50/79], Loss: 0.341135\n",
            "Epoch [21/100], Step [60/79], Loss: 0.507630\n",
            "Epoch [21/100], Step [70/79], Loss: 0.416909\n",
            "Epoch [22/100], Step [10/79], Loss: 0.424244\n",
            "Epoch [22/100], Step [20/79], Loss: 0.428489\n",
            "Epoch [22/100], Step [30/79], Loss: 0.414524\n",
            "Epoch [22/100], Step [40/79], Loss: 0.253800\n",
            "Epoch [22/100], Step [50/79], Loss: 0.650120\n",
            "Epoch [22/100], Step [60/79], Loss: 0.597365\n",
            "Epoch [22/100], Step [70/79], Loss: 0.228126\n",
            "Epoch [23/100], Step [10/79], Loss: 0.285636\n",
            "Epoch [23/100], Step [20/79], Loss: 0.319247\n",
            "Epoch [23/100], Step [30/79], Loss: 0.331168\n",
            "Epoch [23/100], Step [40/79], Loss: 0.349056\n",
            "Epoch [23/100], Step [50/79], Loss: 0.508303\n",
            "Epoch [23/100], Step [60/79], Loss: 0.296753\n",
            "Epoch [23/100], Step [70/79], Loss: 0.347017\n",
            "Epoch [24/100], Step [10/79], Loss: 0.424587\n",
            "Epoch [24/100], Step [20/79], Loss: 0.339048\n",
            "Epoch [24/100], Step [30/79], Loss: 0.347570\n",
            "Epoch [24/100], Step [40/79], Loss: 0.316392\n",
            "Epoch [24/100], Step [50/79], Loss: 0.300957\n",
            "Epoch [24/100], Step [60/79], Loss: 0.163187\n",
            "Epoch [24/100], Step [70/79], Loss: 0.370254\n",
            "Epoch [25/100], Step [10/79], Loss: 0.330357\n",
            "Epoch [25/100], Step [20/79], Loss: 0.204689\n",
            "Epoch [25/100], Step [30/79], Loss: 0.117173\n",
            "Epoch [25/100], Step [40/79], Loss: 0.287401\n",
            "Epoch [25/100], Step [50/79], Loss: 0.283779\n",
            "Epoch [25/100], Step [60/79], Loss: 0.347899\n",
            "Epoch [25/100], Step [70/79], Loss: 0.229897\n",
            "Epoch [26/100], Step [10/79], Loss: 0.257625\n",
            "Epoch [26/100], Step [20/79], Loss: 0.176405\n",
            "Epoch [26/100], Step [30/79], Loss: 0.093550\n",
            "Epoch [26/100], Step [40/79], Loss: 0.172848\n",
            "Epoch [26/100], Step [50/79], Loss: 0.197029\n",
            "Epoch [26/100], Step [60/79], Loss: 0.258751\n",
            "Epoch [26/100], Step [70/79], Loss: 0.218415\n",
            "Epoch [27/100], Step [10/79], Loss: 0.225704\n",
            "Epoch [27/100], Step [20/79], Loss: 0.146722\n",
            "Epoch [27/100], Step [30/79], Loss: 0.133325\n",
            "Epoch [27/100], Step [40/79], Loss: 0.196251\n",
            "Epoch [27/100], Step [50/79], Loss: 0.166152\n",
            "Epoch [27/100], Step [60/79], Loss: 0.280555\n",
            "Epoch [27/100], Step [70/79], Loss: 0.096624\n",
            "Epoch [28/100], Step [10/79], Loss: 0.103058\n",
            "Epoch [28/100], Step [20/79], Loss: 0.105287\n",
            "Epoch [28/100], Step [30/79], Loss: 0.115292\n",
            "Epoch [28/100], Step [40/79], Loss: 0.122540\n",
            "Epoch [28/100], Step [50/79], Loss: 0.176419\n",
            "Epoch [28/100], Step [60/79], Loss: 0.303459\n",
            "Epoch [28/100], Step [70/79], Loss: 0.257423\n",
            "Epoch [29/100], Step [10/79], Loss: 0.217716\n",
            "Epoch [29/100], Step [20/79], Loss: 0.154629\n",
            "Epoch [29/100], Step [30/79], Loss: 0.184015\n",
            "Epoch [29/100], Step [40/79], Loss: 0.101491\n",
            "Epoch [29/100], Step [50/79], Loss: 0.124362\n",
            "Epoch [29/100], Step [60/79], Loss: 0.146203\n",
            "Epoch [29/100], Step [70/79], Loss: 0.114902\n",
            "Epoch [30/100], Step [10/79], Loss: 0.077561\n",
            "Epoch [30/100], Step [20/79], Loss: 0.133104\n",
            "Epoch [30/100], Step [30/79], Loss: 0.104544\n",
            "Epoch [30/100], Step [40/79], Loss: 0.113100\n",
            "Epoch [30/100], Step [50/79], Loss: 0.088780\n",
            "Epoch [30/100], Step [60/79], Loss: 0.110942\n",
            "Epoch [30/100], Step [70/79], Loss: 0.108280\n",
            "Epoch [31/100], Step [10/79], Loss: 0.108424\n",
            "Epoch [31/100], Step [20/79], Loss: 0.038097\n",
            "Epoch [31/100], Step [30/79], Loss: 0.058054\n",
            "Epoch [31/100], Step [40/79], Loss: 0.089658\n",
            "Epoch [31/100], Step [50/79], Loss: 0.075550\n",
            "Epoch [31/100], Step [60/79], Loss: 0.116423\n",
            "Epoch [31/100], Step [70/79], Loss: 0.060434\n",
            "Epoch [32/100], Step [10/79], Loss: 0.045202\n",
            "Epoch [32/100], Step [20/79], Loss: 0.067828\n",
            "Epoch [32/100], Step [30/79], Loss: 0.077004\n",
            "Epoch [32/100], Step [40/79], Loss: 0.089541\n",
            "Epoch [32/100], Step [50/79], Loss: 0.030606\n",
            "Epoch [32/100], Step [60/79], Loss: 0.079828\n",
            "Epoch [32/100], Step [70/79], Loss: 0.143317\n",
            "Epoch [33/100], Step [10/79], Loss: 0.099380\n",
            "Epoch [33/100], Step [20/79], Loss: 0.086882\n",
            "Epoch [33/100], Step [30/79], Loss: 0.165937\n",
            "Epoch [33/100], Step [40/79], Loss: 0.058168\n",
            "Epoch [33/100], Step [50/79], Loss: 0.083362\n",
            "Epoch [33/100], Step [60/79], Loss: 0.052937\n",
            "Epoch [33/100], Step [70/79], Loss: 0.054296\n",
            "Epoch [34/100], Step [10/79], Loss: 0.046598\n",
            "Epoch [34/100], Step [20/79], Loss: 0.053162\n",
            "Epoch [34/100], Step [30/79], Loss: 0.056574\n",
            "Epoch [34/100], Step [40/79], Loss: 0.033380\n",
            "Epoch [34/100], Step [50/79], Loss: 0.078903\n",
            "Epoch [34/100], Step [60/79], Loss: 0.058850\n",
            "Epoch [34/100], Step [70/79], Loss: 0.098851\n",
            "Epoch [35/100], Step [10/79], Loss: 0.093515\n",
            "Epoch [35/100], Step [20/79], Loss: 0.090261\n",
            "Epoch [35/100], Step [30/79], Loss: 0.045157\n",
            "Epoch [35/100], Step [40/79], Loss: 0.053802\n",
            "Epoch [35/100], Step [50/79], Loss: 0.049120\n",
            "Epoch [35/100], Step [60/79], Loss: 0.048841\n",
            "Epoch [35/100], Step [70/79], Loss: 0.069335\n",
            "Epoch [36/100], Step [10/79], Loss: 0.034172\n",
            "Epoch [36/100], Step [20/79], Loss: 0.048557\n",
            "Epoch [36/100], Step [30/79], Loss: 0.043483\n",
            "Epoch [36/100], Step [40/79], Loss: 0.019928\n",
            "Epoch [36/100], Step [50/79], Loss: 0.056760\n",
            "Epoch [36/100], Step [60/79], Loss: 0.048040\n",
            "Epoch [36/100], Step [70/79], Loss: 0.021154\n",
            "Epoch [37/100], Step [10/79], Loss: 0.039747\n",
            "Epoch [37/100], Step [20/79], Loss: 0.038449\n",
            "Epoch [37/100], Step [30/79], Loss: 0.037635\n",
            "Epoch [37/100], Step [40/79], Loss: 0.048246\n",
            "Epoch [37/100], Step [50/79], Loss: 0.014969\n",
            "Epoch [37/100], Step [60/79], Loss: 0.044994\n",
            "Epoch [37/100], Step [70/79], Loss: 0.028219\n",
            "Epoch [38/100], Step [10/79], Loss: 0.048905\n",
            "Epoch [38/100], Step [20/79], Loss: 0.030341\n",
            "Epoch [38/100], Step [30/79], Loss: 0.030832\n",
            "Epoch [38/100], Step [40/79], Loss: 0.054027\n",
            "Epoch [38/100], Step [50/79], Loss: 0.100150\n",
            "Epoch [38/100], Step [60/79], Loss: 0.216561\n",
            "Epoch [38/100], Step [70/79], Loss: 0.036917\n",
            "Epoch [39/100], Step [10/79], Loss: 0.028915\n",
            "Epoch [39/100], Step [20/79], Loss: 0.028399\n",
            "Epoch [39/100], Step [30/79], Loss: 0.020296\n",
            "Epoch [39/100], Step [40/79], Loss: 0.042700\n",
            "Epoch [39/100], Step [50/79], Loss: 0.174114\n",
            "Epoch [39/100], Step [60/79], Loss: 0.027037\n",
            "Epoch [39/100], Step [70/79], Loss: 0.060052\n",
            "Epoch [40/100], Step [10/79], Loss: 0.031339\n",
            "Epoch [40/100], Step [20/79], Loss: 0.011227\n",
            "Epoch [40/100], Step [30/79], Loss: 0.342504\n",
            "Epoch [40/100], Step [40/79], Loss: 0.032613\n",
            "Epoch [40/100], Step [50/79], Loss: 0.028146\n",
            "Epoch [40/100], Step [60/79], Loss: 0.035125\n",
            "Epoch [40/100], Step [70/79], Loss: 0.026790\n",
            "Epoch [41/100], Step [10/79], Loss: 0.026042\n",
            "Epoch [41/100], Step [20/79], Loss: 0.016684\n",
            "Epoch [41/100], Step [30/79], Loss: 0.023652\n",
            "Epoch [41/100], Step [40/79], Loss: 0.027353\n",
            "Epoch [41/100], Step [50/79], Loss: 0.025496\n",
            "Epoch [41/100], Step [60/79], Loss: 0.029967\n",
            "Epoch [41/100], Step [70/79], Loss: 0.018740\n",
            "Epoch [42/100], Step [10/79], Loss: 0.014977\n",
            "Epoch [42/100], Step [20/79], Loss: 0.021940\n",
            "Epoch [42/100], Step [30/79], Loss: 0.022545\n",
            "Epoch [42/100], Step [40/79], Loss: 0.012605\n",
            "Epoch [42/100], Step [50/79], Loss: 0.025247\n",
            "Epoch [42/100], Step [60/79], Loss: 0.031999\n",
            "Epoch [42/100], Step [70/79], Loss: 0.045340\n",
            "Epoch [43/100], Step [10/79], Loss: 0.023475\n",
            "Epoch [43/100], Step [20/79], Loss: 0.027865\n",
            "Epoch [43/100], Step [30/79], Loss: 0.040029\n",
            "Epoch [43/100], Step [40/79], Loss: 0.027505\n",
            "Epoch [43/100], Step [50/79], Loss: 0.034441\n",
            "Epoch [43/100], Step [60/79], Loss: 0.032564\n",
            "Epoch [43/100], Step [70/79], Loss: 0.034918\n",
            "Epoch [44/100], Step [10/79], Loss: 0.013099\n",
            "Epoch [44/100], Step [20/79], Loss: 0.012640\n",
            "Epoch [44/100], Step [30/79], Loss: 0.023602\n",
            "Epoch [44/100], Step [40/79], Loss: 0.127476\n",
            "Epoch [44/100], Step [50/79], Loss: 0.031380\n",
            "Epoch [44/100], Step [60/79], Loss: 0.132598\n",
            "Epoch [44/100], Step [70/79], Loss: 0.023475\n",
            "Epoch [45/100], Step [10/79], Loss: 0.016845\n",
            "Epoch [45/100], Step [20/79], Loss: 0.020723\n",
            "Epoch [45/100], Step [30/79], Loss: 0.022009\n",
            "Epoch [45/100], Step [40/79], Loss: 0.008914\n",
            "Epoch [45/100], Step [50/79], Loss: 0.008151\n",
            "Epoch [45/100], Step [60/79], Loss: 0.016125\n",
            "Epoch [45/100], Step [70/79], Loss: 0.019018\n",
            "Epoch [46/100], Step [10/79], Loss: 0.021166\n",
            "Epoch [46/100], Step [20/79], Loss: 0.016827\n",
            "Epoch [46/100], Step [30/79], Loss: 0.039155\n",
            "Epoch [46/100], Step [40/79], Loss: 0.017671\n",
            "Epoch [46/100], Step [50/79], Loss: 0.016690\n",
            "Epoch [46/100], Step [60/79], Loss: 0.010754\n",
            "Epoch [46/100], Step [70/79], Loss: 0.022172\n",
            "Epoch [47/100], Step [10/79], Loss: 0.026856\n",
            "Epoch [47/100], Step [20/79], Loss: 0.019629\n",
            "Epoch [47/100], Step [30/79], Loss: 0.019250\n",
            "Epoch [47/100], Step [40/79], Loss: 0.031155\n",
            "Epoch [47/100], Step [50/79], Loss: 0.055265\n",
            "Epoch [47/100], Step [60/79], Loss: 0.016523\n",
            "Epoch [47/100], Step [70/79], Loss: 0.017790\n",
            "Epoch [48/100], Step [10/79], Loss: 0.027616\n",
            "Epoch [48/100], Step [20/79], Loss: 0.009150\n",
            "Epoch [48/100], Step [30/79], Loss: 0.017597\n",
            "Epoch [48/100], Step [40/79], Loss: 0.017338\n",
            "Epoch [48/100], Step [50/79], Loss: 0.008600\n",
            "Epoch [48/100], Step [60/79], Loss: 0.014714\n",
            "Epoch [48/100], Step [70/79], Loss: 0.010346\n",
            "Epoch [49/100], Step [10/79], Loss: 0.014707\n",
            "Epoch [49/100], Step [20/79], Loss: 0.026482\n",
            "Epoch [49/100], Step [30/79], Loss: 0.016620\n",
            "Epoch [49/100], Step [40/79], Loss: 0.031646\n",
            "Epoch [49/100], Step [50/79], Loss: 0.005146\n",
            "Epoch [49/100], Step [60/79], Loss: 0.014381\n",
            "Epoch [49/100], Step [70/79], Loss: 0.011487\n",
            "Epoch [50/100], Step [10/79], Loss: 0.018688\n",
            "Epoch [50/100], Step [20/79], Loss: 0.011943\n",
            "Epoch [50/100], Step [30/79], Loss: 0.035676\n",
            "Epoch [50/100], Step [40/79], Loss: 0.424744\n",
            "Epoch [50/100], Step [50/79], Loss: 0.027289\n",
            "Epoch [50/100], Step [60/79], Loss: 0.022075\n",
            "Epoch [50/100], Step [70/79], Loss: 0.017056\n",
            "Epoch [51/100], Step [10/79], Loss: 0.015499\n",
            "Epoch [51/100], Step [20/79], Loss: 0.027746\n",
            "Epoch [51/100], Step [30/79], Loss: 0.006624\n",
            "Epoch [51/100], Step [40/79], Loss: 0.008274\n",
            "Epoch [51/100], Step [50/79], Loss: 0.014699\n",
            "Epoch [51/100], Step [60/79], Loss: 0.014213\n",
            "Epoch [51/100], Step [70/79], Loss: 0.608739\n",
            "Epoch [52/100], Step [10/79], Loss: 0.024526\n",
            "Epoch [52/100], Step [20/79], Loss: 0.028985\n",
            "Epoch [52/100], Step [30/79], Loss: 0.019254\n",
            "Epoch [52/100], Step [40/79], Loss: 0.010788\n",
            "Epoch [52/100], Step [50/79], Loss: 0.008216\n",
            "Epoch [52/100], Step [60/79], Loss: 0.018463\n",
            "Epoch [52/100], Step [70/79], Loss: 0.009301\n",
            "Epoch [53/100], Step [10/79], Loss: 0.015830\n",
            "Epoch [53/100], Step [20/79], Loss: 0.009954\n",
            "Epoch [53/100], Step [30/79], Loss: 0.010161\n",
            "Epoch [53/100], Step [40/79], Loss: 0.012036\n",
            "Epoch [53/100], Step [50/79], Loss: 0.009145\n",
            "Epoch [53/100], Step [60/79], Loss: 0.008581\n",
            "Epoch [53/100], Step [70/79], Loss: 0.008213\n",
            "Epoch [54/100], Step [10/79], Loss: 0.031116\n",
            "Epoch [54/100], Step [20/79], Loss: 0.019465\n",
            "Epoch [54/100], Step [30/79], Loss: 0.017161\n",
            "Epoch [54/100], Step [40/79], Loss: 0.608225\n",
            "Epoch [54/100], Step [50/79], Loss: 0.012509\n",
            "Epoch [54/100], Step [60/79], Loss: 0.013476\n",
            "Epoch [54/100], Step [70/79], Loss: 0.017014\n",
            "Epoch [55/100], Step [10/79], Loss: 0.008700\n",
            "Epoch [55/100], Step [20/79], Loss: 0.006806\n",
            "Epoch [55/100], Step [30/79], Loss: 0.019504\n",
            "Epoch [55/100], Step [40/79], Loss: 0.010406\n",
            "Epoch [55/100], Step [50/79], Loss: 0.011181\n",
            "Epoch [55/100], Step [60/79], Loss: 0.014779\n",
            "Epoch [55/100], Step [70/79], Loss: 0.009074\n",
            "Epoch [56/100], Step [10/79], Loss: 0.027830\n",
            "Epoch [56/100], Step [20/79], Loss: 0.024966\n",
            "Epoch [56/100], Step [30/79], Loss: 0.012023\n",
            "Epoch [56/100], Step [40/79], Loss: 0.021287\n",
            "Epoch [56/100], Step [50/79], Loss: 0.019910\n",
            "Epoch [56/100], Step [60/79], Loss: 0.006508\n",
            "Epoch [56/100], Step [70/79], Loss: 0.011891\n",
            "Epoch [57/100], Step [10/79], Loss: 0.008469\n",
            "Epoch [57/100], Step [20/79], Loss: 0.011964\n",
            "Epoch [57/100], Step [30/79], Loss: 0.185809\n",
            "Epoch [57/100], Step [40/79], Loss: 0.011684\n",
            "Epoch [57/100], Step [50/79], Loss: 0.010569\n",
            "Epoch [57/100], Step [60/79], Loss: 0.007128\n",
            "Epoch [57/100], Step [70/79], Loss: 0.010596\n",
            "Epoch [58/100], Step [10/79], Loss: 0.018036\n",
            "Epoch [58/100], Step [20/79], Loss: 0.009963\n",
            "Epoch [58/100], Step [30/79], Loss: 0.006104\n",
            "Epoch [58/100], Step [40/79], Loss: 0.009506\n",
            "Epoch [58/100], Step [50/79], Loss: 0.015330\n",
            "Epoch [58/100], Step [60/79], Loss: 0.007302\n",
            "Epoch [58/100], Step [70/79], Loss: 0.016553\n",
            "Epoch [59/100], Step [10/79], Loss: 0.014989\n",
            "Epoch [59/100], Step [20/79], Loss: 0.008593\n",
            "Epoch [59/100], Step [30/79], Loss: 0.023594\n",
            "Epoch [59/100], Step [40/79], Loss: 0.010552\n",
            "Epoch [59/100], Step [50/79], Loss: 0.005745\n",
            "Epoch [59/100], Step [60/79], Loss: 0.012778\n",
            "Epoch [59/100], Step [70/79], Loss: 0.025906\n",
            "Epoch [60/100], Step [10/79], Loss: 0.006657\n",
            "Epoch [60/100], Step [20/79], Loss: 0.017578\n",
            "Epoch [60/100], Step [30/79], Loss: 0.006222\n",
            "Epoch [60/100], Step [40/79], Loss: 0.006432\n",
            "Epoch [60/100], Step [50/79], Loss: 0.006311\n",
            "Epoch [60/100], Step [60/79], Loss: 0.006311\n",
            "Epoch [60/100], Step [70/79], Loss: 0.057704\n",
            "Epoch [61/100], Step [10/79], Loss: 0.013774\n",
            "Epoch [61/100], Step [20/79], Loss: 0.008050\n",
            "Epoch [61/100], Step [30/79], Loss: 0.012669\n",
            "Epoch [61/100], Step [40/79], Loss: 0.006397\n",
            "Epoch [61/100], Step [50/79], Loss: 0.007780\n",
            "Epoch [61/100], Step [60/79], Loss: 0.029906\n",
            "Epoch [61/100], Step [70/79], Loss: 0.031068\n",
            "Epoch [62/100], Step [10/79], Loss: 0.006814\n",
            "Epoch [62/100], Step [20/79], Loss: 0.010038\n",
            "Epoch [62/100], Step [30/79], Loss: 0.008094\n",
            "Epoch [62/100], Step [40/79], Loss: 0.011517\n",
            "Epoch [62/100], Step [50/79], Loss: 0.014760\n",
            "Epoch [62/100], Step [60/79], Loss: 0.013854\n",
            "Epoch [62/100], Step [70/79], Loss: 0.008487\n",
            "Epoch [63/100], Step [10/79], Loss: 0.006818\n",
            "Epoch [63/100], Step [20/79], Loss: 0.007445\n",
            "Epoch [63/100], Step [30/79], Loss: 0.012887\n",
            "Epoch [63/100], Step [40/79], Loss: 0.007575\n",
            "Epoch [63/100], Step [50/79], Loss: 0.013721\n",
            "Epoch [63/100], Step [60/79], Loss: 0.008299\n",
            "Epoch [63/100], Step [70/79], Loss: 0.005411\n",
            "Epoch [64/100], Step [10/79], Loss: 0.004964\n",
            "Epoch [64/100], Step [20/79], Loss: 0.003142\n",
            "Epoch [64/100], Step [30/79], Loss: 0.010950\n",
            "Epoch [64/100], Step [40/79], Loss: 0.013476\n",
            "Epoch [64/100], Step [50/79], Loss: 0.011903\n",
            "Epoch [64/100], Step [60/79], Loss: 0.055455\n",
            "Epoch [64/100], Step [70/79], Loss: 0.025658\n",
            "Epoch [65/100], Step [10/79], Loss: 0.010613\n",
            "Epoch [65/100], Step [20/79], Loss: 0.009553\n",
            "Epoch [65/100], Step [30/79], Loss: 0.007248\n",
            "Epoch [65/100], Step [40/79], Loss: 0.005589\n",
            "Epoch [65/100], Step [50/79], Loss: 0.003246\n",
            "Epoch [65/100], Step [60/79], Loss: 0.009473\n",
            "Epoch [65/100], Step [70/79], Loss: 0.007456\n",
            "Epoch [66/100], Step [10/79], Loss: 0.007582\n",
            "Epoch [66/100], Step [20/79], Loss: 0.006724\n",
            "Epoch [66/100], Step [30/79], Loss: 0.008870\n",
            "Epoch [66/100], Step [40/79], Loss: 0.006978\n",
            "Epoch [66/100], Step [50/79], Loss: 0.009681\n",
            "Epoch [66/100], Step [60/79], Loss: 0.008186\n",
            "Epoch [66/100], Step [70/79], Loss: 0.003113\n",
            "Epoch [67/100], Step [10/79], Loss: 0.006043\n",
            "Epoch [67/100], Step [20/79], Loss: 0.006285\n",
            "Epoch [67/100], Step [30/79], Loss: 0.003649\n",
            "Epoch [67/100], Step [40/79], Loss: 0.005183\n",
            "Epoch [67/100], Step [50/79], Loss: 0.007187\n",
            "Epoch [67/100], Step [60/79], Loss: 0.003303\n",
            "Epoch [67/100], Step [70/79], Loss: 0.005620\n",
            "Epoch [68/100], Step [10/79], Loss: 0.004558\n",
            "Epoch [68/100], Step [20/79], Loss: 0.006259\n",
            "Epoch [68/100], Step [30/79], Loss: 0.005666\n",
            "Epoch [68/100], Step [40/79], Loss: 0.006412\n",
            "Epoch [68/100], Step [50/79], Loss: 0.395906\n",
            "Epoch [68/100], Step [60/79], Loss: 0.005464\n",
            "Epoch [68/100], Step [70/79], Loss: 0.009667\n",
            "Epoch [69/100], Step [10/79], Loss: 0.007180\n",
            "Epoch [69/100], Step [20/79], Loss: 0.014719\n",
            "Epoch [69/100], Step [30/79], Loss: 0.006378\n",
            "Epoch [69/100], Step [40/79], Loss: 0.029148\n",
            "Epoch [69/100], Step [50/79], Loss: 0.086388\n",
            "Epoch [69/100], Step [60/79], Loss: 0.018773\n",
            "Epoch [69/100], Step [70/79], Loss: 0.010039\n",
            "Epoch [70/100], Step [10/79], Loss: 0.002820\n",
            "Epoch [70/100], Step [20/79], Loss: 0.004981\n",
            "Epoch [70/100], Step [30/79], Loss: 0.004867\n",
            "Epoch [70/100], Step [40/79], Loss: 0.003214\n",
            "Epoch [70/100], Step [50/79], Loss: 0.010995\n",
            "Epoch [70/100], Step [60/79], Loss: 0.021965\n",
            "Epoch [70/100], Step [70/79], Loss: 0.005895\n",
            "Epoch [71/100], Step [10/79], Loss: 0.003963\n",
            "Epoch [71/100], Step [20/79], Loss: 0.005746\n",
            "Epoch [71/100], Step [30/79], Loss: 0.008318\n",
            "Epoch [71/100], Step [40/79], Loss: 0.006446\n",
            "Epoch [71/100], Step [50/79], Loss: 0.067773\n",
            "Epoch [71/100], Step [60/79], Loss: 0.022611\n",
            "Epoch [71/100], Step [70/79], Loss: 0.007711\n",
            "Epoch [72/100], Step [10/79], Loss: 0.008824\n",
            "Epoch [72/100], Step [20/79], Loss: 0.010463\n",
            "Epoch [72/100], Step [30/79], Loss: 0.007217\n",
            "Epoch [72/100], Step [40/79], Loss: 0.006035\n",
            "Epoch [72/100], Step [50/79], Loss: 0.003430\n",
            "Epoch [72/100], Step [60/79], Loss: 0.003565\n",
            "Epoch [72/100], Step [70/79], Loss: 0.005988\n",
            "Epoch [73/100], Step [10/79], Loss: 0.003997\n",
            "Epoch [73/100], Step [20/79], Loss: 0.005710\n",
            "Epoch [73/100], Step [30/79], Loss: 0.004395\n",
            "Epoch [73/100], Step [40/79], Loss: 0.004324\n",
            "Epoch [73/100], Step [50/79], Loss: 0.024513\n",
            "Epoch [73/100], Step [60/79], Loss: 0.005762\n",
            "Epoch [73/100], Step [70/79], Loss: 0.013464\n",
            "Epoch [74/100], Step [10/79], Loss: 0.008569\n",
            "Epoch [74/100], Step [20/79], Loss: 0.014089\n",
            "Epoch [74/100], Step [30/79], Loss: 0.004329\n",
            "Epoch [74/100], Step [40/79], Loss: 0.006712\n",
            "Epoch [74/100], Step [50/79], Loss: 0.005626\n",
            "Epoch [74/100], Step [60/79], Loss: 0.006628\n",
            "Epoch [74/100], Step [70/79], Loss: 0.014396\n",
            "Epoch [75/100], Step [10/79], Loss: 0.003750\n",
            "Epoch [75/100], Step [20/79], Loss: 0.005775\n",
            "Epoch [75/100], Step [30/79], Loss: 0.005292\n",
            "Epoch [75/100], Step [40/79], Loss: 0.009472\n",
            "Epoch [75/100], Step [50/79], Loss: 0.005704\n",
            "Epoch [75/100], Step [60/79], Loss: 0.009153\n",
            "Epoch [75/100], Step [70/79], Loss: 0.006485\n",
            "Epoch [76/100], Step [10/79], Loss: 0.014016\n",
            "Epoch [76/100], Step [20/79], Loss: 0.004884\n",
            "Epoch [76/100], Step [30/79], Loss: 0.006939\n",
            "Epoch [76/100], Step [40/79], Loss: 0.004978\n",
            "Epoch [76/100], Step [50/79], Loss: 0.107024\n",
            "Epoch [76/100], Step [60/79], Loss: 0.006326\n",
            "Epoch [76/100], Step [70/79], Loss: 0.008588\n",
            "Epoch [77/100], Step [10/79], Loss: 0.008358\n",
            "Epoch [77/100], Step [20/79], Loss: 0.011795\n",
            "Epoch [77/100], Step [30/79], Loss: 0.005711\n",
            "Epoch [77/100], Step [40/79], Loss: 0.001867\n",
            "Epoch [77/100], Step [50/79], Loss: 0.009321\n",
            "Epoch [77/100], Step [60/79], Loss: 0.183025\n",
            "Epoch [77/100], Step [70/79], Loss: 0.013708\n",
            "Epoch [78/100], Step [10/79], Loss: 0.004529\n",
            "Epoch [78/100], Step [20/79], Loss: 0.002551\n",
            "Epoch [78/100], Step [30/79], Loss: 0.004018\n",
            "Epoch [78/100], Step [40/79], Loss: 0.004994\n",
            "Epoch [78/100], Step [50/79], Loss: 0.005578\n",
            "Epoch [78/100], Step [60/79], Loss: 0.006395\n",
            "Epoch [78/100], Step [70/79], Loss: 0.005447\n",
            "Epoch [79/100], Step [10/79], Loss: 0.002104\n",
            "Epoch [79/100], Step [20/79], Loss: 0.004644\n",
            "Epoch [79/100], Step [30/79], Loss: 0.002644\n",
            "Epoch [79/100], Step [40/79], Loss: 0.006068\n",
            "Epoch [79/100], Step [50/79], Loss: 0.007569\n",
            "Epoch [79/100], Step [60/79], Loss: 0.007299\n",
            "Epoch [79/100], Step [70/79], Loss: 0.005157\n",
            "Epoch [80/100], Step [10/79], Loss: 0.006328\n",
            "Epoch [80/100], Step [20/79], Loss: 0.006216\n",
            "Epoch [80/100], Step [30/79], Loss: 0.004847\n",
            "Epoch [80/100], Step [40/79], Loss: 0.004117\n",
            "Epoch [80/100], Step [50/79], Loss: 0.005401\n",
            "Epoch [80/100], Step [60/79], Loss: 0.006466\n",
            "Epoch [80/100], Step [70/79], Loss: 0.004520\n",
            "Epoch [81/100], Step [10/79], Loss: 0.003181\n",
            "Epoch [81/100], Step [20/79], Loss: 0.003378\n",
            "Epoch [81/100], Step [30/79], Loss: 0.003558\n",
            "Epoch [81/100], Step [40/79], Loss: 0.005887\n",
            "Epoch [81/100], Step [50/79], Loss: 0.004661\n",
            "Epoch [81/100], Step [60/79], Loss: 0.023457\n",
            "Epoch [81/100], Step [70/79], Loss: 0.003453\n",
            "Epoch [82/100], Step [10/79], Loss: 0.005635\n",
            "Epoch [82/100], Step [20/79], Loss: 0.004406\n",
            "Epoch [82/100], Step [30/79], Loss: 0.006205\n",
            "Epoch [82/100], Step [40/79], Loss: 0.003607\n",
            "Epoch [82/100], Step [50/79], Loss: 0.010087\n",
            "Epoch [82/100], Step [60/79], Loss: 0.028586\n",
            "Epoch [82/100], Step [70/79], Loss: 0.005995\n",
            "Epoch [83/100], Step [10/79], Loss: 0.006425\n",
            "Epoch [83/100], Step [20/79], Loss: 0.030719\n",
            "Epoch [83/100], Step [30/79], Loss: 0.004326\n",
            "Epoch [83/100], Step [40/79], Loss: 0.006445\n",
            "Epoch [83/100], Step [50/79], Loss: 0.004573\n",
            "Epoch [83/100], Step [60/79], Loss: 0.010197\n",
            "Epoch [83/100], Step [70/79], Loss: 0.008088\n",
            "Epoch [84/100], Step [10/79], Loss: 0.002807\n",
            "Epoch [84/100], Step [20/79], Loss: 0.009214\n",
            "Epoch [84/100], Step [30/79], Loss: 0.017856\n",
            "Epoch [84/100], Step [40/79], Loss: 0.003902\n",
            "Epoch [84/100], Step [50/79], Loss: 0.006131\n",
            "Epoch [84/100], Step [60/79], Loss: 0.006553\n",
            "Epoch [84/100], Step [70/79], Loss: 0.001297\n",
            "Epoch [85/100], Step [10/79], Loss: 0.005294\n",
            "Epoch [85/100], Step [20/79], Loss: 0.006819\n",
            "Epoch [85/100], Step [30/79], Loss: 0.002272\n",
            "Epoch [85/100], Step [40/79], Loss: 0.011464\n",
            "Epoch [85/100], Step [50/79], Loss: 0.007943\n",
            "Epoch [85/100], Step [60/79], Loss: 0.004253\n",
            "Epoch [85/100], Step [70/79], Loss: 0.004444\n",
            "Epoch [86/100], Step [10/79], Loss: 0.003260\n",
            "Epoch [86/100], Step [20/79], Loss: 0.011057\n",
            "Epoch [86/100], Step [30/79], Loss: 0.004964\n",
            "Epoch [86/100], Step [40/79], Loss: 0.034077\n",
            "Epoch [86/100], Step [50/79], Loss: 0.010354\n",
            "Epoch [86/100], Step [60/79], Loss: 0.007044\n",
            "Epoch [86/100], Step [70/79], Loss: 0.004529\n",
            "Epoch [87/100], Step [10/79], Loss: 0.003676\n",
            "Epoch [87/100], Step [20/79], Loss: 0.002349\n",
            "Epoch [87/100], Step [30/79], Loss: 0.012885\n",
            "Epoch [87/100], Step [40/79], Loss: 0.008132\n",
            "Epoch [87/100], Step [50/79], Loss: 0.010478\n",
            "Epoch [87/100], Step [60/79], Loss: 0.009786\n",
            "Epoch [87/100], Step [70/79], Loss: 0.002323\n",
            "Epoch [88/100], Step [10/79], Loss: 0.009598\n",
            "Epoch [88/100], Step [20/79], Loss: 0.004649\n",
            "Epoch [88/100], Step [30/79], Loss: 0.003227\n",
            "Epoch [88/100], Step [40/79], Loss: 0.004757\n",
            "Epoch [88/100], Step [50/79], Loss: 0.005032\n",
            "Epoch [88/100], Step [60/79], Loss: 0.002152\n",
            "Epoch [88/100], Step [70/79], Loss: 0.003400\n",
            "Epoch [89/100], Step [10/79], Loss: 0.010522\n",
            "Epoch [89/100], Step [20/79], Loss: 0.003076\n",
            "Epoch [89/100], Step [30/79], Loss: 0.003600\n",
            "Epoch [89/100], Step [40/79], Loss: 0.002846\n",
            "Epoch [89/100], Step [50/79], Loss: 0.005414\n",
            "Epoch [89/100], Step [60/79], Loss: 0.016852\n",
            "Epoch [89/100], Step [70/79], Loss: 0.010450\n",
            "Epoch [90/100], Step [10/79], Loss: 0.008744\n",
            "Epoch [90/100], Step [20/79], Loss: 0.005590\n",
            "Epoch [90/100], Step [30/79], Loss: 0.005874\n",
            "Epoch [90/100], Step [40/79], Loss: 0.005330\n",
            "Epoch [90/100], Step [50/79], Loss: 0.003918\n",
            "Epoch [90/100], Step [60/79], Loss: 0.002097\n",
            "Epoch [90/100], Step [70/79], Loss: 0.004997\n",
            "Epoch [91/100], Step [10/79], Loss: 0.006291\n",
            "Epoch [91/100], Step [20/79], Loss: 0.003101\n",
            "Epoch [91/100], Step [30/79], Loss: 0.007683\n",
            "Epoch [91/100], Step [40/79], Loss: 0.004898\n",
            "Epoch [91/100], Step [50/79], Loss: 0.002656\n",
            "Epoch [91/100], Step [60/79], Loss: 0.009693\n",
            "Epoch [91/100], Step [70/79], Loss: 0.005813\n",
            "Epoch [92/100], Step [10/79], Loss: 0.004308\n",
            "Epoch [92/100], Step [20/79], Loss: 0.010016\n",
            "Epoch [92/100], Step [30/79], Loss: 0.004192\n",
            "Epoch [92/100], Step [40/79], Loss: 0.005336\n",
            "Epoch [92/100], Step [50/79], Loss: 0.002238\n",
            "Epoch [92/100], Step [60/79], Loss: 0.001639\n",
            "Epoch [92/100], Step [70/79], Loss: 0.003630\n",
            "Epoch [93/100], Step [10/79], Loss: 0.005114\n",
            "Epoch [93/100], Step [20/79], Loss: 0.003619\n",
            "Epoch [93/100], Step [30/79], Loss: 0.005769\n",
            "Epoch [93/100], Step [40/79], Loss: 0.224949\n",
            "Epoch [93/100], Step [50/79], Loss: 0.005500\n",
            "Epoch [93/100], Step [60/79], Loss: 0.386044\n",
            "Epoch [93/100], Step [70/79], Loss: 0.002455\n",
            "Epoch [94/100], Step [10/79], Loss: 0.005369\n",
            "Epoch [94/100], Step [20/79], Loss: 0.003740\n",
            "Epoch [94/100], Step [30/79], Loss: 0.006176\n",
            "Epoch [94/100], Step [40/79], Loss: 0.004499\n",
            "Epoch [94/100], Step [50/79], Loss: 0.004279\n",
            "Epoch [94/100], Step [60/79], Loss: 0.010058\n",
            "Epoch [94/100], Step [70/79], Loss: 0.003556\n",
            "Epoch [95/100], Step [10/79], Loss: 0.022657\n",
            "Epoch [95/100], Step [20/79], Loss: 0.530546\n",
            "Epoch [95/100], Step [30/79], Loss: 0.014738\n",
            "Epoch [95/100], Step [40/79], Loss: 0.005309\n",
            "Epoch [95/100], Step [50/79], Loss: 0.004586\n",
            "Epoch [95/100], Step [60/79], Loss: 0.003844\n",
            "Epoch [95/100], Step [70/79], Loss: 0.005458\n",
            "Epoch [96/100], Step [10/79], Loss: 0.010537\n",
            "Epoch [96/100], Step [20/79], Loss: 0.006626\n",
            "Epoch [96/100], Step [30/79], Loss: 0.011583\n",
            "Epoch [96/100], Step [40/79], Loss: 0.013525\n",
            "Epoch [96/100], Step [50/79], Loss: 0.002209\n",
            "Epoch [96/100], Step [60/79], Loss: 0.007036\n",
            "Epoch [96/100], Step [70/79], Loss: 0.002248\n",
            "Epoch [97/100], Step [10/79], Loss: 0.011399\n",
            "Epoch [97/100], Step [20/79], Loss: 0.005146\n",
            "Epoch [97/100], Step [30/79], Loss: 0.013058\n",
            "Epoch [97/100], Step [40/79], Loss: 0.006471\n",
            "Epoch [97/100], Step [50/79], Loss: 0.009818\n",
            "Epoch [97/100], Step [60/79], Loss: 0.012323\n",
            "Epoch [97/100], Step [70/79], Loss: 0.009389\n",
            "Epoch [98/100], Step [10/79], Loss: 0.002609\n",
            "Epoch [98/100], Step [20/79], Loss: 0.010666\n",
            "Epoch [98/100], Step [30/79], Loss: 0.004039\n",
            "Epoch [98/100], Step [40/79], Loss: 0.002874\n",
            "Epoch [98/100], Step [50/79], Loss: 0.008297\n",
            "Epoch [98/100], Step [60/79], Loss: 0.011281\n",
            "Epoch [98/100], Step [70/79], Loss: 0.003532\n",
            "Epoch [99/100], Step [10/79], Loss: 0.010780\n",
            "Epoch [99/100], Step [20/79], Loss: 0.005446\n",
            "Epoch [99/100], Step [30/79], Loss: 0.012699\n",
            "Epoch [99/100], Step [40/79], Loss: 0.049705\n",
            "Epoch [99/100], Step [50/79], Loss: 0.002449\n",
            "Epoch [99/100], Step [60/79], Loss: 0.014196\n",
            "Epoch [99/100], Step [70/79], Loss: 0.005702\n",
            "Epoch [100/100], Step [10/79], Loss: 0.004506\n",
            "Epoch [100/100], Step [20/79], Loss: 0.008817\n",
            "Epoch [100/100], Step [30/79], Loss: 0.004344\n",
            "Epoch [100/100], Step [40/79], Loss: 0.007996\n",
            "Epoch [100/100], Step [50/79], Loss: 0.004569\n",
            "Epoch [100/100], Step [60/79], Loss: 0.003569\n",
            "Epoch [100/100], Step [70/79], Loss: 0.003961\n",
            "Finished Training\n"
          ]
        }
      ]
    },
    {
      "cell_type": "code",
      "source": [
        "classes = ('0', '1', '2', '3', '4', '5', '6', '7', '8', '9')"
      ],
      "metadata": {
        "id": "USfK6BreLupc"
      },
      "execution_count": 87,
      "outputs": []
    },
    {
      "cell_type": "code",
      "source": [
        "with torch.no_grad():\n",
        "    n_correct = 0\n",
        "    n_samples = 0\n",
        "    n_class_correct = [0 for i in range(10)]\n",
        "    n_class_samples = [0 for i in range(10)]\n",
        "    for images, labels in valid_dl:\n",
        "        images = images.to(device)\n",
        "        labels = labels.to(device)\n",
        "        outputs = model(images)\n",
        "        #print(\"outputs\", outputs)\n",
        "        # max returns (value ,index)\n",
        "        _, predicted = torch.max(outputs, 1)\n",
        "        n_samples += labels.size(0)\n",
        "        n_correct += (predicted == labels).sum().item()\n",
        "\n",
        "        for i in range(batch_size):\n",
        "            label = labels[i]\n",
        "            pred = predicted[i]\n",
        "            if (label == pred):\n",
        "                n_class_correct[label] += 1\n",
        "            n_class_samples[label] += 1\n",
        "\n",
        "    acc = 100.0 * n_correct / n_samples\n",
        "    print(f'Accuracy of the network: {acc} %')\n",
        "\n",
        "    for i in range(10):\n",
        "        acc = 100.0 * n_class_correct[i] / n_class_samples[i]\n",
        "        print(f'Accuracy of {classes[i]}: {acc} %')"
      ],
      "metadata": {
        "colab": {
          "base_uri": "https://localhost:8080/"
        },
        "id": "LDajqxZMJX9A",
        "outputId": "cb9e5b33-a510-4ec0-ed29-8586d9ad0865"
      },
      "execution_count": 88,
      "outputs": [
        {
          "output_type": "stream",
          "name": "stdout",
          "text": [
            "Accuracy of the network: 50.625 %\n",
            "Accuracy of 0: 42.857142857142854 %\n",
            "Accuracy of 1: 66.66666666666667 %\n",
            "Accuracy of 2: 53.84615384615385 %\n",
            "Accuracy of 3: 41.666666666666664 %\n",
            "Accuracy of 4: 46.666666666666664 %\n",
            "Accuracy of 5: 62.5 %\n",
            "Accuracy of 6: 64.28571428571429 %\n",
            "Accuracy of 7: 37.5 %\n",
            "Accuracy of 8: 35.0 %\n",
            "Accuracy of 9: 61.111111111111114 %\n"
          ]
        }
      ]
    }
  ]
}