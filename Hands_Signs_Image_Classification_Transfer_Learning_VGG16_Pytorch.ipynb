{
  "cells": [
    {
      "cell_type": "markdown",
      "metadata": {
        "id": "view-in-github",
        "colab_type": "text"
      },
      "source": [
        "<a href=\"https://colab.research.google.com/github/Abdulhamid97Mousa/Hand_Signs_Data/blob/main/Hands_Signs_Image_Classification_Transfer_Learning_VGG16_Pytorch.ipynb\" target=\"_parent\"><img src=\"https://colab.research.google.com/assets/colab-badge.svg\" alt=\"Open In Colab\"/></a>"
      ]
    },
    {
      "cell_type": "markdown",
      "metadata": {
        "id": "A57boEmDjdak"
      },
      "source": [
        "## **Dataset: Hand_Signs_From 0 to 9**\n",
        "The dataset is comprised of hand_signs.\n",
        "So we have 10 categories.\n",
        "`0, 1, 2, 3, 4, 5, 6, 7, 8, 9`"
      ]
    },
    {
      "cell_type": "code",
      "execution_count": 1,
      "metadata": {
        "id": "CNN0zoSTKiDp"
      },
      "outputs": [],
      "source": [
        "import errno, os\n",
        "import requests\n",
        "import scipy.io as sio\n",
        "import numpy as np\n",
        "\n",
        "from os import listdir\n",
        "from os.path import isfile, join\n",
        "from zipfile import ZipFile \n",
        "from sklearn.model_selection import train_test_split\n",
        "\n",
        "# Pytorch\n",
        "import torch\n",
        "from torch import nn\n",
        "from torch.nn import functional as F\n",
        "from torch import Tensor\n",
        "from torch.utils.data import TensorDataset, DataLoader\n",
        "from torch.nn.modules.loss import CrossEntropyLoss\n",
        "from torchvision import transforms, datasets, models\n",
        "from torch import optim, cuda\n",
        "from torch.utils.data import  sampler\n",
        "\n",
        "import warnings\n",
        "warnings.filterwarnings('ignore', category=FutureWarning)\n",
        "\n",
        "# Image manipulations\n",
        "from PIL import Image\n",
        "# Useful for examining network\n",
        "from torchsummary import summary\n",
        "# Timing utility\n",
        "from timeit import default_timer as timer\n",
        "\n",
        "# Others\n",
        "from IPython.core.debugger import set_trace\n",
        "from pathlib import Path"
      ]
    },
    {
      "cell_type": "code",
      "execution_count": 2,
      "metadata": {
        "colab": {
          "base_uri": "https://localhost:8080/"
        },
        "id": "KIIB9uYfKoOb",
        "outputId": "50a8a626-a5b2-45cf-f89b-563bbf2858a3"
      },
      "outputs": [
        {
          "output_type": "stream",
          "name": "stdout",
          "text": [
            "Mounted at /content/drive\n"
          ]
        }
      ],
      "source": [
        "from google.colab import drive\n",
        "drive.mount('/content/drive')"
      ]
    },
    {
      "cell_type": "code",
      "execution_count": 3,
      "metadata": {
        "colab": {
          "base_uri": "https://localhost:8080/"
        },
        "id": "vzMOfwmFKpE2",
        "outputId": "9c4f6f97-6816-43a9-80df-a8f70218e44c"
      },
      "outputs": [
        {
          "output_type": "stream",
          "name": "stdout",
          "text": [
            "/content\n",
            "/content/repo.zip\n"
          ]
        }
      ],
      "source": [
        "print(os.getcwd())\n",
        "filename = os.path.join(os.getcwd(), 'repo.zip')\n",
        "print(filename)"
      ]
    },
    {
      "cell_type": "code",
      "execution_count": 4,
      "metadata": {
        "colab": {
          "base_uri": "https://localhost:8080/"
        },
        "id": "9s_IcuWlKq7w",
        "outputId": "1e297ac4-ae7f-4779-c6d1-1489d23a7e94"
      },
      "outputs": [
        {
          "output_type": "stream",
          "name": "stdout",
          "text": [
            "/content/repo.zip\n",
            "Extracting all the files now...\n",
            "Finished Extracting!\n"
          ]
        }
      ],
      "source": [
        "filename = os.path.join(os.getcwd(), 'repo.zip')\n",
        "url = 'https://github.com/Abdulhamid97Mousa/Hand_Signs_Data/archive/refs/heads/main.zip'\n",
        "\n",
        "\n",
        "r = requests.get(url)\n",
        "print(filename)\n",
        "with open(filename, 'wb') as f:\n",
        "    f.write(r.content)\n",
        "\n",
        "\n",
        "file_name = \"/content/repo.zip\"\n",
        "with ZipFile(file_name, 'r') as zip: \n",
        "    # printing all the contents of the zip file \n",
        "  \n",
        "    # extracting all the files \n",
        "    print('Extracting all the files now...') \n",
        "    zip.extractall() \n",
        "    print('Finished Extracting!') "
      ]
    },
    {
      "cell_type": "code",
      "execution_count": 5,
      "metadata": {
        "id": "C5Sco0XUK0zw"
      },
      "outputs": [],
      "source": [
        "def create_dir(dir):\n",
        "  if not os.path.exists(dir):\n",
        "    os.makedirs(dir)\n",
        "    print(\"Created Directory : \", dir)\n",
        "  else:\n",
        "    print(\"Directory already existed : \", dir)\n",
        "  return dir"
      ]
    },
    {
      "cell_type": "code",
      "execution_count": 6,
      "metadata": {
        "colab": {
          "base_uri": "https://localhost:8080/"
        },
        "id": "kOBW-I4DK1cF",
        "outputId": "0980a2a7-27be-449b-f438-b46b235dd3ce"
      },
      "outputs": [
        {
          "output_type": "stream",
          "name": "stdout",
          "text": [
            "Created Directory :  /content/Data\n"
          ]
        }
      ],
      "source": [
        "data = create_dir(\"/content/Data\")"
      ]
    },
    {
      "cell_type": "code",
      "execution_count": 7,
      "metadata": {
        "colab": {
          "base_uri": "https://localhost:8080/"
        },
        "id": "CyRQsq65K2ru",
        "outputId": "17cad9d8-86c8-402e-a040-ee3886b25171"
      },
      "outputs": [
        {
          "output_type": "stream",
          "name": "stdout",
          "text": [
            "Extracting all the files now...\n",
            "Finished Extracting!\n"
          ]
        }
      ],
      "source": [
        "file_name = \"/content/Hand_Signs_Data-main/gesture_images.zip\"\n",
        "with ZipFile(file_name, 'r') as zip: \n",
        "    # printing all the contents of the zip file \n",
        "  \n",
        "    # extracting all the files \n",
        "    print('Extracting all the files now...')\n",
        "    zip.extractall(data) \n",
        "    print('Finished Extracting!') "
      ]
    },
    {
      "cell_type": "code",
      "execution_count": 8,
      "metadata": {
        "id": "VqGbC79JLCiw"
      },
      "outputs": [],
      "source": [
        "from matplotlib import image\n",
        "from matplotlib import pyplot\n",
        "import matplotlib.pyplot as plt\n",
        "from PIL import Image"
      ]
    },
    {
      "cell_type": "code",
      "execution_count": 9,
      "metadata": {
        "id": "ZRiRYUw-LFGW"
      },
      "outputs": [],
      "source": [
        "def load_images(folder):\n",
        "    images = []\n",
        "    for filename in os.listdir(folder):\n",
        "        img = Image.open(os.path.join(folder, filename))\n",
        "        if img is not None:\n",
        "            images.append(img)\n",
        "    return images"
      ]
    },
    {
      "cell_type": "code",
      "execution_count": 10,
      "metadata": {
        "id": "Uh-qJjGMLGzx"
      },
      "outputs": [],
      "source": [
        "# ------------------ getting image files -------------------- #\n",
        "A_0 = load_images('/content/Data/A0')\n",
        "A_1 = load_images('/content/Data/A1')\n",
        "A_2 = load_images('/content/Data/A2')\n",
        "A_3 = load_images('/content/Data/A3')\n",
        "A_4 = load_images('/content/Data/A4')\n",
        "A_5 = load_images('/content/Data/A5')\n",
        "A_6 = load_images('/content/Data/A6')\n",
        "A_7 = load_images('/content/Data/A7')\n",
        "A_8 = load_images('/content/Data/A8')\n",
        "A_9 = load_images('/content/Data/A9')"
      ]
    },
    {
      "cell_type": "code",
      "execution_count": 11,
      "metadata": {
        "colab": {
          "base_uri": "https://localhost:8080/"
        },
        "id": "NDoDKrjTLIBX",
        "outputId": "d4c2aa9d-1dbd-4885-9d67-03da01190e7b"
      },
      "outputs": [
        {
          "output_type": "stream",
          "name": "stdout",
          "text": [
            "159\n",
            "160\n",
            "160\n",
            "160\n",
            "160\n",
            "160\n",
            "160\n",
            "160\n",
            "160\n",
            "160\n"
          ]
        }
      ],
      "source": [
        "# --------------------- knowing the number of images in each file ----------- #\n",
        "print(len(A_0))\n",
        "print(len(A_1))\n",
        "print(len(A_2))\n",
        "print(len(A_3))\n",
        "print(len(A_4))\n",
        "print(len(A_5))\n",
        "print(len(A_6))\n",
        "print(len(A_7))\n",
        "print(len(A_8))\n",
        "print(len(A_9))"
      ]
    },
    {
      "cell_type": "code",
      "execution_count": 12,
      "metadata": {
        "colab": {
          "base_uri": "https://localhost:8080/",
          "height": 286
        },
        "id": "FAHA_VZCLMh9",
        "outputId": "78b2863a-c606-4a4b-aa2e-7fa360ef0ba2"
      },
      "outputs": [
        {
          "output_type": "execute_result",
          "data": {
            "text/plain": [
              "<matplotlib.image.AxesImage at 0x7ff0cffb90d0>"
            ]
          },
          "metadata": {},
          "execution_count": 12
        },
        {
          "output_type": "display_data",
          "data": {
            "text/plain": [
              "<Figure size 432x288 with 1 Axes>"
            ],
            "image/png": "[encoded data removed]"
          },
          "metadata": {
            "needs_background": "light"
          }
        }
      ],
      "source": [
        "# load image as pixel array\n",
        "single_image = Image.open('/content/Data/A0/00009.jpg')\n",
        "# summarize shape of the pixel array\n",
        "single_image = np.array(single_image)\n",
        "plt.imshow(single_image)"
      ]
    },
    {
      "cell_type": "code",
      "execution_count": 13,
      "metadata": {
        "colab": {
          "base_uri": "https://localhost:8080/",
          "height": 295
        },
        "id": "3HX43BvtLNIu",
        "outputId": "ca981de0-81c4-4834-e040-7fe37979d54b"
      },
      "outputs": [
        {
          "output_type": "display_data",
          "data": {
            "text/plain": [
              "<Figure size 432x288 with 1 Axes>"
            ],
            "image/png": "[encoded data removed]"
          },
          "metadata": {
            "needs_background": "light"
          }
        }
      ],
      "source": [
        "single_image_1 = Image.open('/content/Data/A0/00009.jpg')\n",
        "plt.hist(np.array(single_image_1).ravel(), bins=50, density=True)\n",
        "plt.xlabel(\"pixel values\")\n",
        "plt.ylabel(\"relative frequency\")\n",
        "plt.title(\"distribution of pixels\")\n",
        "plt.show()"
      ]
    },
    {
      "cell_type": "code",
      "execution_count": 14,
      "metadata": {
        "id": "m_az5Ny5LPWe"
      },
      "outputs": [],
      "source": [
        "import torchvision.transforms as transforms"
      ]
    },
    {
      "cell_type": "code",
      "execution_count": 15,
      "metadata": {
        "id": "yEVCNkPYLQsn"
      },
      "outputs": [],
      "source": [
        "transform_train = transforms.Compose([transforms.Resize((224,224)),\n",
        "                                      transforms.RandomHorizontalFlip(),\n",
        "                                      transforms.RandomRotation(10),\n",
        "                                      transforms.RandomAffine(0, shear=10, scale=(0.8,1.2)),\n",
        "                                      transforms.ColorJitter(brightness=1, contrast=1, saturation=1),\n",
        "                                      transforms.Normalize((0.5, 0.5, 0.5), (0.5, 0.5, 0.5))\n",
        "                               ])\n",
        " \n",
        " \n",
        "transform = transforms.Compose([transforms.Resize((224,224)),\n",
        "                               transforms.Normalize((0.5, 0.5, 0.5), (0.5, 0.5, 0.5))\n",
        "                               ])\n"
      ]
    },
    {
      "cell_type": "markdown",
      "metadata": {
        "id": "3so-acnYN41k"
      },
      "source": [
        "## **Normalize Pixel Values**\n",
        "For most image data, the pixel values are integers with values between 0 and 255.\n",
        "\n",
        "Neural networks process inputs using small weight values, and inputs with large integer values can disrupt or slow down the learning process. As such it is good practice to normalize the pixel values so that each pixel value has a value between 0 and 1.\n",
        "\n",
        "It is valid for images to have pixel values in the range 0-1 and images can be viewed normally.\n",
        "\n",
        "This can be achieved by dividing all pixels values by the largest pixel value; that is 255. This is performed across all channels, regardless of the actual range of pixel values that are present in the image."
      ]
    },
    {
      "cell_type": "code",
      "execution_count": 16,
      "metadata": {
        "id": "C5KJrjwNLm2L"
      },
      "outputs": [],
      "source": [
        "# example of pixel normalization\n",
        "from numpy import asarray"
      ]
    },
    {
      "cell_type": "code",
      "execution_count": 17,
      "metadata": {
        "id": "FjnYZ_AWN8i7"
      },
      "outputs": [],
      "source": [
        "def normalize_images_in_folder(IMG_FOLDER):\n",
        "    images = []\n",
        "    for img in IMG_FOLDER:\n",
        "        pixels = asarray(img)\n",
        "        # convert from integers to floats\n",
        "        pixels = pixels.astype('float32')\n",
        "        # normalize to the range 0-1\n",
        "        pixels = pixels/255\n",
        "        # confirm the normalization\n",
        "        # print('Min: %.3f, Max: %.3f' % (pixels.min(), pixels.max()))\n",
        "        # calculate global mean and standard deviation\n",
        "        mean, std = pixels.mean(), pixels.std()\n",
        "        # global standardization of pixels\n",
        "        pixels = (pixels - mean) / std\n",
        "        # confirm it had the desired effect\n",
        "        mean, std = pixels.mean(), pixels.std()\n",
        "        # print('Mean: %.3f, Standard Deviation: %.3f' % (mean, std))\n",
        "        images.append(pixels)\n",
        "    return np.array(images).astype(np.float32)"
      ]
    },
    {
      "cell_type": "code",
      "execution_count": 18,
      "metadata": {
        "id": "w4lssyjYN_Q9"
      },
      "outputs": [],
      "source": [
        "def give_image_a_label(images, label):\n",
        "    storage = []\n",
        "    for i in range(images.shape[0]):\n",
        "        storage.append(label)\n",
        "\n",
        "    return np.array(storage).astype(np.float32)"
      ]
    },
    {
      "cell_type": "code",
      "execution_count": 19,
      "metadata": {
        "colab": {
          "base_uri": "https://localhost:8080/"
        },
        "id": "VCBwButEOAx0",
        "outputId": "04f49456-f55a-40a8-c6c3-f7771c427c40"
      },
      "outputs": [
        {
          "output_type": "stream",
          "name": "stdout",
          "text": [
            "(159, 100, 100, 3)\n",
            "(100, 100, 3)\n",
            "0.0\n"
          ]
        }
      ],
      "source": [
        "A_0 = normalize_images_in_folder(A_0)\n",
        "print(A_0.shape)\n",
        "y_0 = give_image_a_label(A_0, 0)\n",
        "print(A_0[0].shape)\n",
        "print(y_0[0])"
      ]
    },
    {
      "cell_type": "code",
      "execution_count": 20,
      "metadata": {
        "colab": {
          "base_uri": "https://localhost:8080/",
          "height": 295
        },
        "id": "RY86JPSGOB8T",
        "outputId": "c619a6f1-d444-4479-c56a-90d0162da879"
      },
      "outputs": [
        {
          "output_type": "display_data",
          "data": {
            "text/plain": [
              "<Figure size 432x288 with 1 Axes>"
            ],
            "image/png": "[encoded data removed]"
          },
          "metadata": {
            "needs_background": "light"
          }
        }
      ],
      "source": [
        "plt.hist(np.array(A_0[1]).ravel(), bins=50, density=True)\n",
        "plt.xlabel(\"pixel values\")\n",
        "plt.ylabel(\"relative frequency\")\n",
        "plt.title(\"distribution of pixels\")\n",
        "plt.show()"
      ]
    },
    {
      "cell_type": "code",
      "execution_count": 21,
      "metadata": {
        "colab": {
          "base_uri": "https://localhost:8080/"
        },
        "id": "tzW2sa8BOEa6",
        "outputId": "2edef2ca-c3b0-444f-d1e3-855046cb271d"
      },
      "outputs": [
        {
          "output_type": "stream",
          "name": "stdout",
          "text": [
            "(100, 100, 3)\n",
            "1.0\n",
            "(100, 100, 3)\n",
            "2.0\n",
            "(100, 100, 3)\n",
            "3.0\n",
            "(100, 100, 3)\n",
            "4.0\n",
            "(100, 100, 3)\n",
            "5.0\n",
            "(100, 100, 3)\n",
            "6.0\n",
            "(100, 100, 3)\n",
            "7.0\n",
            "(100, 100, 3)\n",
            "8.0\n",
            "(100, 100, 3)\n",
            "9.0\n"
          ]
        }
      ],
      "source": [
        "A_1 = normalize_images_in_folder(A_1)\n",
        "y_1 = give_image_a_label(A_1,1)\n",
        "print(A_1[0].shape)\n",
        "print(y_1[0])\n",
        "\n",
        "A_2 = normalize_images_in_folder(A_2)\n",
        "y_2 = give_image_a_label(A_2, 2)\n",
        "print(A_2[0].shape)\n",
        "print(y_2[0])\n",
        "\n",
        "A_3 = normalize_images_in_folder(A_3)\n",
        "y_3 = give_image_a_label(A_3, 3)\n",
        "print(A_3[0].shape)\n",
        "print(y_3[0])\n",
        "\n",
        "A_4 = normalize_images_in_folder(A_4)\n",
        "y_4 = give_image_a_label(A_4,4)\n",
        "print(A_4[0].shape)\n",
        "print(y_4[0])\n",
        "\n",
        "A_5 = normalize_images_in_folder(A_5)\n",
        "y_5 = give_image_a_label(A_5,5)\n",
        "print(A_5[0].shape)\n",
        "print(y_5[0])\n",
        "\n",
        "A_6 = normalize_images_in_folder(A_6)\n",
        "y_6 = give_image_a_label(A_6, 6)\n",
        "print(A_6[0].shape)\n",
        "print(y_6[0])\n",
        "\n",
        "A_7 = normalize_images_in_folder(A_7)\n",
        "y_7 = give_image_a_label(A_7, 7)\n",
        "print(A_7[0].shape)\n",
        "print(y_7[0])\n",
        "\n",
        "\n",
        "A_8 = normalize_images_in_folder(A_8)\n",
        "y_8 = give_image_a_label(A_8, 8)\n",
        "print(A_8[0].shape)\n",
        "print(y_8[0])\n",
        "\n",
        "\n",
        "A_9 = normalize_images_in_folder(A_9)\n",
        "y_9 = give_image_a_label(A_9, 9)\n",
        "print(A_9[0].shape)\n",
        "print(y_9[0])"
      ]
    },
    {
      "cell_type": "code",
      "execution_count": 22,
      "metadata": {
        "id": "mYtZZuKDOHtM"
      },
      "outputs": [],
      "source": [
        "# convert numpy array to torch tensor\n",
        "A_0 = torch.from_numpy(A_0)\n",
        "A_1 = torch.from_numpy(A_1)\n",
        "A_2 = torch.from_numpy(A_2)\n",
        "A_3 = torch.from_numpy(A_3)\n",
        "A_4 = torch.from_numpy(A_4)\n",
        "A_5 = torch.from_numpy(A_5)\n",
        "A_6 = torch.from_numpy(A_6)\n",
        "A_7 = torch.from_numpy(A_7)\n",
        "A_8 = torch.from_numpy(A_8)\n",
        "A_9 = torch.from_numpy(A_9)"
      ]
    },
    {
      "cell_type": "code",
      "execution_count": 23,
      "metadata": {
        "id": "HQN_nxKWOKa8"
      },
      "outputs": [],
      "source": [
        "y_0 = torch.from_numpy(y_0)\n",
        "y_1 = torch.from_numpy(y_1)\n",
        "y_2 = torch.from_numpy(y_2)\n",
        "y_3 = torch.from_numpy(y_3)\n",
        "y_4 = torch.from_numpy(y_4)\n",
        "y_5 = torch.from_numpy(y_5)\n",
        "y_6 = torch.from_numpy(y_6)\n",
        "y_7 = torch.from_numpy(y_7)\n",
        "y_8 = torch.from_numpy(y_8)\n",
        "y_9 = torch.from_numpy(y_9)"
      ]
    },
    {
      "cell_type": "code",
      "execution_count": 24,
      "metadata": {
        "colab": {
          "base_uri": "https://localhost:8080/"
        },
        "id": "ctEvd3EcOMDp",
        "outputId": "ea0906e2-a76c-49f9-919c-ecc8c26d3b7b"
      },
      "outputs": [
        {
          "output_type": "stream",
          "name": "stdout",
          "text": [
            "torch.Size([1599, 100, 100, 3])\n"
          ]
        }
      ],
      "source": [
        "# concatenate the data of normal, ball, inner_race, outer_race\n",
        "X = torch.cat((A_0, A_1, A_2, A_3, A_4, A_5, A_6, A_7, A_8, A_9), dim=0)\n",
        "print(X.shape)"
      ]
    },
    {
      "cell_type": "code",
      "execution_count": 25,
      "metadata": {
        "colab": {
          "base_uri": "https://localhost:8080/"
        },
        "id": "fRO1wUDyOOUP",
        "outputId": "fe3dda8a-21dc-4ff2-c8dc-20d28a454656"
      },
      "outputs": [
        {
          "output_type": "stream",
          "name": "stdout",
          "text": [
            "torch.Size([1599])\n"
          ]
        }
      ],
      "source": [
        "# concatenate the label data of normal, ball, inner_race, outer_race\n",
        "y = torch.cat((y_0, y_1, y_2, y_3, y_4, y_5, y_6, y_7, y_8, y_9), dim=0)\n",
        "print(y.shape)"
      ]
    },
    {
      "cell_type": "code",
      "execution_count": 26,
      "metadata": {
        "colab": {
          "base_uri": "https://localhost:8080/"
        },
        "id": "IR-nsOyXOQ0P",
        "outputId": "355fae5e-83d0-4e9d-b348-ff1543634267"
      },
      "outputs": [
        {
          "output_type": "stream",
          "name": "stdout",
          "text": [
            "torch.Size([1599, 100, 100, 3])\n",
            "torch.Size([1599])\n"
          ]
        }
      ],
      "source": [
        "train = X\n",
        "test = y\n",
        "print(train.shape)\n",
        "print(test.shape)"
      ]
    },
    {
      "cell_type": "code",
      "execution_count": 27,
      "metadata": {
        "colab": {
          "base_uri": "https://localhost:8080/"
        },
        "id": "encru2ykORzm",
        "outputId": "9ab0a72e-fa9c-437a-8163-4696b1f4913c"
      },
      "outputs": [
        {
          "output_type": "stream",
          "name": "stdout",
          "text": [
            "X_train shape: torch.Size([1279, 100, 100, 3]), dtype: <class 'torch.Tensor'>\n",
            "y_train shape: torch.Size([1279])\n"
          ]
        }
      ],
      "source": [
        "# set aside 20% of train and test data for evaluation\n",
        "X_train, X_val, y_train, y_val = train_test_split(train, test,\n",
        "    test_size=0.2, shuffle = True, random_state = 8)\n",
        "print(\"X_train shape: {}, dtype: {}\".format(X_train.shape, type(X_train)))\n",
        "print(\"y_train shape: {}\".format(y_train.shape))\n",
        "# X_train, X_test, y_train, y_test = train_test_split(X_train, y_train, \n",
        "#     test_size=0.25, random_state= 8) # 0.25 x 0.8 = 0.2\n",
        "# print(\"X_train shape: {}, dtype: {}\".format(X_train.shape, type(X_train)))\n",
        "# print(\"y_train shape: {}\".format(y_train.shape))"
      ]
    },
    {
      "cell_type": "code",
      "execution_count": 28,
      "metadata": {
        "colab": {
          "base_uri": "https://localhost:8080/"
        },
        "id": "LyfynYqFOXbz",
        "outputId": "c55644a6-1dc9-4377-cd08-8b7dac704141"
      },
      "outputs": [
        {
          "output_type": "stream",
          "name": "stdout",
          "text": [
            "X_train shape: torch.Size([1279, 100, 100, 3]), dtype: <class 'torch.Tensor'>\n",
            "y_train shape: torch.Size([1279])\n",
            "X_val shape: torch.Size([320, 100, 100, 3])\n",
            "y_val shape: torch.Size([320])\n"
          ]
        }
      ],
      "source": [
        "print(\"X_train shape: {}, dtype: {}\".format(X_train.shape, type(X_train)))\n",
        "print(\"y_train shape: {}\".format(y_train.shape))\n",
        "print(\"X_val shape: {}\".format(X_val.shape))\n",
        "print(\"y_val shape: {}\".format(y_val.shape))\n",
        "# print(\"X_test shape: {}\".format(X_test.shape))\n",
        "# print(\"y_test shape: {}\".format(y_test.shape))"
      ]
    },
    {
      "cell_type": "code",
      "execution_count": 29,
      "metadata": {
        "id": "jxwCRBMKOYvR"
      },
      "outputs": [],
      "source": [
        "# Functions for training\n",
        "def get_dataloader(train_ds, valid_ds, bs):\n",
        "    '''\n",
        "        Get dataloaders of the training and validation set.\n",
        "        Parameter:\n",
        "            train_ds: Dataset\n",
        "                Training set\n",
        "            valid_ds: Dataset\n",
        "                Validation set\n",
        "            bs: Int\n",
        "                Batch size\n",
        "\n",
        "        Return:\n",
        "            (train_dl, valid_dl): Tuple of DataLoader\n",
        "                Dataloaders of training and validation set.\n",
        "    '''\n",
        "    return (\n",
        "        DataLoader(train_ds, batch_size=bs, drop_last=True, shuffle=True),\n",
        "        DataLoader(valid_ds, batch_size=bs, drop_last=True, shuffle=True),\n",
        "        #DataLoader(test_ds, batch_size=bs, drop_last=True)\n",
        "    )\n"
      ]
    },
    {
      "cell_type": "code",
      "execution_count": 30,
      "metadata": {
        "colab": {
          "base_uri": "https://localhost:8080/"
        },
        "id": "OsF0_CrAOaku",
        "outputId": "80c56a8c-be46-4921-a80d-85c3dc17ec94"
      },
      "outputs": [
        {
          "output_type": "stream",
          "name": "stderr",
          "text": [
            "/usr/local/lib/python3.7/dist-packages/ipykernel_launcher.py:2: UserWarning: To copy construct from a tensor, it is recommended to use sourceTensor.clone().detach() or sourceTensor.clone().detach().requires_grad_(True), rather than torch.tensor(sourceTensor).\n",
            "  \n",
            "/usr/local/lib/python3.7/dist-packages/ipykernel_launcher.py:3: UserWarning: To copy construct from a tensor, it is recommended to use sourceTensor.clone().detach() or sourceTensor.clone().detach().requires_grad_(True), rather than torch.tensor(sourceTensor).\n",
            "  This is separate from the ipykernel package so we can avoid doing imports until\n",
            "/usr/local/lib/python3.7/dist-packages/ipykernel_launcher.py:4: UserWarning: To copy construct from a tensor, it is recommended to use sourceTensor.clone().detach() or sourceTensor.clone().detach().requires_grad_(True), rather than torch.tensor(sourceTensor).\n",
            "  after removing the cwd from sys.path.\n",
            "/usr/local/lib/python3.7/dist-packages/ipykernel_launcher.py:5: UserWarning: To copy construct from a tensor, it is recommended to use sourceTensor.clone().detach() or sourceTensor.clone().detach().requires_grad_(True), rather than torch.tensor(sourceTensor).\n",
            "  \"\"\"\n"
          ]
        }
      ],
      "source": [
        "## Create DataLoader of train and validation set\n",
        "X_train = torch.tensor(X_train, dtype=torch.float32)\n",
        "X_valid = torch.tensor(X_val, dtype=torch.float32)\n",
        "y_train = torch.tensor(y_train).type(torch.LongTensor)\n",
        "y_valid = torch.tensor(y_val).type(torch.LongTensor)\n",
        "# X_test = torch.tensor(X_test, dtype=torch.float32)\n",
        "# y_test = torch.tensor(y_test).type(torch.LongTensor)"
      ]
    },
    {
      "cell_type": "code",
      "execution_count": 31,
      "metadata": {
        "id": "qZIqn-Gz11TX"
      },
      "outputs": [],
      "source": [
        "from torch.utils.data import Dataset, TensorDataset"
      ]
    },
    {
      "cell_type": "code",
      "execution_count": 32,
      "metadata": {
        "id": "ZQGl5Z8a1u_q"
      },
      "outputs": [],
      "source": [
        "class CustomTensorDataset(Dataset):\n",
        "    \"\"\"TensorDataset with support of transforms.\n",
        "    \"\"\"\n",
        "    def __init__(self, tensors, transform=None):\n",
        "        assert all(tensors[0].size(0) == tensor.size(0) for tensor in tensors)\n",
        "        self.tensors = tensors\n",
        "        self.transform = transform\n",
        "\n",
        "    def __getitem__(self, index):\n",
        "        x = self.tensors[0][index]\n",
        "\n",
        "        if self.transform:\n",
        "            x = self.transform(x)\n",
        "\n",
        "        y = self.tensors[1][index]\n",
        "\n",
        "        return x, y\n",
        "\n",
        "    def __len__(self):\n",
        "        return self.tensors[0].size(0)\n"
      ]
    },
    {
      "cell_type": "code",
      "execution_count": 33,
      "metadata": {
        "id": "B6x_2GWk26dU"
      },
      "outputs": [],
      "source": [
        "def imshow(img, title=''):\n",
        "    \"\"\"Plot the image batch.\n",
        "    \"\"\"\n",
        "    plt.figure(figsize=(10, 10))\n",
        "    plt.title(title)\n",
        "    plt.imshow(np.transpose( img.numpy(), (1, 2, 0)), cmap='gray')\n",
        "    plt.show()"
      ]
    },
    {
      "cell_type": "code",
      "execution_count": 34,
      "metadata": {
        "id": "mVXHnBT-3BMX"
      },
      "outputs": [],
      "source": [
        "def hflip(tensor):\n",
        "    \"\"\"Flips tensor horizontally.\n",
        "    \"\"\"\n",
        "    tensor = tensor.flip(2)\n",
        "    return tensor"
      ]
    },
    {
      "cell_type": "code",
      "execution_count": 35,
      "metadata": {
        "colab": {
          "base_uri": "https://localhost:8080/"
        },
        "id": "Un0ManXNOdBm",
        "outputId": "f3f5274a-3a33-4f9b-dfcf-edebae8cabc0"
      },
      "outputs": [
        {
          "output_type": "stream",
          "name": "stdout",
          "text": [
            "torch.Size([1279, 3, 100, 100])\n",
            "torch.Size([320, 3, 100, 100])\n"
          ]
        }
      ],
      "source": [
        "# add channel dimesion\n",
        "X_train = X_train.permute(0, 3, 1, 2)\n",
        "X_valid = X_valid.permute(0, 3, 1, 2)\n",
        "# X_test = X_test.permute(0, 3, 1, 2)\n",
        "\n",
        "print(X_train.shape)\n",
        "print(X_valid.shape)\n",
        "# print(X_test.shape)\n",
        "\n",
        "train_ds = CustomTensorDataset(tensors=(X_train, y_train), transform=transform)\n",
        "valid_ds = CustomTensorDataset(tensors = (X_valid, y_valid), transform=transform)\n",
        "# test_ds = CustomTensorDataset(tensors = (X_test, y_test), transform=transform)"
      ]
    },
    {
      "cell_type": "code",
      "execution_count": 36,
      "metadata": {
        "id": "QuSKcXzmOlBG"
      },
      "outputs": [],
      "source": [
        "# bs = batchsize = 64 as defined in the hyperparameters \"look at the above cell\"\n",
        "batch_size = 16\n",
        "train_dl, valid_dl = get_dataloader(train_ds, valid_ds, batch_size)\n"
      ]
    },
    {
      "cell_type": "markdown",
      "metadata": {
        "id": "7yi8NdPGB4-u"
      },
      "source": [
        "## **Image Preprocessing**\n",
        "To prepare the images for our network, we have to resize them to 64 x 64 and normalize each color channel by subtracting a mean value and dividing by a standard deviation. We will also augment our training data in this stage. These operations are done using image transforms, which prepare our data for a neural network."
      ]
    },
    {
      "cell_type": "markdown",
      "metadata": {
        "id": "qvbwjHRIB8gu"
      },
      "source": [
        "### **Data Augmentation**\n",
        "Because there are a limited number of images in some categories, we can use image augmentation to artificially increase the number of images \"seen\" by the network. This means for training, we randomly resize and crop the images and also flip them horizontally. A different random transformation is applied each epoch (while training), so the network effectively sees many different versions of the same image. All of the data is also converted to Torch Tensors before normalization. The validation and testing data is not augmented but is only resized and normalized. The normalization values are standardized for Imagenet."
      ]
    },
    {
      "cell_type": "markdown",
      "metadata": {
        "id": "_7rQU59bCzDh"
      },
      "source": [
        "We'll work with two example images and apply the train transformations."
      ]
    },
    {
      "cell_type": "markdown",
      "metadata": {
        "id": "1QclkWC5C1V6"
      },
      "source": [
        "## **Data Iterators**\n",
        "To avoid loading all of the data into memory at once, we use training DataLoaders. First, we create a dataset object from the image folders, and then we pass these to a DataLoader. At training time, the DataLoader will load the images from disk, apply the transformations, and yield a batch. To train and validation, we'll iterate through all the batches in the respective DataLoader.\n",
        "\n",
        "One crucial aspect is to shuffle the data before passing it to the network. This means that the ordering of the image categories changes on each pass through the data (one pass through the data is one training epoch)."
      ]
    },
    {
      "cell_type": "markdown",
      "metadata": {
        "id": "r_WirV3ufBjC"
      },
      "source": [
        "## **Importing and training the model**\n",
        "The pre-trained model can be imported using Pytorch. The device can further be transferred to use GPU, which can reduce the training time."
      ]
    },
    {
      "cell_type": "markdown",
      "metadata": {
        "id": "b7IXPZmPfHD9"
      },
      "source": [
        "The dataset is further divided into training and validation set to avoid overfitting. Some parameters used in this model while training is as follows:\n",
        "\n",
        "Criterion- Crossentropy loss\n",
        "optimiser- Stochastic gradient descent, learning rate=0.01, momentum=0.9\n",
        "Exponential Learning rate scheduler- This reduces the value of learning rate every 7 steps by a factor of gamma=0.1.\n",
        "A linear fully connected layer is added in the end to converge the output to give two predicted labels."
      ]
    },
    {
      "cell_type": "code",
      "execution_count": 37,
      "metadata": {
        "id": "zt91aVTYPBj5"
      },
      "outputs": [],
      "source": [
        "import torchvision.models as models"
      ]
    },
    {
      "cell_type": "code",
      "execution_count": 63,
      "metadata": {
        "id": "46KjRwPbOqOW"
      },
      "outputs": [],
      "source": [
        "device = torch.device(\"cuda\" if torch.cuda.is_available() else \"cpu\")\n",
        "model = models.vgg16(pretrained=True)\n"
      ]
    },
    {
      "cell_type": "code",
      "execution_count": 39,
      "metadata": {
        "id": "MdqExrfLdvgd"
      },
      "outputs": [],
      "source": [
        "for param in model.features.parameters():\n",
        "    param.requires_grad = False"
      ]
    },
    {
      "cell_type": "code",
      "source": [
        "classes = ('0', '1', '2', '3', '4', '5', '6', '7', '8', '9')"
      ],
      "metadata": {
        "id": "ouG1v0h-Xrs_"
      },
      "execution_count": 40,
      "outputs": []
    },
    {
      "cell_type": "code",
      "source": [
        "import torch.nn as nn\n",
        "\n",
        "n_inputs = model.classifier[6].in_features\n",
        "last_layer = nn.Linear(n_inputs, len(classes))\n",
        "model.classifier[6] = last_layer\n",
        "model.to(device)\n",
        "print(model)"
      ],
      "metadata": {
        "colab": {
          "base_uri": "https://localhost:8080/"
        },
        "id": "lkS6iyf_XqpP",
        "outputId": "c20b526c-7bd1-4273-d168-4da753c42308"
      },
      "execution_count": 64,
      "outputs": [
        {
          "output_type": "stream",
          "name": "stdout",
          "text": [
            "VGG(\n",
            "  (features): Sequential(\n",
            "    (0): Conv2d(3, 64, kernel_size=(3, 3), stride=(1, 1), padding=(1, 1))\n",
            "    (1): ReLU(inplace=True)\n",
            "    (2): Conv2d(64, 64, kernel_size=(3, 3), stride=(1, 1), padding=(1, 1))\n",
            "    (3): ReLU(inplace=True)\n",
            "    (4): MaxPool2d(kernel_size=2, stride=2, padding=0, dilation=1, ceil_mode=False)\n",
            "    (5): Conv2d(64, 128, kernel_size=(3, 3), stride=(1, 1), padding=(1, 1))\n",
            "    (6): ReLU(inplace=True)\n",
            "    (7): Conv2d(128, 128, kernel_size=(3, 3), stride=(1, 1), padding=(1, 1))\n",
            "    (8): ReLU(inplace=True)\n",
            "    (9): MaxPool2d(kernel_size=2, stride=2, padding=0, dilation=1, ceil_mode=False)\n",
            "    (10): Conv2d(128, 256, kernel_size=(3, 3), stride=(1, 1), padding=(1, 1))\n",
            "    (11): ReLU(inplace=True)\n",
            "    (12): Conv2d(256, 256, kernel_size=(3, 3), stride=(1, 1), padding=(1, 1))\n",
            "    (13): ReLU(inplace=True)\n",
            "    (14): Conv2d(256, 256, kernel_size=(3, 3), stride=(1, 1), padding=(1, 1))\n",
            "    (15): ReLU(inplace=True)\n",
            "    (16): MaxPool2d(kernel_size=2, stride=2, padding=0, dilation=1, ceil_mode=False)\n",
            "    (17): Conv2d(256, 512, kernel_size=(3, 3), stride=(1, 1), padding=(1, 1))\n",
            "    (18): ReLU(inplace=True)\n",
            "    (19): Conv2d(512, 512, kernel_size=(3, 3), stride=(1, 1), padding=(1, 1))\n",
            "    (20): ReLU(inplace=True)\n",
            "    (21): Conv2d(512, 512, kernel_size=(3, 3), stride=(1, 1), padding=(1, 1))\n",
            "    (22): ReLU(inplace=True)\n",
            "    (23): MaxPool2d(kernel_size=2, stride=2, padding=0, dilation=1, ceil_mode=False)\n",
            "    (24): Conv2d(512, 512, kernel_size=(3, 3), stride=(1, 1), padding=(1, 1))\n",
            "    (25): ReLU(inplace=True)\n",
            "    (26): Conv2d(512, 512, kernel_size=(3, 3), stride=(1, 1), padding=(1, 1))\n",
            "    (27): ReLU(inplace=True)\n",
            "    (28): Conv2d(512, 512, kernel_size=(3, 3), stride=(1, 1), padding=(1, 1))\n",
            "    (29): ReLU(inplace=True)\n",
            "    (30): MaxPool2d(kernel_size=2, stride=2, padding=0, dilation=1, ceil_mode=False)\n",
            "  )\n",
            "  (avgpool): AdaptiveAvgPool2d(output_size=(7, 7))\n",
            "  (classifier): Sequential(\n",
            "    (0): Linear(in_features=25088, out_features=4096, bias=True)\n",
            "    (1): ReLU(inplace=True)\n",
            "    (2): Dropout(p=0.5, inplace=False)\n",
            "    (3): Linear(in_features=4096, out_features=4096, bias=True)\n",
            "    (4): ReLU(inplace=True)\n",
            "    (5): Dropout(p=0.5, inplace=False)\n",
            "    (6): Linear(in_features=4096, out_features=10, bias=True)\n",
            "  )\n",
            ")\n"
          ]
        }
      ]
    },
    {
      "cell_type": "code",
      "source": [
        "criterion = nn.CrossEntropyLoss()\n",
        "optimizer = torch.optim.Adam(model.parameters(), lr = 0.0001)"
      ],
      "metadata": {
        "id": "M5HcJDe9XVnj"
      },
      "execution_count": 65,
      "outputs": []
    },
    {
      "cell_type": "code",
      "execution_count": 66,
      "metadata": {
        "colab": {
          "base_uri": "https://localhost:8080/"
        },
        "id": "352CSdiZROU1",
        "outputId": "b44e3a2c-2800-4654-8366-b31fca3338ae"
      },
      "outputs": [
        {
          "output_type": "stream",
          "name": "stdout",
          "text": [
            "epoch : 1\n",
            "training loss: 0.1355, acc 0.1470 \n",
            "validation loss: 0.1105, validation acc 0.2938 \n",
            "epoch : 2\n",
            "training loss: 0.0720, acc 0.5434 \n",
            "validation loss: 0.0678, validation acc 0.6344 \n",
            "epoch : 3\n",
            "training loss: 0.0374, acc 0.7647 \n",
            "validation loss: 0.0359, validation acc 0.7750 \n"
          ]
        }
      ],
      "source": [
        "epochs = 3\n",
        "running_loss_history = []\n",
        "running_corrects_history = []\n",
        "val_running_loss_history = []\n",
        "val_running_corrects_history = []\n",
        " \n",
        "for e in range(epochs):\n",
        "  \n",
        "  running_loss = 0.0\n",
        "  running_corrects = 0.0\n",
        "  val_running_loss = 0.0\n",
        "  val_running_corrects = 0.0\n",
        "  \n",
        "  for inputs, labels in train_dl:\n",
        "    inputs = torch.from_numpy(np.array(inputs)).to(device)\n",
        "    labels = torch.from_numpy(np.array(labels)).to(device)\n",
        "    outputs = model(inputs)\n",
        "    loss = criterion(outputs, labels)\n",
        "    \n",
        "    optimizer.zero_grad()\n",
        "    loss.backward()\n",
        "    optimizer.step()\n",
        "    \n",
        "    _, preds = torch.max(outputs, 1)\n",
        "    running_loss += loss.item()\n",
        "    running_corrects += torch.sum(preds == labels.data)\n",
        " \n",
        "  else:\n",
        "    with torch.no_grad():\n",
        "      for val_inputs, val_labels in valid_dl:\n",
        "        val_inputs = torch.from_numpy(np.array(val_inputs)).to(device)\n",
        "        val_labels = torch.from_numpy(np.array(val_labels)).to(device)\n",
        "        val_outputs = model(val_inputs)\n",
        "        val_loss = criterion(val_outputs, val_labels)\n",
        "        \n",
        "        _, val_preds = torch.max(val_outputs, 1)\n",
        "        val_running_loss += val_loss.item()\n",
        "        val_running_corrects += torch.sum(val_preds == val_labels.data)\n",
        "      \n",
        "    epoch_loss = running_loss/len(train_dl.dataset)\n",
        "    epoch_acc = running_corrects.float()/ len(train_dl.dataset)\n",
        "    running_loss_history.append(epoch_loss)\n",
        "    running_corrects_history.append(epoch_acc)\n",
        "    \n",
        "    val_epoch_loss = val_running_loss/len(valid_dl.dataset)\n",
        "    val_epoch_acc = val_running_corrects.float()/ len(valid_dl.dataset)\n",
        "    val_running_loss_history.append(val_epoch_loss)\n",
        "    val_running_corrects_history.append(val_epoch_acc)\n",
        "    print('epoch :', (e+1))\n",
        "    print('training loss: {:.4f}, acc {:.4f} '.format(epoch_loss, epoch_acc.item()))\n",
        "    print('validation loss: {:.4f}, validation acc {:.4f} '.format(val_epoch_loss, val_epoch_acc.item()))"
      ]
    },
    {
      "cell_type": "code",
      "source": [
        "plt.plot(running_loss_history, label='training loss')\n",
        "plt.plot(val_running_loss_history, label='validation loss')\n",
        "plt.legend()"
      ],
      "metadata": {
        "colab": {
          "base_uri": "https://localhost:8080/",
          "height": 286
        },
        "id": "6nFa3PejYLGE",
        "outputId": "823cc25c-563e-4ba4-a379-36c90ab2d790"
      },
      "execution_count": 67,
      "outputs": [
        {
          "output_type": "execute_result",
          "data": {
            "text/plain": [
              "<matplotlib.legend.Legend at 0x7ff0d0312dd0>"
            ]
          },
          "metadata": {},
          "execution_count": 67
        },
        {
          "output_type": "display_data",
          "data": {
            "text/plain": [
              "<Figure size 432x288 with 1 Axes>"
            ],
            "image/png": "[encoded data removed]"
          },
          "metadata": {
            "needs_background": "light"
          }
        }
      ]
    },
    {
      "cell_type": "code",
      "source": [
        "plt.plot(running_corrects_history, label='training accuracy')\n",
        "plt.plot(val_running_corrects_history, label='validation accuracy')\n",
        "plt.legend()"
      ],
      "metadata": {
        "colab": {
          "base_uri": "https://localhost:8080/",
          "height": 737
        },
        "id": "8MdTuqLRYNWY",
        "outputId": "67ce6112-c774-4ccf-c2eb-5b227f7f1745"
      },
      "execution_count": 69,
      "outputs": [
        {
          "output_type": "error",
          "ename": "TypeError",
          "evalue": "ignored",
          "traceback": [
            "\u001b[0;31m---------------------------------------------------------------------------\u001b[0m",
            "\u001b[0;31mAttributeError\u001b[0m                            Traceback (most recent call last)",
            "\u001b[0;32m/usr/local/lib/python3.7/dist-packages/matplotlib/cbook/__init__.py\u001b[0m in \u001b[0;36mindex_of\u001b[0;34m(y)\u001b[0m\n\u001b[1;32m   1626\u001b[0m     \u001b[0;32mtry\u001b[0m\u001b[0;34m:\u001b[0m\u001b[0;34m\u001b[0m\u001b[0;34m\u001b[0m\u001b[0m\n\u001b[0;32m-> 1627\u001b[0;31m         \u001b[0;32mreturn\u001b[0m \u001b[0my\u001b[0m\u001b[0;34m.\u001b[0m\u001b[0mindex\u001b[0m\u001b[0;34m.\u001b[0m\u001b[0mvalues\u001b[0m\u001b[0;34m,\u001b[0m \u001b[0my\u001b[0m\u001b[0;34m.\u001b[0m\u001b[0mvalues\u001b[0m\u001b[0;34m\u001b[0m\u001b[0;34m\u001b[0m\u001b[0m\n\u001b[0m\u001b[1;32m   1628\u001b[0m     \u001b[0;32mexcept\u001b[0m \u001b[0mAttributeError\u001b[0m\u001b[0;34m:\u001b[0m\u001b[0;34m\u001b[0m\u001b[0;34m\u001b[0m\u001b[0m\n",
            "\u001b[0;31mAttributeError\u001b[0m: 'builtin_function_or_method' object has no attribute 'values'",
            "\nDuring handling of the above exception, another exception occurred:\n",
            "\u001b[0;31mTypeError\u001b[0m                                 Traceback (most recent call last)",
            "\u001b[0;32m<ipython-input-69-408c617f5e64>\u001b[0m in \u001b[0;36m<module>\u001b[0;34m()\u001b[0m\n\u001b[0;32m----> 1\u001b[0;31m \u001b[0mplt\u001b[0m\u001b[0;34m.\u001b[0m\u001b[0mplot\u001b[0m\u001b[0;34m(\u001b[0m\u001b[0mrunning_corrects_history\u001b[0m\u001b[0;34m,\u001b[0m \u001b[0mlabel\u001b[0m\u001b[0;34m=\u001b[0m\u001b[0;34m'training accuracy'\u001b[0m\u001b[0;34m)\u001b[0m\u001b[0;34m\u001b[0m\u001b[0;34m\u001b[0m\u001b[0m\n\u001b[0m\u001b[1;32m      2\u001b[0m \u001b[0mplt\u001b[0m\u001b[0;34m.\u001b[0m\u001b[0mplot\u001b[0m\u001b[0;34m(\u001b[0m\u001b[0mval_running_corrects_history\u001b[0m\u001b[0;34m,\u001b[0m \u001b[0mlabel\u001b[0m\u001b[0;34m=\u001b[0m\u001b[0;34m'validation accuracy'\u001b[0m\u001b[0;34m)\u001b[0m\u001b[0;34m\u001b[0m\u001b[0;34m\u001b[0m\u001b[0m\n\u001b[1;32m      3\u001b[0m \u001b[0mplt\u001b[0m\u001b[0;34m.\u001b[0m\u001b[0mlegend\u001b[0m\u001b[0;34m(\u001b[0m\u001b[0;34m)\u001b[0m\u001b[0;34m\u001b[0m\u001b[0;34m\u001b[0m\u001b[0m\n",
            "\u001b[0;32m/usr/local/lib/python3.7/dist-packages/matplotlib/pyplot.py\u001b[0m in \u001b[0;36mplot\u001b[0;34m(scalex, scaley, data, *args, **kwargs)\u001b[0m\n\u001b[1;32m   2761\u001b[0m     return gca().plot(\n\u001b[1;32m   2762\u001b[0m         *args, scalex=scalex, scaley=scaley, **({\"data\": data} if data\n\u001b[0;32m-> 2763\u001b[0;31m         is not None else {}), **kwargs)\n\u001b[0m\u001b[1;32m   2764\u001b[0m \u001b[0;34m\u001b[0m\u001b[0m\n\u001b[1;32m   2765\u001b[0m \u001b[0;34m\u001b[0m\u001b[0m\n",
            "\u001b[0;32m/usr/local/lib/python3.7/dist-packages/matplotlib/axes/_axes.py\u001b[0m in \u001b[0;36mplot\u001b[0;34m(self, scalex, scaley, data, *args, **kwargs)\u001b[0m\n\u001b[1;32m   1645\u001b[0m         \"\"\"\n\u001b[1;32m   1646\u001b[0m         \u001b[0mkwargs\u001b[0m \u001b[0;34m=\u001b[0m \u001b[0mcbook\u001b[0m\u001b[0;34m.\u001b[0m\u001b[0mnormalize_kwargs\u001b[0m\u001b[0;34m(\u001b[0m\u001b[0mkwargs\u001b[0m\u001b[0;34m,\u001b[0m \u001b[0mmlines\u001b[0m\u001b[0;34m.\u001b[0m\u001b[0mLine2D\u001b[0m\u001b[0;34m)\u001b[0m\u001b[0;34m\u001b[0m\u001b[0;34m\u001b[0m\u001b[0m\n\u001b[0;32m-> 1647\u001b[0;31m         \u001b[0mlines\u001b[0m \u001b[0;34m=\u001b[0m \u001b[0;34m[\u001b[0m\u001b[0;34m*\u001b[0m\u001b[0mself\u001b[0m\u001b[0;34m.\u001b[0m\u001b[0m_get_lines\u001b[0m\u001b[0;34m(\u001b[0m\u001b[0;34m*\u001b[0m\u001b[0margs\u001b[0m\u001b[0;34m,\u001b[0m \u001b[0mdata\u001b[0m\u001b[0;34m=\u001b[0m\u001b[0mdata\u001b[0m\u001b[0;34m,\u001b[0m \u001b[0;34m**\u001b[0m\u001b[0mkwargs\u001b[0m\u001b[0;34m)\u001b[0m\u001b[0;34m]\u001b[0m\u001b[0;34m\u001b[0m\u001b[0;34m\u001b[0m\u001b[0m\n\u001b[0m\u001b[1;32m   1648\u001b[0m         \u001b[0;32mfor\u001b[0m \u001b[0mline\u001b[0m \u001b[0;32min\u001b[0m \u001b[0mlines\u001b[0m\u001b[0;34m:\u001b[0m\u001b[0;34m\u001b[0m\u001b[0;34m\u001b[0m\u001b[0m\n\u001b[1;32m   1649\u001b[0m             \u001b[0mself\u001b[0m\u001b[0;34m.\u001b[0m\u001b[0madd_line\u001b[0m\u001b[0;34m(\u001b[0m\u001b[0mline\u001b[0m\u001b[0;34m)\u001b[0m\u001b[0;34m\u001b[0m\u001b[0;34m\u001b[0m\u001b[0m\n",
            "\u001b[0;32m/usr/local/lib/python3.7/dist-packages/matplotlib/axes/_base.py\u001b[0m in \u001b[0;36m__call__\u001b[0;34m(self, *args, **kwargs)\u001b[0m\n\u001b[1;32m    214\u001b[0m                 \u001b[0mthis\u001b[0m \u001b[0;34m+=\u001b[0m \u001b[0margs\u001b[0m\u001b[0;34m[\u001b[0m\u001b[0;36m0\u001b[0m\u001b[0;34m]\u001b[0m\u001b[0;34m,\u001b[0m\u001b[0;34m\u001b[0m\u001b[0;34m\u001b[0m\u001b[0m\n\u001b[1;32m    215\u001b[0m                 \u001b[0margs\u001b[0m \u001b[0;34m=\u001b[0m \u001b[0margs\u001b[0m\u001b[0;34m[\u001b[0m\u001b[0;36m1\u001b[0m\u001b[0;34m:\u001b[0m\u001b[0;34m]\u001b[0m\u001b[0;34m\u001b[0m\u001b[0;34m\u001b[0m\u001b[0m\n\u001b[0;32m--> 216\u001b[0;31m             \u001b[0;32myield\u001b[0m \u001b[0;32mfrom\u001b[0m \u001b[0mself\u001b[0m\u001b[0;34m.\u001b[0m\u001b[0m_plot_args\u001b[0m\u001b[0;34m(\u001b[0m\u001b[0mthis\u001b[0m\u001b[0;34m,\u001b[0m \u001b[0mkwargs\u001b[0m\u001b[0;34m)\u001b[0m\u001b[0;34m\u001b[0m\u001b[0;34m\u001b[0m\u001b[0m\n\u001b[0m\u001b[1;32m    217\u001b[0m \u001b[0;34m\u001b[0m\u001b[0m\n\u001b[1;32m    218\u001b[0m     \u001b[0;32mdef\u001b[0m \u001b[0mget_next_color\u001b[0m\u001b[0;34m(\u001b[0m\u001b[0mself\u001b[0m\u001b[0;34m)\u001b[0m\u001b[0;34m:\u001b[0m\u001b[0;34m\u001b[0m\u001b[0;34m\u001b[0m\u001b[0m\n",
            "\u001b[0;32m/usr/local/lib/python3.7/dist-packages/matplotlib/axes/_base.py\u001b[0m in \u001b[0;36m_plot_args\u001b[0;34m(self, tup, kwargs)\u001b[0m\n\u001b[1;32m    332\u001b[0m             \u001b[0my\u001b[0m \u001b[0;34m=\u001b[0m \u001b[0m_check_1d\u001b[0m\u001b[0;34m(\u001b[0m\u001b[0mtup\u001b[0m\u001b[0;34m[\u001b[0m\u001b[0;34m-\u001b[0m\u001b[0;36m1\u001b[0m\u001b[0;34m]\u001b[0m\u001b[0;34m)\u001b[0m\u001b[0;34m\u001b[0m\u001b[0;34m\u001b[0m\u001b[0m\n\u001b[1;32m    333\u001b[0m         \u001b[0;32melse\u001b[0m\u001b[0;34m:\u001b[0m\u001b[0;34m\u001b[0m\u001b[0;34m\u001b[0m\u001b[0m\n\u001b[0;32m--> 334\u001b[0;31m             \u001b[0mx\u001b[0m\u001b[0;34m,\u001b[0m \u001b[0my\u001b[0m \u001b[0;34m=\u001b[0m \u001b[0mindex_of\u001b[0m\u001b[0;34m(\u001b[0m\u001b[0mtup\u001b[0m\u001b[0;34m[\u001b[0m\u001b[0;34m-\u001b[0m\u001b[0;36m1\u001b[0m\u001b[0;34m]\u001b[0m\u001b[0;34m)\u001b[0m\u001b[0;34m\u001b[0m\u001b[0;34m\u001b[0m\u001b[0m\n\u001b[0m\u001b[1;32m    335\u001b[0m \u001b[0;34m\u001b[0m\u001b[0m\n\u001b[1;32m    336\u001b[0m         \u001b[0;32mif\u001b[0m \u001b[0mself\u001b[0m\u001b[0;34m.\u001b[0m\u001b[0maxes\u001b[0m\u001b[0;34m.\u001b[0m\u001b[0mxaxis\u001b[0m \u001b[0;32mis\u001b[0m \u001b[0;32mnot\u001b[0m \u001b[0;32mNone\u001b[0m\u001b[0;34m:\u001b[0m\u001b[0;34m\u001b[0m\u001b[0;34m\u001b[0m\u001b[0m\n",
            "\u001b[0;32m/usr/local/lib/python3.7/dist-packages/matplotlib/cbook/__init__.py\u001b[0m in \u001b[0;36mindex_of\u001b[0;34m(y)\u001b[0m\n\u001b[1;32m   1627\u001b[0m         \u001b[0;32mreturn\u001b[0m \u001b[0my\u001b[0m\u001b[0;34m.\u001b[0m\u001b[0mindex\u001b[0m\u001b[0;34m.\u001b[0m\u001b[0mvalues\u001b[0m\u001b[0;34m,\u001b[0m \u001b[0my\u001b[0m\u001b[0;34m.\u001b[0m\u001b[0mvalues\u001b[0m\u001b[0;34m\u001b[0m\u001b[0;34m\u001b[0m\u001b[0m\n\u001b[1;32m   1628\u001b[0m     \u001b[0;32mexcept\u001b[0m \u001b[0mAttributeError\u001b[0m\u001b[0;34m:\u001b[0m\u001b[0;34m\u001b[0m\u001b[0;34m\u001b[0m\u001b[0m\n\u001b[0;32m-> 1629\u001b[0;31m         \u001b[0my\u001b[0m \u001b[0;34m=\u001b[0m \u001b[0m_check_1d\u001b[0m\u001b[0;34m(\u001b[0m\u001b[0my\u001b[0m\u001b[0;34m)\u001b[0m\u001b[0;34m\u001b[0m\u001b[0;34m\u001b[0m\u001b[0m\n\u001b[0m\u001b[1;32m   1630\u001b[0m         \u001b[0;32mreturn\u001b[0m \u001b[0mnp\u001b[0m\u001b[0;34m.\u001b[0m\u001b[0marange\u001b[0m\u001b[0;34m(\u001b[0m\u001b[0my\u001b[0m\u001b[0;34m.\u001b[0m\u001b[0mshape\u001b[0m\u001b[0;34m[\u001b[0m\u001b[0;36m0\u001b[0m\u001b[0;34m]\u001b[0m\u001b[0;34m,\u001b[0m \u001b[0mdtype\u001b[0m\u001b[0;34m=\u001b[0m\u001b[0mfloat\u001b[0m\u001b[0;34m)\u001b[0m\u001b[0;34m,\u001b[0m \u001b[0my\u001b[0m\u001b[0;34m\u001b[0m\u001b[0;34m\u001b[0m\u001b[0m\n\u001b[1;32m   1631\u001b[0m \u001b[0;34m\u001b[0m\u001b[0m\n",
            "\u001b[0;32m/usr/local/lib/python3.7/dist-packages/matplotlib/cbook/__init__.py\u001b[0m in \u001b[0;36m_check_1d\u001b[0;34m(x)\u001b[0m\n\u001b[1;32m   1324\u001b[0m     '''\n\u001b[1;32m   1325\u001b[0m     \u001b[0;32mif\u001b[0m \u001b[0;32mnot\u001b[0m \u001b[0mhasattr\u001b[0m\u001b[0;34m(\u001b[0m\u001b[0mx\u001b[0m\u001b[0;34m,\u001b[0m \u001b[0;34m'shape'\u001b[0m\u001b[0;34m)\u001b[0m \u001b[0;32mor\u001b[0m \u001b[0mlen\u001b[0m\u001b[0;34m(\u001b[0m\u001b[0mx\u001b[0m\u001b[0;34m.\u001b[0m\u001b[0mshape\u001b[0m\u001b[0;34m)\u001b[0m \u001b[0;34m<\u001b[0m \u001b[0;36m1\u001b[0m\u001b[0;34m:\u001b[0m\u001b[0;34m\u001b[0m\u001b[0;34m\u001b[0m\u001b[0m\n\u001b[0;32m-> 1326\u001b[0;31m         \u001b[0;32mreturn\u001b[0m \u001b[0mnp\u001b[0m\u001b[0;34m.\u001b[0m\u001b[0matleast_1d\u001b[0m\u001b[0;34m(\u001b[0m\u001b[0mx\u001b[0m\u001b[0;34m)\u001b[0m\u001b[0;34m\u001b[0m\u001b[0;34m\u001b[0m\u001b[0m\n\u001b[0m\u001b[1;32m   1327\u001b[0m     \u001b[0;32melse\u001b[0m\u001b[0;34m:\u001b[0m\u001b[0;34m\u001b[0m\u001b[0;34m\u001b[0m\u001b[0m\n\u001b[1;32m   1328\u001b[0m         \u001b[0;32mtry\u001b[0m\u001b[0;34m:\u001b[0m\u001b[0;34m\u001b[0m\u001b[0;34m\u001b[0m\u001b[0m\n",
            "\u001b[0;32m<__array_function__ internals>\u001b[0m in \u001b[0;36matleast_1d\u001b[0;34m(*args, **kwargs)\u001b[0m\n",
            "\u001b[0;32m/usr/local/lib/python3.7/dist-packages/numpy/core/shape_base.py\u001b[0m in \u001b[0;36matleast_1d\u001b[0;34m(*arys)\u001b[0m\n\u001b[1;32m     63\u001b[0m     \u001b[0mres\u001b[0m \u001b[0;34m=\u001b[0m \u001b[0;34m[\u001b[0m\u001b[0;34m]\u001b[0m\u001b[0;34m\u001b[0m\u001b[0;34m\u001b[0m\u001b[0m\n\u001b[1;32m     64\u001b[0m     \u001b[0;32mfor\u001b[0m \u001b[0mary\u001b[0m \u001b[0;32min\u001b[0m \u001b[0marys\u001b[0m\u001b[0;34m:\u001b[0m\u001b[0;34m\u001b[0m\u001b[0;34m\u001b[0m\u001b[0m\n\u001b[0;32m---> 65\u001b[0;31m         \u001b[0mary\u001b[0m \u001b[0;34m=\u001b[0m \u001b[0masanyarray\u001b[0m\u001b[0;34m(\u001b[0m\u001b[0mary\u001b[0m\u001b[0;34m)\u001b[0m\u001b[0;34m\u001b[0m\u001b[0;34m\u001b[0m\u001b[0m\n\u001b[0m\u001b[1;32m     66\u001b[0m         \u001b[0;32mif\u001b[0m \u001b[0mary\u001b[0m\u001b[0;34m.\u001b[0m\u001b[0mndim\u001b[0m \u001b[0;34m==\u001b[0m \u001b[0;36m0\u001b[0m\u001b[0;34m:\u001b[0m\u001b[0;34m\u001b[0m\u001b[0;34m\u001b[0m\u001b[0m\n\u001b[1;32m     67\u001b[0m             \u001b[0mresult\u001b[0m \u001b[0;34m=\u001b[0m \u001b[0mary\u001b[0m\u001b[0;34m.\u001b[0m\u001b[0mreshape\u001b[0m\u001b[0;34m(\u001b[0m\u001b[0;36m1\u001b[0m\u001b[0;34m)\u001b[0m\u001b[0;34m\u001b[0m\u001b[0;34m\u001b[0m\u001b[0m\n",
            "\u001b[0;32m/usr/local/lib/python3.7/dist-packages/torch/_tensor.py\u001b[0m in \u001b[0;36m__array__\u001b[0;34m(self, dtype)\u001b[0m\n\u001b[1;32m    676\u001b[0m             \u001b[0;32mreturn\u001b[0m \u001b[0mhandle_torch_function\u001b[0m\u001b[0;34m(\u001b[0m\u001b[0mTensor\u001b[0m\u001b[0;34m.\u001b[0m\u001b[0m__array__\u001b[0m\u001b[0;34m,\u001b[0m \u001b[0;34m(\u001b[0m\u001b[0mself\u001b[0m\u001b[0;34m,\u001b[0m\u001b[0;34m)\u001b[0m\u001b[0;34m,\u001b[0m \u001b[0mself\u001b[0m\u001b[0;34m,\u001b[0m \u001b[0mdtype\u001b[0m\u001b[0;34m=\u001b[0m\u001b[0mdtype\u001b[0m\u001b[0;34m)\u001b[0m\u001b[0;34m\u001b[0m\u001b[0;34m\u001b[0m\u001b[0m\n\u001b[1;32m    677\u001b[0m         \u001b[0;32mif\u001b[0m \u001b[0mdtype\u001b[0m \u001b[0;32mis\u001b[0m \u001b[0;32mNone\u001b[0m\u001b[0;34m:\u001b[0m\u001b[0;34m\u001b[0m\u001b[0;34m\u001b[0m\u001b[0m\n\u001b[0;32m--> 678\u001b[0;31m             \u001b[0;32mreturn\u001b[0m \u001b[0mself\u001b[0m\u001b[0;34m.\u001b[0m\u001b[0mnumpy\u001b[0m\u001b[0;34m(\u001b[0m\u001b[0;34m)\u001b[0m\u001b[0;34m\u001b[0m\u001b[0;34m\u001b[0m\u001b[0m\n\u001b[0m\u001b[1;32m    679\u001b[0m         \u001b[0;32melse\u001b[0m\u001b[0;34m:\u001b[0m\u001b[0;34m\u001b[0m\u001b[0;34m\u001b[0m\u001b[0m\n\u001b[1;32m    680\u001b[0m             \u001b[0;32mreturn\u001b[0m \u001b[0mself\u001b[0m\u001b[0;34m.\u001b[0m\u001b[0mnumpy\u001b[0m\u001b[0;34m(\u001b[0m\u001b[0;34m)\u001b[0m\u001b[0;34m.\u001b[0m\u001b[0mastype\u001b[0m\u001b[0;34m(\u001b[0m\u001b[0mdtype\u001b[0m\u001b[0;34m,\u001b[0m \u001b[0mcopy\u001b[0m\u001b[0;34m=\u001b[0m\u001b[0;32mFalse\u001b[0m\u001b[0;34m)\u001b[0m\u001b[0;34m\u001b[0m\u001b[0;34m\u001b[0m\u001b[0m\n",
            "\u001b[0;31mTypeError\u001b[0m: can't convert cuda:0 device type tensor to numpy. Use Tensor.cpu() to copy the tensor to host memory first."
          ]
        },
        {
          "output_type": "display_data",
          "data": {
            "text/plain": [
              "<Figure size 432x288 with 1 Axes>"
            ],
            "image/png": "[encoded data removed]"
          },
          "metadata": {
            "needs_background": "light"
          }
        }
      ]
    }
  ],
  "metadata": {
    "colab": {
      "collapsed_sections": [],
      "name": "Hands_Signs_Image_Classification_Transfer_Learning_VGG16_Pytorch.ipynb",
      "provenance": [],
      "authorship_tag": "ABX9TyPEKW8IRJ9QRXDLKzjyS0j0",
      "include_colab_link": true
    },
    "kernelspec": {
      "display_name": "Python 3",
      "name": "python3"
    },
    "language_info": {
      "name": "python"
    },
    "accelerator": "GPU"
  },
  "nbformat": 4,
  "nbformat_minor": 0
}